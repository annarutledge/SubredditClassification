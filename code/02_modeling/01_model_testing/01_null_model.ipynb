{
 "cells": [
  {
   "cell_type": "markdown",
   "metadata": {},
   "source": [
    "## Imports"
   ]
  },
  {
   "cell_type": "code",
   "execution_count": null,
   "metadata": {},
   "outputs": [],
   "source": [
    "import pandas as pd\n",
    "import numpy as np"
   ]
  },
  {
   "cell_type": "markdown",
   "metadata": {},
   "source": [
    "## Read in cleaned data"
   ]
  },
  {
   "cell_type": "code",
   "execution_count": 2,
   "metadata": {},
   "outputs": [],
   "source": [
    "df_subreddits = pd.read_csv('./00_cleaned_data/subreddits.csv')"
   ]
  },
  {
   "cell_type": "code",
   "execution_count": 3,
   "metadata": {},
   "outputs": [
    {
     "data": {
      "text/html": [
       "<div>\n",
       "<style scoped>\n",
       "    .dataframe tbody tr th:only-of-type {\n",
       "        vertical-align: middle;\n",
       "    }\n",
       "\n",
       "    .dataframe tbody tr th {\n",
       "        vertical-align: top;\n",
       "    }\n",
       "\n",
       "    .dataframe thead th {\n",
       "        text-align: right;\n",
       "    }\n",
       "</style>\n",
       "<table border=\"1\" class=\"dataframe\">\n",
       "  <thead>\n",
       "    <tr style=\"text-align: right;\">\n",
       "      <th></th>\n",
       "      <th>title</th>\n",
       "      <th>text</th>\n",
       "      <th>auth</th>\n",
       "      <th>time</th>\n",
       "      <th>subreddit</th>\n",
       "      <th>full_text</th>\n",
       "      <th>letter_count</th>\n",
       "      <th>word_count</th>\n",
       "      <th>subreddit_code</th>\n",
       "    </tr>\n",
       "  </thead>\n",
       "  <tbody>\n",
       "    <tr>\n",
       "      <th>0</th>\n",
       "      <td>Every woman who is not lesbian is gay, (girls ...</td>\n",
       "      <td>NaN</td>\n",
       "      <td>Altruistic_Rest_9861</td>\n",
       "      <td>1643317371</td>\n",
       "      <td>showerthoughts</td>\n",
       "      <td>Every woman who is not lesbian is gay, (girls ...</td>\n",
       "      <td>131</td>\n",
       "      <td>26</td>\n",
       "      <td>0</td>\n",
       "    </tr>\n",
       "    <tr>\n",
       "      <th>1</th>\n",
       "      <td>Everyone keeps their phone on silent because w...</td>\n",
       "      <td>NaN</td>\n",
       "      <td>smcmahon710</td>\n",
       "      <td>1643317311</td>\n",
       "      <td>showerthoughts</td>\n",
       "      <td>Everyone keeps their phone on silent because w...</td>\n",
       "      <td>81</td>\n",
       "      <td>13</td>\n",
       "      <td>0</td>\n",
       "    </tr>\n",
       "    <tr>\n",
       "      <th>2</th>\n",
       "      <td>A good book will always be new.</td>\n",
       "      <td>NaN</td>\n",
       "      <td>agreatday248</td>\n",
       "      <td>1643317210</td>\n",
       "      <td>showerthoughts</td>\n",
       "      <td>A good book will always be new.</td>\n",
       "      <td>31</td>\n",
       "      <td>7</td>\n",
       "      <td>0</td>\n",
       "    </tr>\n",
       "    <tr>\n",
       "      <th>3</th>\n",
       "      <td>Science can either prove that no deity exists,...</td>\n",
       "      <td>NaN</td>\n",
       "      <td>shimkei</td>\n",
       "      <td>1643317183</td>\n",
       "      <td>showerthoughts</td>\n",
       "      <td>Science can either prove that no deity exists,...</td>\n",
       "      <td>132</td>\n",
       "      <td>26</td>\n",
       "      <td>0</td>\n",
       "    </tr>\n",
       "    <tr>\n",
       "      <th>4</th>\n",
       "      <td>The fact that I have to actively remind myself...</td>\n",
       "      <td>NaN</td>\n",
       "      <td>DawnMayRise</td>\n",
       "      <td>1643317126</td>\n",
       "      <td>showerthoughts</td>\n",
       "      <td>The fact that I have to actively remind myself...</td>\n",
       "      <td>118</td>\n",
       "      <td>22</td>\n",
       "      <td>0</td>\n",
       "    </tr>\n",
       "  </tbody>\n",
       "</table>\n",
       "</div>"
      ],
      "text/plain": [
       "                                               title text  \\\n",
       "0  Every woman who is not lesbian is gay, (girls ...  NaN   \n",
       "1  Everyone keeps their phone on silent because w...  NaN   \n",
       "2                    A good book will always be new.  NaN   \n",
       "3  Science can either prove that no deity exists,...  NaN   \n",
       "4  The fact that I have to actively remind myself...  NaN   \n",
       "\n",
       "                   auth        time       subreddit  \\\n",
       "0  Altruistic_Rest_9861  1643317371  showerthoughts   \n",
       "1           smcmahon710  1643317311  showerthoughts   \n",
       "2          agreatday248  1643317210  showerthoughts   \n",
       "3               shimkei  1643317183  showerthoughts   \n",
       "4           DawnMayRise  1643317126  showerthoughts   \n",
       "\n",
       "                                           full_text  letter_count  \\\n",
       "0  Every woman who is not lesbian is gay, (girls ...           131   \n",
       "1  Everyone keeps their phone on silent because w...            81   \n",
       "2                    A good book will always be new.            31   \n",
       "3  Science can either prove that no deity exists,...           132   \n",
       "4  The fact that I have to actively remind myself...           118   \n",
       "\n",
       "   word_count  subreddit_code  \n",
       "0          26               0  \n",
       "1          13               0  \n",
       "2           7               0  \n",
       "3          26               0  \n",
       "4          22               0  "
      ]
     },
     "execution_count": 3,
     "metadata": {},
     "output_type": "execute_result"
    }
   ],
   "source": [
    "df_subreddits.head()"
   ]
  },
  {
   "cell_type": "markdown",
   "metadata": {},
   "source": [
    "## Null model"
   ]
  },
  {
   "cell_type": "code",
   "execution_count": 4,
   "metadata": {},
   "outputs": [],
   "source": [
    "y = df_subreddits['subreddit']"
   ]
  },
  {
   "cell_type": "code",
   "execution_count": 5,
   "metadata": {},
   "outputs": [
    {
     "data": {
      "text/plain": [
       "crazyideas        9887\n",
       "showerthoughts    9511\n",
       "Name: subreddit, dtype: int64"
      ]
     },
     "execution_count": 5,
     "metadata": {},
     "output_type": "execute_result"
    }
   ],
   "source": [
    "y.value_counts()"
   ]
  },
  {
   "cell_type": "code",
   "execution_count": 8,
   "metadata": {},
   "outputs": [],
   "source": [
    "y_null = np.full_like(y, 'crazyideas')"
   ]
  },
  {
   "cell_type": "code",
   "execution_count": 9,
   "metadata": {},
   "outputs": [
    {
     "data": {
      "text/plain": [
       "array(['crazyideas', 'crazyideas', 'crazyideas', ..., 'crazyideas',\n",
       "       'crazyideas', 'crazyideas'], dtype=object)"
      ]
     },
     "execution_count": 9,
     "metadata": {},
     "output_type": "execute_result"
    }
   ],
   "source": [
    "y_null"
   ]
  },
  {
   "cell_type": "markdown",
   "metadata": {},
   "source": [
    "### Null model accuracy"
   ]
  },
  {
   "cell_type": "code",
   "execution_count": 6,
   "metadata": {},
   "outputs": [
    {
     "data": {
      "text/plain": [
       "crazyideas        0.509692\n",
       "showerthoughts    0.490308\n",
       "Name: subreddit, dtype: float64"
      ]
     },
     "execution_count": 6,
     "metadata": {},
     "output_type": "execute_result"
    }
   ],
   "source": [
    "y.value_counts(normalize=True)"
   ]
  },
  {
   "cell_type": "code",
   "execution_count": 17,
   "metadata": {},
   "outputs": [
    {
     "data": {
      "text/plain": [
       "0.5096917207959584"
      ]
     },
     "execution_count": 17,
     "metadata": {},
     "output_type": "execute_result"
    }
   ],
   "source": [
    "from sklearn.metrics import accuracy_score\n",
    "\n",
    "accuracy_score(y, y_null)"
   ]
  },
  {
   "cell_type": "markdown",
   "metadata": {},
   "source": [
    "### For null model that always predicts the subreddit as Showerthoughts (the correct prediction for a slim majority of posts), accuracy would be 50.962%"
   ]
  },
  {
   "cell_type": "markdown",
   "metadata": {},
   "source": [
    "### Null model recall/sensitivity score"
   ]
  },
  {
   "cell_type": "code",
   "execution_count": 11,
   "metadata": {},
   "outputs": [
    {
     "data": {
      "text/plain": [
       "1.0"
      ]
     },
     "execution_count": 11,
     "metadata": {},
     "output_type": "execute_result"
    }
   ],
   "source": [
    "from sklearn.metrics import recall_score\n",
    "\n",
    "recall_score(y, y_null, pos_label='crazyideas')"
   ]
  },
  {
   "cell_type": "markdown",
   "metadata": {},
   "source": [
    "### Null model precision score"
   ]
  },
  {
   "cell_type": "code",
   "execution_count": 14,
   "metadata": {},
   "outputs": [
    {
     "data": {
      "text/plain": [
       "0.5096917207959584"
      ]
     },
     "execution_count": 14,
     "metadata": {},
     "output_type": "execute_result"
    }
   ],
   "source": [
    "from sklearn.metrics import precision_score\n",
    "\n",
    "precision_score(y, y_null, pos_label='crazyideas')"
   ]
  },
  {
   "cell_type": "markdown",
   "metadata": {},
   "source": [
    "### Null model F1-score"
   ]
  },
  {
   "cell_type": "code",
   "execution_count": 16,
   "metadata": {},
   "outputs": [
    {
     "data": {
      "text/plain": [
       "0.6752262250298788"
      ]
     },
     "execution_count": 16,
     "metadata": {},
     "output_type": "execute_result"
    }
   ],
   "source": [
    "from sklearn.metrics import f1_score\n",
    "\n",
    "f1_score(y, y_null, pos_label='crazyideas')"
   ]
  },
  {
   "cell_type": "markdown",
   "metadata": {},
   "source": [
    "### Null model confusion matrix"
   ]
  },
  {
   "cell_type": "code",
   "execution_count": 18,
   "metadata": {},
   "outputs": [
    {
     "data": {
      "image/png": "[encoded data removed]",
      "text/plain": [
       "<Figure size 432x288 with 2 Axes>"
      ]
     },
     "metadata": {
      "needs_background": "light"
     },
     "output_type": "display_data"
    }
   ],
   "source": [
    "from sklearn.metrics import ConfusionMatrixDisplay\n",
    "\n",
    "ConfusionMatrixDisplay.from_predictions(y, y_null, cmap='Greens');"
   ]
  }
 ],
 "metadata": {
  "interpreter": {
   "hash": "c90bd41498bd2909e03bc4813e3fc894d3d64fd4c32b3cf57272642761dbfb5b"
  },
  "kernelspec": {
   "display_name": "Python 3.9.7 64-bit ('base': conda)",
   "language": "python",
   "name": "python3"
  },
  "language_info": {
   "codemirror_mode": {
    "name": "ipython",
    "version": 3
   },
   "file_extension": ".py",
   "mimetype": "text/x-python",
   "name": "python",
   "nbconvert_exporter": "python",
   "pygments_lexer": "ipython3",
   "version": "3.9.7"
  },
  "orig_nbformat": 4
 },
 "nbformat": 4,
 "nbformat_minor": 2
}
