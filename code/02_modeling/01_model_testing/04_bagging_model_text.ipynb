{
 "cells": [
  {
   "cell_type": "markdown",
   "metadata": {},
   "source": [
    "## Imports"
   ]
  },
  {
   "cell_type": "code",
   "execution_count": 1,
   "metadata": {},
   "outputs": [],
   "source": [
    "import numpy as np\n",
    "import pandas as pd\n",
    "\n",
    "from sklearn.linear_model import LogisticRegression\n",
    "from sklearn.model_selection import train_test_split, GridSearchCV, RandomizedSearchCV\n",
    "from sklearn.pipeline import make_pipeline\n",
    "from sklearn.feature_extraction.text import CountVectorizer\n",
    "from sklearn.compose import make_column_selector, make_column_transformer\n",
    "from sklearn.metrics import ConfusionMatrixDisplay, recall_score, accuracy_score,f1_score, precision_score\n",
    "from sklearn.tree import DecisionTreeClassifier\n",
    "from sklearn.ensemble import BaggingClassifier\n"
   ]
  },
  {
   "cell_type": "markdown",
   "metadata": {},
   "source": [
    "## Read in cleaned data"
   ]
  },
  {
   "cell_type": "code",
   "execution_count": 2,
   "metadata": {},
   "outputs": [],
   "source": [
    "df_subreddits = pd.read_csv('./00_cleaned_data/subreddits.csv')"
   ]
  },
  {
   "cell_type": "code",
   "execution_count": 3,
   "metadata": {},
   "outputs": [
    {
     "data": {
      "text/html": [
       "<div>\n",
       "<style scoped>\n",
       "    .dataframe tbody tr th:only-of-type {\n",
       "        vertical-align: middle;\n",
       "    }\n",
       "\n",
       "    .dataframe tbody tr th {\n",
       "        vertical-align: top;\n",
       "    }\n",
       "\n",
       "    .dataframe thead th {\n",
       "        text-align: right;\n",
       "    }\n",
       "</style>\n",
       "<table border=\"1\" class=\"dataframe\">\n",
       "  <thead>\n",
       "    <tr style=\"text-align: right;\">\n",
       "      <th></th>\n",
       "      <th>title</th>\n",
       "      <th>text</th>\n",
       "      <th>auth</th>\n",
       "      <th>time</th>\n",
       "      <th>subreddit</th>\n",
       "      <th>full_text</th>\n",
       "      <th>letter_count</th>\n",
       "      <th>word_count</th>\n",
       "      <th>subreddit_code</th>\n",
       "    </tr>\n",
       "  </thead>\n",
       "  <tbody>\n",
       "    <tr>\n",
       "      <th>0</th>\n",
       "      <td>Every woman who is not lesbian is gay, (girls ...</td>\n",
       "      <td>NaN</td>\n",
       "      <td>Altruistic_Rest_9861</td>\n",
       "      <td>1643317371</td>\n",
       "      <td>showerthoughts</td>\n",
       "      <td>Every woman who is not lesbian is gay, (girls ...</td>\n",
       "      <td>131</td>\n",
       "      <td>26</td>\n",
       "      <td>0</td>\n",
       "    </tr>\n",
       "    <tr>\n",
       "      <th>1</th>\n",
       "      <td>Everyone keeps their phone on silent because w...</td>\n",
       "      <td>NaN</td>\n",
       "      <td>smcmahon710</td>\n",
       "      <td>1643317311</td>\n",
       "      <td>showerthoughts</td>\n",
       "      <td>Everyone keeps their phone on silent because w...</td>\n",
       "      <td>81</td>\n",
       "      <td>13</td>\n",
       "      <td>0</td>\n",
       "    </tr>\n",
       "    <tr>\n",
       "      <th>2</th>\n",
       "      <td>A good book will always be new.</td>\n",
       "      <td>NaN</td>\n",
       "      <td>agreatday248</td>\n",
       "      <td>1643317210</td>\n",
       "      <td>showerthoughts</td>\n",
       "      <td>A good book will always be new.</td>\n",
       "      <td>31</td>\n",
       "      <td>7</td>\n",
       "      <td>0</td>\n",
       "    </tr>\n",
       "    <tr>\n",
       "      <th>3</th>\n",
       "      <td>Science can either prove that no deity exists,...</td>\n",
       "      <td>NaN</td>\n",
       "      <td>shimkei</td>\n",
       "      <td>1643317183</td>\n",
       "      <td>showerthoughts</td>\n",
       "      <td>Science can either prove that no deity exists,...</td>\n",
       "      <td>132</td>\n",
       "      <td>26</td>\n",
       "      <td>0</td>\n",
       "    </tr>\n",
       "    <tr>\n",
       "      <th>4</th>\n",
       "      <td>The fact that I have to actively remind myself...</td>\n",
       "      <td>NaN</td>\n",
       "      <td>DawnMayRise</td>\n",
       "      <td>1643317126</td>\n",
       "      <td>showerthoughts</td>\n",
       "      <td>The fact that I have to actively remind myself...</td>\n",
       "      <td>118</td>\n",
       "      <td>22</td>\n",
       "      <td>0</td>\n",
       "    </tr>\n",
       "  </tbody>\n",
       "</table>\n",
       "</div>"
      ],
      "text/plain": [
       "                                               title text  \\\n",
       "0  Every woman who is not lesbian is gay, (girls ...  NaN   \n",
       "1  Everyone keeps their phone on silent because w...  NaN   \n",
       "2                    A good book will always be new.  NaN   \n",
       "3  Science can either prove that no deity exists,...  NaN   \n",
       "4  The fact that I have to actively remind myself...  NaN   \n",
       "\n",
       "                   auth        time       subreddit  \\\n",
       "0  Altruistic_Rest_9861  1643317371  showerthoughts   \n",
       "1           smcmahon710  1643317311  showerthoughts   \n",
       "2          agreatday248  1643317210  showerthoughts   \n",
       "3               shimkei  1643317183  showerthoughts   \n",
       "4           DawnMayRise  1643317126  showerthoughts   \n",
       "\n",
       "                                           full_text  letter_count  \\\n",
       "0  Every woman who is not lesbian is gay, (girls ...           131   \n",
       "1  Everyone keeps their phone on silent because w...            81   \n",
       "2                    A good book will always be new.            31   \n",
       "3  Science can either prove that no deity exists,...           132   \n",
       "4  The fact that I have to actively remind myself...           118   \n",
       "\n",
       "   word_count  subreddit_code  \n",
       "0          26               0  \n",
       "1          13               0  \n",
       "2           7               0  \n",
       "3          26               0  \n",
       "4          22               0  "
      ]
     },
     "execution_count": 3,
     "metadata": {},
     "output_type": "execute_result"
    }
   ],
   "source": [
    "df_subreddits.head()"
   ]
  },
  {
   "cell_type": "markdown",
   "metadata": {},
   "source": [
    "## Train - Test - Split"
   ]
  },
  {
   "cell_type": "code",
   "execution_count": 4,
   "metadata": {},
   "outputs": [],
   "source": [
    "X = df_subreddits['full_text']\n",
    "\n",
    "y = df_subreddits['subreddit']"
   ]
  },
  {
   "cell_type": "code",
   "execution_count": 5,
   "metadata": {},
   "outputs": [],
   "source": [
    "X_train, X_test, y_train, y_test = train_test_split(X, y, stratify=y, random_state=10)"
   ]
  },
  {
   "cell_type": "code",
   "execution_count": 6,
   "metadata": {},
   "outputs": [
    {
     "data": {
      "text/plain": [
       "(14548,)"
      ]
     },
     "execution_count": 6,
     "metadata": {},
     "output_type": "execute_result"
    }
   ],
   "source": [
    "X_train.shape"
   ]
  },
  {
   "cell_type": "code",
   "execution_count": 7,
   "metadata": {},
   "outputs": [
    {
     "data": {
      "text/plain": [
       "(4850,)"
      ]
     },
     "execution_count": 7,
     "metadata": {},
     "output_type": "execute_result"
    }
   ],
   "source": [
    "X_test.shape"
   ]
  },
  {
   "cell_type": "code",
   "execution_count": 8,
   "metadata": {},
   "outputs": [
    {
     "data": {
      "text/plain": [
       "(14548,)"
      ]
     },
     "execution_count": 8,
     "metadata": {},
     "output_type": "execute_result"
    }
   ],
   "source": [
    "y_train.shape"
   ]
  },
  {
   "cell_type": "code",
   "execution_count": 9,
   "metadata": {},
   "outputs": [
    {
     "data": {
      "text/plain": [
       "(4850,)"
      ]
     },
     "execution_count": 9,
     "metadata": {},
     "output_type": "execute_result"
    }
   ],
   "source": [
    "y_test.shape"
   ]
  },
  {
   "cell_type": "markdown",
   "metadata": {},
   "source": [
    "## Bagging classifier model"
   ]
  },
  {
   "cell_type": "code",
   "execution_count": 10,
   "metadata": {},
   "outputs": [],
   "source": [
    "cv = CountVectorizer()"
   ]
  },
  {
   "cell_type": "code",
   "execution_count": 11,
   "metadata": {},
   "outputs": [],
   "source": [
    "bc = BaggingClassifier()"
   ]
  },
  {
   "cell_type": "code",
   "execution_count": 12,
   "metadata": {},
   "outputs": [],
   "source": [
    "pipe = make_pipeline(cv, bc)"
   ]
  },
  {
   "cell_type": "code",
   "execution_count": 13,
   "metadata": {},
   "outputs": [],
   "source": [
    "params = {\n",
    "    'baggingclassifier__n_estimators':[10, 20], \n",
    "    'baggingclassifier__max_samples':[0.9, 1.0],\n",
    "    'countvectorizer__ngram_range':[(1,2), (1,3)], \n",
    "    'countvectorizer__max_df':[0.8, 0.9, 1],\n",
    "    'countvectorizer__min_df':[0, 0.1, 0.2],\n",
    "    'countvectorizer__stop_words':[None, 'english']\n",
    "}"
   ]
  },
  {
   "cell_type": "code",
   "execution_count": 14,
   "metadata": {},
   "outputs": [],
   "source": [
    "rs = RandomizedSearchCV(pipe, params, n_jobs=-1)"
   ]
  },
  {
   "cell_type": "code",
   "execution_count": 15,
   "metadata": {},
   "outputs": [
    {
     "name": "stderr",
     "output_type": "stream",
     "text": [
      "/Users/annarutledge/opt/anaconda3/lib/python3.9/site-packages/sklearn/model_selection/_validation.py:372: FitFailedWarning: \n",
      "5 fits failed out of a total of 50.\n",
      "The score on these train-test partitions for these parameters will be set to nan.\n",
      "If these failures are not expected, you can try to debug them by setting error_score='raise'.\n",
      "\n",
      "Below are more details about the failures:\n",
      "--------------------------------------------------------------------------------\n",
      "5 fits failed with the following error:\n",
      "Traceback (most recent call last):\n",
      "  File \"/Users/annarutledge/opt/anaconda3/lib/python3.9/site-packages/sklearn/model_selection/_validation.py\", line 680, in _fit_and_score\n",
      "    estimator.fit(X_train, y_train, **fit_params)\n",
      "  File \"/Users/annarutledge/opt/anaconda3/lib/python3.9/site-packages/sklearn/pipeline.py\", line 390, in fit\n",
      "    Xt = self._fit(X, y, **fit_params_steps)\n",
      "  File \"/Users/annarutledge/opt/anaconda3/lib/python3.9/site-packages/sklearn/pipeline.py\", line 348, in _fit\n",
      "    X, fitted_transformer = fit_transform_one_cached(\n",
      "  File \"/Users/annarutledge/opt/anaconda3/lib/python3.9/site-packages/joblib/memory.py\", line 349, in __call__\n",
      "    return self.func(*args, **kwargs)\n",
      "  File \"/Users/annarutledge/opt/anaconda3/lib/python3.9/site-packages/sklearn/pipeline.py\", line 893, in _fit_transform_one\n",
      "    res = transformer.fit_transform(X, y, **fit_params)\n",
      "  File \"/Users/annarutledge/opt/anaconda3/lib/python3.9/site-packages/sklearn/feature_extraction/text.py\", line 1347, in fit_transform\n",
      "    X, self.stop_words_ = self._limit_features(\n",
      "  File \"/Users/annarutledge/opt/anaconda3/lib/python3.9/site-packages/sklearn/feature_extraction/text.py\", line 1179, in _limit_features\n",
      "    raise ValueError(\n",
      "ValueError: After pruning, no terms remain. Try a lower min_df or a higher max_df.\n",
      "\n",
      "  warnings.warn(some_fits_failed_message, FitFailedWarning)\n",
      "/Users/annarutledge/opt/anaconda3/lib/python3.9/site-packages/sklearn/model_selection/_search.py:969: UserWarning: One or more of the test scores are non-finite: [0.54612341 0.65589758 0.71081941 0.54536742 0.50797369 0.78684308\n",
      " 0.70367066        nan 0.74738809 0.79172338]\n",
      "  warnings.warn(\n"
     ]
    },
    {
     "data": {
      "text/plain": [
       "RandomizedSearchCV(estimator=Pipeline(steps=[('countvectorizer',\n",
       "                                              CountVectorizer()),\n",
       "                                             ('baggingclassifier',\n",
       "                                              BaggingClassifier())]),\n",
       "                   n_jobs=-1,\n",
       "                   param_distributions={'baggingclassifier__max_samples': [0.9,\n",
       "                                                                           1.0],\n",
       "                                        'baggingclassifier__n_estimators': [10,\n",
       "                                                                            20],\n",
       "                                        'countvectorizer__max_df': [0.8, 0.9,\n",
       "                                                                    1],\n",
       "                                        'countvectorizer__min_df': [0, 0.1,\n",
       "                                                                    0.2],\n",
       "                                        'countvectorizer__ngram_range': [(1, 2),\n",
       "                                                                         (1,\n",
       "                                                                          3)],\n",
       "                                        'countvectorizer__stop_words': [None,\n",
       "                                                                        'english']})"
      ]
     },
     "execution_count": 15,
     "metadata": {},
     "output_type": "execute_result"
    }
   ],
   "source": [
    "rs.fit(X_train, y_train)"
   ]
  },
  {
   "cell_type": "code",
   "execution_count": 16,
   "metadata": {},
   "outputs": [
    {
     "data": {
      "text/plain": [
       "Pipeline(steps=[('countvectorizer',\n",
       "                 CountVectorizer(max_df=0.9, min_df=0, ngram_range=(1, 2))),\n",
       "                ('baggingclassifier', BaggingClassifier(n_estimators=20))])"
      ]
     },
     "execution_count": 16,
     "metadata": {},
     "output_type": "execute_result"
    }
   ],
   "source": [
    "rs.best_estimator_"
   ]
  },
  {
   "cell_type": "code",
   "execution_count": 17,
   "metadata": {},
   "outputs": [
    {
     "data": {
      "text/html": [
       "<div>\n",
       "<style scoped>\n",
       "    .dataframe tbody tr th:only-of-type {\n",
       "        vertical-align: middle;\n",
       "    }\n",
       "\n",
       "    .dataframe tbody tr th {\n",
       "        vertical-align: top;\n",
       "    }\n",
       "\n",
       "    .dataframe thead th {\n",
       "        text-align: right;\n",
       "    }\n",
       "</style>\n",
       "<table border=\"1\" class=\"dataframe\">\n",
       "  <thead>\n",
       "    <tr style=\"text-align: right;\">\n",
       "      <th></th>\n",
       "      <th>mean_fit_time</th>\n",
       "      <th>std_fit_time</th>\n",
       "      <th>mean_score_time</th>\n",
       "      <th>std_score_time</th>\n",
       "      <th>param_countvectorizer__stop_words</th>\n",
       "      <th>param_countvectorizer__ngram_range</th>\n",
       "      <th>param_countvectorizer__min_df</th>\n",
       "      <th>param_countvectorizer__max_df</th>\n",
       "      <th>param_baggingclassifier__n_estimators</th>\n",
       "      <th>param_baggingclassifier__max_samples</th>\n",
       "      <th>params</th>\n",
       "      <th>split0_test_score</th>\n",
       "      <th>split1_test_score</th>\n",
       "      <th>split2_test_score</th>\n",
       "      <th>split3_test_score</th>\n",
       "      <th>split4_test_score</th>\n",
       "      <th>mean_test_score</th>\n",
       "      <th>std_test_score</th>\n",
       "      <th>rank_test_score</th>\n",
       "    </tr>\n",
       "  </thead>\n",
       "  <tbody>\n",
       "    <tr>\n",
       "      <th>0</th>\n",
       "      <td>0.847563</td>\n",
       "      <td>0.030816</td>\n",
       "      <td>0.134488</td>\n",
       "      <td>0.011319</td>\n",
       "      <td>english</td>\n",
       "      <td>(1, 2)</td>\n",
       "      <td>0.1</td>\n",
       "      <td>0.9</td>\n",
       "      <td>20</td>\n",
       "      <td>0.9</td>\n",
       "      <td>{'countvectorizer__stop_words': 'english', 'co...</td>\n",
       "      <td>0.543643</td>\n",
       "      <td>0.542268</td>\n",
       "      <td>0.549141</td>\n",
       "      <td>0.549673</td>\n",
       "      <td>0.545892</td>\n",
       "      <td>0.546123</td>\n",
       "      <td>0.002925</td>\n",
       "      <td>7</td>\n",
       "    </tr>\n",
       "    <tr>\n",
       "      <th>1</th>\n",
       "      <td>2.835435</td>\n",
       "      <td>0.066177</td>\n",
       "      <td>0.239973</td>\n",
       "      <td>0.021277</td>\n",
       "      <td>None</td>\n",
       "      <td>(1, 3)</td>\n",
       "      <td>0.2</td>\n",
       "      <td>0.9</td>\n",
       "      <td>20</td>\n",
       "      <td>0.9</td>\n",
       "      <td>{'countvectorizer__stop_words': None, 'countve...</td>\n",
       "      <td>0.658076</td>\n",
       "      <td>0.643299</td>\n",
       "      <td>0.668385</td>\n",
       "      <td>0.652458</td>\n",
       "      <td>0.657271</td>\n",
       "      <td>0.655898</td>\n",
       "      <td>0.008162</td>\n",
       "      <td>6</td>\n",
       "    </tr>\n",
       "    <tr>\n",
       "      <th>2</th>\n",
       "      <td>5.222820</td>\n",
       "      <td>0.164018</td>\n",
       "      <td>0.182608</td>\n",
       "      <td>0.014239</td>\n",
       "      <td>None</td>\n",
       "      <td>(1, 2)</td>\n",
       "      <td>0.1</td>\n",
       "      <td>0.9</td>\n",
       "      <td>20</td>\n",
       "      <td>1.0</td>\n",
       "      <td>{'countvectorizer__stop_words': None, 'countve...</td>\n",
       "      <td>0.733333</td>\n",
       "      <td>0.701031</td>\n",
       "      <td>0.697251</td>\n",
       "      <td>0.710897</td>\n",
       "      <td>0.711585</td>\n",
       "      <td>0.710819</td>\n",
       "      <td>0.012549</td>\n",
       "      <td>4</td>\n",
       "    </tr>\n",
       "    <tr>\n",
       "      <th>3</th>\n",
       "      <td>1.020100</td>\n",
       "      <td>0.031460</td>\n",
       "      <td>0.169438</td>\n",
       "      <td>0.012675</td>\n",
       "      <td>english</td>\n",
       "      <td>(1, 3)</td>\n",
       "      <td>0.1</td>\n",
       "      <td>0.9</td>\n",
       "      <td>20</td>\n",
       "      <td>1.0</td>\n",
       "      <td>{'countvectorizer__stop_words': 'english', 'co...</td>\n",
       "      <td>0.539863</td>\n",
       "      <td>0.542268</td>\n",
       "      <td>0.548797</td>\n",
       "      <td>0.549330</td>\n",
       "      <td>0.546580</td>\n",
       "      <td>0.545367</td>\n",
       "      <td>0.003711</td>\n",
       "      <td>8</td>\n",
       "    </tr>\n",
       "    <tr>\n",
       "      <th>4</th>\n",
       "      <td>2335.956433</td>\n",
       "      <td>43.998411</td>\n",
       "      <td>1.507043</td>\n",
       "      <td>0.202797</td>\n",
       "      <td>None</td>\n",
       "      <td>(1, 2)</td>\n",
       "      <td>0</td>\n",
       "      <td>1</td>\n",
       "      <td>20</td>\n",
       "      <td>0.9</td>\n",
       "      <td>{'countvectorizer__stop_words': None, 'countve...</td>\n",
       "      <td>0.508935</td>\n",
       "      <td>0.502749</td>\n",
       "      <td>0.510997</td>\n",
       "      <td>0.509797</td>\n",
       "      <td>0.507391</td>\n",
       "      <td>0.507974</td>\n",
       "      <td>0.002864</td>\n",
       "      <td>9</td>\n",
       "    </tr>\n",
       "    <tr>\n",
       "      <th>5</th>\n",
       "      <td>147.363018</td>\n",
       "      <td>4.782065</td>\n",
       "      <td>0.403076</td>\n",
       "      <td>0.015898</td>\n",
       "      <td>None</td>\n",
       "      <td>(1, 2)</td>\n",
       "      <td>0</td>\n",
       "      <td>0.8</td>\n",
       "      <td>20</td>\n",
       "      <td>0.9</td>\n",
       "      <td>{'countvectorizer__stop_words': None, 'countve...</td>\n",
       "      <td>0.789691</td>\n",
       "      <td>0.782818</td>\n",
       "      <td>0.794845</td>\n",
       "      <td>0.791337</td>\n",
       "      <td>0.775524</td>\n",
       "      <td>0.786843</td>\n",
       "      <td>0.006880</td>\n",
       "      <td>2</td>\n",
       "    </tr>\n",
       "    <tr>\n",
       "      <th>6</th>\n",
       "      <td>3.315426</td>\n",
       "      <td>0.068864</td>\n",
       "      <td>0.225353</td>\n",
       "      <td>0.039191</td>\n",
       "      <td>None</td>\n",
       "      <td>(1, 2)</td>\n",
       "      <td>0.1</td>\n",
       "      <td>0.8</td>\n",
       "      <td>10</td>\n",
       "      <td>0.9</td>\n",
       "      <td>{'countvectorizer__stop_words': None, 'countve...</td>\n",
       "      <td>0.730241</td>\n",
       "      <td>0.682818</td>\n",
       "      <td>0.697251</td>\n",
       "      <td>0.708491</td>\n",
       "      <td>0.699553</td>\n",
       "      <td>0.703671</td>\n",
       "      <td>0.015635</td>\n",
       "      <td>5</td>\n",
       "    </tr>\n",
       "    <tr>\n",
       "      <th>7</th>\n",
       "      <td>1.123107</td>\n",
       "      <td>0.131896</td>\n",
       "      <td>0.000000</td>\n",
       "      <td>0.000000</td>\n",
       "      <td>english</td>\n",
       "      <td>(1, 3)</td>\n",
       "      <td>0.2</td>\n",
       "      <td>0.8</td>\n",
       "      <td>10</td>\n",
       "      <td>0.9</td>\n",
       "      <td>{'countvectorizer__stop_words': 'english', 'co...</td>\n",
       "      <td>NaN</td>\n",
       "      <td>NaN</td>\n",
       "      <td>NaN</td>\n",
       "      <td>NaN</td>\n",
       "      <td>NaN</td>\n",
       "      <td>NaN</td>\n",
       "      <td>NaN</td>\n",
       "      <td>10</td>\n",
       "    </tr>\n",
       "    <tr>\n",
       "      <th>8</th>\n",
       "      <td>246.452967</td>\n",
       "      <td>15.181883</td>\n",
       "      <td>0.391439</td>\n",
       "      <td>0.020786</td>\n",
       "      <td>english</td>\n",
       "      <td>(1, 2)</td>\n",
       "      <td>0</td>\n",
       "      <td>0.8</td>\n",
       "      <td>20</td>\n",
       "      <td>0.9</td>\n",
       "      <td>{'countvectorizer__stop_words': 'english', 'co...</td>\n",
       "      <td>0.751203</td>\n",
       "      <td>0.746735</td>\n",
       "      <td>0.742268</td>\n",
       "      <td>0.754555</td>\n",
       "      <td>0.742179</td>\n",
       "      <td>0.747388</td>\n",
       "      <td>0.004893</td>\n",
       "      <td>3</td>\n",
       "    </tr>\n",
       "    <tr>\n",
       "      <th>9</th>\n",
       "      <td>163.083255</td>\n",
       "      <td>15.265889</td>\n",
       "      <td>0.376947</td>\n",
       "      <td>0.021128</td>\n",
       "      <td>None</td>\n",
       "      <td>(1, 2)</td>\n",
       "      <td>0</td>\n",
       "      <td>0.9</td>\n",
       "      <td>20</td>\n",
       "      <td>1.0</td>\n",
       "      <td>{'countvectorizer__stop_words': None, 'countve...</td>\n",
       "      <td>0.795189</td>\n",
       "      <td>0.787285</td>\n",
       "      <td>0.801031</td>\n",
       "      <td>0.793744</td>\n",
       "      <td>0.781368</td>\n",
       "      <td>0.791723</td>\n",
       "      <td>0.006777</td>\n",
       "      <td>1</td>\n",
       "    </tr>\n",
       "  </tbody>\n",
       "</table>\n",
       "</div>"
      ],
      "text/plain": [
       "   mean_fit_time  std_fit_time  mean_score_time  std_score_time  \\\n",
       "0       0.847563      0.030816         0.134488        0.011319   \n",
       "1       2.835435      0.066177         0.239973        0.021277   \n",
       "2       5.222820      0.164018         0.182608        0.014239   \n",
       "3       1.020100      0.031460         0.169438        0.012675   \n",
       "4    2335.956433     43.998411         1.507043        0.202797   \n",
       "5     147.363018      4.782065         0.403076        0.015898   \n",
       "6       3.315426      0.068864         0.225353        0.039191   \n",
       "7       1.123107      0.131896         0.000000        0.000000   \n",
       "8     246.452967     15.181883         0.391439        0.020786   \n",
       "9     163.083255     15.265889         0.376947        0.021128   \n",
       "\n",
       "  param_countvectorizer__stop_words param_countvectorizer__ngram_range  \\\n",
       "0                           english                             (1, 2)   \n",
       "1                              None                             (1, 3)   \n",
       "2                              None                             (1, 2)   \n",
       "3                           english                             (1, 3)   \n",
       "4                              None                             (1, 2)   \n",
       "5                              None                             (1, 2)   \n",
       "6                              None                             (1, 2)   \n",
       "7                           english                             (1, 3)   \n",
       "8                           english                             (1, 2)   \n",
       "9                              None                             (1, 2)   \n",
       "\n",
       "  param_countvectorizer__min_df param_countvectorizer__max_df  \\\n",
       "0                           0.1                           0.9   \n",
       "1                           0.2                           0.9   \n",
       "2                           0.1                           0.9   \n",
       "3                           0.1                           0.9   \n",
       "4                             0                             1   \n",
       "5                             0                           0.8   \n",
       "6                           0.1                           0.8   \n",
       "7                           0.2                           0.8   \n",
       "8                             0                           0.8   \n",
       "9                             0                           0.9   \n",
       "\n",
       "  param_baggingclassifier__n_estimators param_baggingclassifier__max_samples  \\\n",
       "0                                    20                                  0.9   \n",
       "1                                    20                                  0.9   \n",
       "2                                    20                                  1.0   \n",
       "3                                    20                                  1.0   \n",
       "4                                    20                                  0.9   \n",
       "5                                    20                                  0.9   \n",
       "6                                    10                                  0.9   \n",
       "7                                    10                                  0.9   \n",
       "8                                    20                                  0.9   \n",
       "9                                    20                                  1.0   \n",
       "\n",
       "                                              params  split0_test_score  \\\n",
       "0  {'countvectorizer__stop_words': 'english', 'co...           0.543643   \n",
       "1  {'countvectorizer__stop_words': None, 'countve...           0.658076   \n",
       "2  {'countvectorizer__stop_words': None, 'countve...           0.733333   \n",
       "3  {'countvectorizer__stop_words': 'english', 'co...           0.539863   \n",
       "4  {'countvectorizer__stop_words': None, 'countve...           0.508935   \n",
       "5  {'countvectorizer__stop_words': None, 'countve...           0.789691   \n",
       "6  {'countvectorizer__stop_words': None, 'countve...           0.730241   \n",
       "7  {'countvectorizer__stop_words': 'english', 'co...                NaN   \n",
       "8  {'countvectorizer__stop_words': 'english', 'co...           0.751203   \n",
       "9  {'countvectorizer__stop_words': None, 'countve...           0.795189   \n",
       "\n",
       "   split1_test_score  split2_test_score  split3_test_score  split4_test_score  \\\n",
       "0           0.542268           0.549141           0.549673           0.545892   \n",
       "1           0.643299           0.668385           0.652458           0.657271   \n",
       "2           0.701031           0.697251           0.710897           0.711585   \n",
       "3           0.542268           0.548797           0.549330           0.546580   \n",
       "4           0.502749           0.510997           0.509797           0.507391   \n",
       "5           0.782818           0.794845           0.791337           0.775524   \n",
       "6           0.682818           0.697251           0.708491           0.699553   \n",
       "7                NaN                NaN                NaN                NaN   \n",
       "8           0.746735           0.742268           0.754555           0.742179   \n",
       "9           0.787285           0.801031           0.793744           0.781368   \n",
       "\n",
       "   mean_test_score  std_test_score  rank_test_score  \n",
       "0         0.546123        0.002925                7  \n",
       "1         0.655898        0.008162                6  \n",
       "2         0.710819        0.012549                4  \n",
       "3         0.545367        0.003711                8  \n",
       "4         0.507974        0.002864                9  \n",
       "5         0.786843        0.006880                2  \n",
       "6         0.703671        0.015635                5  \n",
       "7              NaN             NaN               10  \n",
       "8         0.747388        0.004893                3  \n",
       "9         0.791723        0.006777                1  "
      ]
     },
     "execution_count": 17,
     "metadata": {},
     "output_type": "execute_result"
    }
   ],
   "source": [
    "pd.DataFrame(rs.cv_results_)"
   ]
  },
  {
   "cell_type": "code",
   "execution_count": 18,
   "metadata": {},
   "outputs": [],
   "source": [
    "y_preds = rs.predict(X_test)"
   ]
  },
  {
   "cell_type": "code",
   "execution_count": 19,
   "metadata": {},
   "outputs": [
    {
     "data": {
      "text/plain": [
       "array(['crazyideas', 'crazyideas', 'crazyideas', ..., 'showerthoughts',\n",
       "       'crazyideas', 'crazyideas'], dtype=object)"
      ]
     },
     "execution_count": 19,
     "metadata": {},
     "output_type": "execute_result"
    }
   ],
   "source": [
    "y_preds"
   ]
  },
  {
   "cell_type": "markdown",
   "metadata": {},
   "source": [
    "### Accuracy score"
   ]
  },
  {
   "cell_type": "code",
   "execution_count": 20,
   "metadata": {},
   "outputs": [
    {
     "data": {
      "text/plain": [
       "0.791340206185567"
      ]
     },
     "execution_count": 20,
     "metadata": {},
     "output_type": "execute_result"
    }
   ],
   "source": [
    "rs.score(X_test, y_test)"
   ]
  },
  {
   "cell_type": "code",
   "execution_count": 21,
   "metadata": {},
   "outputs": [
    {
     "data": {
      "text/plain": [
       "0.791340206185567"
      ]
     },
     "execution_count": 21,
     "metadata": {},
     "output_type": "execute_result"
    }
   ],
   "source": [
    "accuracy_score(y_test, y_preds)"
   ]
  },
  {
   "cell_type": "markdown",
   "metadata": {},
   "source": [
    "### Recall/sensitivity score"
   ]
  },
  {
   "cell_type": "code",
   "execution_count": 22,
   "metadata": {},
   "outputs": [
    {
     "data": {
      "text/plain": [
       "0.7872168284789643"
      ]
     },
     "execution_count": 22,
     "metadata": {},
     "output_type": "execute_result"
    }
   ],
   "source": [
    "recall_score(y_test, y_preds, pos_label='crazyideas')"
   ]
  },
  {
   "cell_type": "markdown",
   "metadata": {},
   "source": [
    "### Precision score"
   ]
  },
  {
   "cell_type": "code",
   "execution_count": 23,
   "metadata": {},
   "outputs": [
    {
     "data": {
      "text/plain": [
       "0.8001644736842105"
      ]
     },
     "execution_count": 23,
     "metadata": {},
     "output_type": "execute_result"
    }
   ],
   "source": [
    "precision_score(y_test, y_preds, pos_label='crazyideas')"
   ]
  },
  {
   "cell_type": "markdown",
   "metadata": {},
   "source": [
    "### F1 Score"
   ]
  },
  {
   "cell_type": "code",
   "execution_count": 24,
   "metadata": {},
   "outputs": [
    {
     "data": {
      "text/plain": [
       "0.7936378466557911"
      ]
     },
     "execution_count": 24,
     "metadata": {},
     "output_type": "execute_result"
    }
   ],
   "source": [
    "f1_score(y_test, y_preds, pos_label='crazyideas')"
   ]
  },
  {
   "cell_type": "markdown",
   "metadata": {},
   "source": [
    "### Confusion Matrix"
   ]
  },
  {
   "cell_type": "code",
   "execution_count": 28,
   "metadata": {},
   "outputs": [
    {
     "data": {
      "text/plain": [
       "<sklearn.metrics._plot.confusion_matrix.ConfusionMatrixDisplay at 0x7fbec89fdeb0>"
      ]
     },
     "execution_count": 28,
     "metadata": {},
     "output_type": "execute_result"
    },
    {
     "data": {
      "image/png": "[encoded data removed]",
      "text/plain": [
       "<Figure size 432x288 with 2 Axes>"
      ]
     },
     "metadata": {
      "needs_background": "light"
     },
     "output_type": "display_data"
    }
   ],
   "source": [
    "ConfusionMatrixDisplay.from_predictions(y_test, y_preds, cmap='Greens')"
   ]
  }
 ],
 "metadata": {
  "interpreter": {
   "hash": "c90bd41498bd2909e03bc4813e3fc894d3d64fd4c32b3cf57272642761dbfb5b"
  },
  "kernelspec": {
   "display_name": "Python 3.9.7 64-bit ('base': conda)",
   "language": "python",
   "name": "python3"
  },
  "language_info": {
   "codemirror_mode": {
    "name": "ipython",
    "version": 3
   },
   "file_extension": ".py",
   "mimetype": "text/x-python",
   "name": "python",
   "nbconvert_exporter": "python",
   "pygments_lexer": "ipython3",
   "version": "3.9.7"
  },
  "orig_nbformat": 4
 },
 "nbformat": 4,
 "nbformat_minor": 2
}
