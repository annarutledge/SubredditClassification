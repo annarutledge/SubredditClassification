{
 "cells": [
  {
   "cell_type": "markdown",
   "metadata": {},
   "source": [
    "## Imports"
   ]
  },
  {
   "cell_type": "code",
   "execution_count": 1,
   "metadata": {},
   "outputs": [],
   "source": [
    "import numpy as np\n",
    "import pandas as pd\n",
    "\n",
    "from sklearn.linear_model import LogisticRegression\n",
    "from sklearn.model_selection import train_test_split, GridSearchCV, RandomizedSearchCV\n",
    "from sklearn.pipeline import make_pipeline\n",
    "from sklearn.feature_extraction.text import CountVectorizer\n",
    "from sklearn.compose import make_column_selector, make_column_transformer\n",
    "from sklearn.metrics import ConfusionMatrixDisplay, recall_score, accuracy_score,f1_score, precision_score\n",
    "from sklearn.tree import DecisionTreeClassifier\n",
    "from sklearn.ensemble import GradientBoostingClassifier\n"
   ]
  },
  {
   "cell_type": "markdown",
   "metadata": {},
   "source": [
    "## Read in cleaned data"
   ]
  },
  {
   "cell_type": "code",
   "execution_count": 2,
   "metadata": {},
   "outputs": [],
   "source": [
    "df_subreddits = pd.read_csv('./00_cleaned_data/subreddits.csv')"
   ]
  },
  {
   "cell_type": "code",
   "execution_count": 3,
   "metadata": {},
   "outputs": [
    {
     "data": {
      "text/html": [
       "<div>\n",
       "<style scoped>\n",
       "    .dataframe tbody tr th:only-of-type {\n",
       "        vertical-align: middle;\n",
       "    }\n",
       "\n",
       "    .dataframe tbody tr th {\n",
       "        vertical-align: top;\n",
       "    }\n",
       "\n",
       "    .dataframe thead th {\n",
       "        text-align: right;\n",
       "    }\n",
       "</style>\n",
       "<table border=\"1\" class=\"dataframe\">\n",
       "  <thead>\n",
       "    <tr style=\"text-align: right;\">\n",
       "      <th></th>\n",
       "      <th>title</th>\n",
       "      <th>text</th>\n",
       "      <th>auth</th>\n",
       "      <th>time</th>\n",
       "      <th>subreddit</th>\n",
       "      <th>full_text</th>\n",
       "      <th>letter_count</th>\n",
       "      <th>word_count</th>\n",
       "      <th>subreddit_code</th>\n",
       "    </tr>\n",
       "  </thead>\n",
       "  <tbody>\n",
       "    <tr>\n",
       "      <th>0</th>\n",
       "      <td>Every woman who is not lesbian is gay, (girls ...</td>\n",
       "      <td>NaN</td>\n",
       "      <td>Altruistic_Rest_9861</td>\n",
       "      <td>1643317371</td>\n",
       "      <td>showerthoughts</td>\n",
       "      <td>Every woman who is not lesbian is gay, (girls ...</td>\n",
       "      <td>131</td>\n",
       "      <td>26</td>\n",
       "      <td>0</td>\n",
       "    </tr>\n",
       "    <tr>\n",
       "      <th>1</th>\n",
       "      <td>Everyone keeps their phone on silent because w...</td>\n",
       "      <td>NaN</td>\n",
       "      <td>smcmahon710</td>\n",
       "      <td>1643317311</td>\n",
       "      <td>showerthoughts</td>\n",
       "      <td>Everyone keeps their phone on silent because w...</td>\n",
       "      <td>81</td>\n",
       "      <td>13</td>\n",
       "      <td>0</td>\n",
       "    </tr>\n",
       "    <tr>\n",
       "      <th>2</th>\n",
       "      <td>A good book will always be new.</td>\n",
       "      <td>NaN</td>\n",
       "      <td>agreatday248</td>\n",
       "      <td>1643317210</td>\n",
       "      <td>showerthoughts</td>\n",
       "      <td>A good book will always be new.</td>\n",
       "      <td>31</td>\n",
       "      <td>7</td>\n",
       "      <td>0</td>\n",
       "    </tr>\n",
       "    <tr>\n",
       "      <th>3</th>\n",
       "      <td>Science can either prove that no deity exists,...</td>\n",
       "      <td>NaN</td>\n",
       "      <td>shimkei</td>\n",
       "      <td>1643317183</td>\n",
       "      <td>showerthoughts</td>\n",
       "      <td>Science can either prove that no deity exists,...</td>\n",
       "      <td>132</td>\n",
       "      <td>26</td>\n",
       "      <td>0</td>\n",
       "    </tr>\n",
       "    <tr>\n",
       "      <th>4</th>\n",
       "      <td>The fact that I have to actively remind myself...</td>\n",
       "      <td>NaN</td>\n",
       "      <td>DawnMayRise</td>\n",
       "      <td>1643317126</td>\n",
       "      <td>showerthoughts</td>\n",
       "      <td>The fact that I have to actively remind myself...</td>\n",
       "      <td>118</td>\n",
       "      <td>22</td>\n",
       "      <td>0</td>\n",
       "    </tr>\n",
       "  </tbody>\n",
       "</table>\n",
       "</div>"
      ],
      "text/plain": [
       "                                               title text  \\\n",
       "0  Every woman who is not lesbian is gay, (girls ...  NaN   \n",
       "1  Everyone keeps their phone on silent because w...  NaN   \n",
       "2                    A good book will always be new.  NaN   \n",
       "3  Science can either prove that no deity exists,...  NaN   \n",
       "4  The fact that I have to actively remind myself...  NaN   \n",
       "\n",
       "                   auth        time       subreddit  \\\n",
       "0  Altruistic_Rest_9861  1643317371  showerthoughts   \n",
       "1           smcmahon710  1643317311  showerthoughts   \n",
       "2          agreatday248  1643317210  showerthoughts   \n",
       "3               shimkei  1643317183  showerthoughts   \n",
       "4           DawnMayRise  1643317126  showerthoughts   \n",
       "\n",
       "                                           full_text  letter_count  \\\n",
       "0  Every woman who is not lesbian is gay, (girls ...           131   \n",
       "1  Everyone keeps their phone on silent because w...            81   \n",
       "2                    A good book will always be new.            31   \n",
       "3  Science can either prove that no deity exists,...           132   \n",
       "4  The fact that I have to actively remind myself...           118   \n",
       "\n",
       "   word_count  subreddit_code  \n",
       "0          26               0  \n",
       "1          13               0  \n",
       "2           7               0  \n",
       "3          26               0  \n",
       "4          22               0  "
      ]
     },
     "execution_count": 3,
     "metadata": {},
     "output_type": "execute_result"
    }
   ],
   "source": [
    "df_subreddits.head()"
   ]
  },
  {
   "cell_type": "markdown",
   "metadata": {},
   "source": [
    "## Train - Test - Split"
   ]
  },
  {
   "cell_type": "code",
   "execution_count": 4,
   "metadata": {},
   "outputs": [],
   "source": [
    "X = df_subreddits[['full_text', 'letter_count', 'word_count']]\n",
    "\n",
    "y = df_subreddits['subreddit']"
   ]
  },
  {
   "cell_type": "code",
   "execution_count": 5,
   "metadata": {},
   "outputs": [],
   "source": [
    "X_train, X_test, y_train, y_test = train_test_split(X, y, stratify=y, random_state=10)"
   ]
  },
  {
   "cell_type": "code",
   "execution_count": 6,
   "metadata": {},
   "outputs": [
    {
     "data": {
      "text/plain": [
       "(14548, 3)"
      ]
     },
     "execution_count": 6,
     "metadata": {},
     "output_type": "execute_result"
    }
   ],
   "source": [
    "X_train.shape"
   ]
  },
  {
   "cell_type": "code",
   "execution_count": 7,
   "metadata": {},
   "outputs": [
    {
     "data": {
      "text/plain": [
       "(4850, 3)"
      ]
     },
     "execution_count": 7,
     "metadata": {},
     "output_type": "execute_result"
    }
   ],
   "source": [
    "X_test.shape"
   ]
  },
  {
   "cell_type": "code",
   "execution_count": 8,
   "metadata": {},
   "outputs": [
    {
     "data": {
      "text/plain": [
       "(14548,)"
      ]
     },
     "execution_count": 8,
     "metadata": {},
     "output_type": "execute_result"
    }
   ],
   "source": [
    "y_train.shape"
   ]
  },
  {
   "cell_type": "code",
   "execution_count": 9,
   "metadata": {},
   "outputs": [
    {
     "data": {
      "text/plain": [
       "(4850,)"
      ]
     },
     "execution_count": 9,
     "metadata": {},
     "output_type": "execute_result"
    }
   ],
   "source": [
    "y_test.shape"
   ]
  },
  {
   "cell_type": "markdown",
   "metadata": {},
   "source": [
    "## GradientBoosting Classifier model"
   ]
  },
  {
   "cell_type": "code",
   "execution_count": 10,
   "metadata": {},
   "outputs": [],
   "source": [
    "cv = CountVectorizer()"
   ]
  },
  {
   "cell_type": "code",
   "execution_count": 11,
   "metadata": {},
   "outputs": [],
   "source": [
    "text_vectorizer = make_column_transformer((cv, 'full_text'), remainder='passthrough', n_jobs=-1, verbose_feature_names_out=False)"
   ]
  },
  {
   "cell_type": "code",
   "execution_count": 12,
   "metadata": {},
   "outputs": [],
   "source": [
    "gb = GradientBoostingClassifier()"
   ]
  },
  {
   "cell_type": "code",
   "execution_count": 13,
   "metadata": {},
   "outputs": [],
   "source": [
    "pipe = make_pipeline(text_vectorizer, gb)"
   ]
  },
  {
   "cell_type": "code",
   "execution_count": 14,
   "metadata": {},
   "outputs": [
    {
     "data": {
      "text/plain": [
       "{'memory': None,\n",
       " 'steps': [('columntransformer',\n",
       "   ColumnTransformer(n_jobs=-1, remainder='passthrough',\n",
       "                     transformers=[('countvectorizer', CountVectorizer(),\n",
       "                                    'full_text')],\n",
       "                     verbose_feature_names_out=False)),\n",
       "  ('gradientboostingclassifier', GradientBoostingClassifier())],\n",
       " 'verbose': False,\n",
       " 'columntransformer': ColumnTransformer(n_jobs=-1, remainder='passthrough',\n",
       "                   transformers=[('countvectorizer', CountVectorizer(),\n",
       "                                  'full_text')],\n",
       "                   verbose_feature_names_out=False),\n",
       " 'gradientboostingclassifier': GradientBoostingClassifier(),\n",
       " 'columntransformer__n_jobs': -1,\n",
       " 'columntransformer__remainder': 'passthrough',\n",
       " 'columntransformer__sparse_threshold': 0.3,\n",
       " 'columntransformer__transformer_weights': None,\n",
       " 'columntransformer__transformers': [('countvectorizer',\n",
       "   CountVectorizer(),\n",
       "   'full_text')],\n",
       " 'columntransformer__verbose': False,\n",
       " 'columntransformer__verbose_feature_names_out': False,\n",
       " 'columntransformer__countvectorizer': CountVectorizer(),\n",
       " 'columntransformer__countvectorizer__analyzer': 'word',\n",
       " 'columntransformer__countvectorizer__binary': False,\n",
       " 'columntransformer__countvectorizer__decode_error': 'strict',\n",
       " 'columntransformer__countvectorizer__dtype': numpy.int64,\n",
       " 'columntransformer__countvectorizer__encoding': 'utf-8',\n",
       " 'columntransformer__countvectorizer__input': 'content',\n",
       " 'columntransformer__countvectorizer__lowercase': True,\n",
       " 'columntransformer__countvectorizer__max_df': 1.0,\n",
       " 'columntransformer__countvectorizer__max_features': None,\n",
       " 'columntransformer__countvectorizer__min_df': 1,\n",
       " 'columntransformer__countvectorizer__ngram_range': (1, 1),\n",
       " 'columntransformer__countvectorizer__preprocessor': None,\n",
       " 'columntransformer__countvectorizer__stop_words': None,\n",
       " 'columntransformer__countvectorizer__strip_accents': None,\n",
       " 'columntransformer__countvectorizer__token_pattern': '(?u)\\\\b\\\\w\\\\w+\\\\b',\n",
       " 'columntransformer__countvectorizer__tokenizer': None,\n",
       " 'columntransformer__countvectorizer__vocabulary': None,\n",
       " 'gradientboostingclassifier__ccp_alpha': 0.0,\n",
       " 'gradientboostingclassifier__criterion': 'friedman_mse',\n",
       " 'gradientboostingclassifier__init': None,\n",
       " 'gradientboostingclassifier__learning_rate': 0.1,\n",
       " 'gradientboostingclassifier__loss': 'deviance',\n",
       " 'gradientboostingclassifier__max_depth': 3,\n",
       " 'gradientboostingclassifier__max_features': None,\n",
       " 'gradientboostingclassifier__max_leaf_nodes': None,\n",
       " 'gradientboostingclassifier__min_impurity_decrease': 0.0,\n",
       " 'gradientboostingclassifier__min_samples_leaf': 1,\n",
       " 'gradientboostingclassifier__min_samples_split': 2,\n",
       " 'gradientboostingclassifier__min_weight_fraction_leaf': 0.0,\n",
       " 'gradientboostingclassifier__n_estimators': 100,\n",
       " 'gradientboostingclassifier__n_iter_no_change': None,\n",
       " 'gradientboostingclassifier__random_state': None,\n",
       " 'gradientboostingclassifier__subsample': 1.0,\n",
       " 'gradientboostingclassifier__tol': 0.0001,\n",
       " 'gradientboostingclassifier__validation_fraction': 0.1,\n",
       " 'gradientboostingclassifier__verbose': 0,\n",
       " 'gradientboostingclassifier__warm_start': False}"
      ]
     },
     "execution_count": 14,
     "metadata": {},
     "output_type": "execute_result"
    }
   ],
   "source": [
    "pipe.get_params()"
   ]
  },
  {
   "cell_type": "code",
   "execution_count": 15,
   "metadata": {},
   "outputs": [],
   "source": [
    "params = {\n",
    "    'gradientboostingclassifier__max_depth': [2,3,4],\n",
    "    'gradientboostingclassifier__n_estimators': [100, 125, 150],\n",
    "    'gradientboostingclassifier__learning_rate': [.08, .1, .12], \n",
    "    'columntransformer__countvectorizer__ngram_range':[(1,2), (1,3)], \n",
    "    'columntransformer__countvectorizer__max_df':[0.8, 0.9, 1],\n",
    "    'columntransformer__countvectorizer__min_df':[0, 0.1, 0.2],\n",
    "    'columntransformer__countvectorizer__stop_words':[None, 'english']\n",
    "}"
   ]
  },
  {
   "cell_type": "code",
   "execution_count": 16,
   "metadata": {},
   "outputs": [],
   "source": [
    "gs = GridSearchCV(pipe, params, n_jobs=-1)"
   ]
  },
  {
   "cell_type": "code",
   "execution_count": 17,
   "metadata": {},
   "outputs": [
    {
     "name": "stderr",
     "output_type": "stream",
     "text": [
      "/Users/annarutledge/opt/anaconda3/lib/python3.9/site-packages/sklearn/model_selection/_validation.py:372: FitFailedWarning: \n",
      "1620 fits failed out of a total of 4860.\n",
      "The score on these train-test partitions for these parameters will be set to nan.\n",
      "If these failures are not expected, you can try to debug them by setting error_score='raise'.\n",
      "\n",
      "Below are more details about the failures:\n",
      "--------------------------------------------------------------------------------\n",
      "540 fits failed with the following error:\n",
      "Traceback (most recent call last):\n",
      "  File \"/Users/annarutledge/opt/anaconda3/lib/python3.9/site-packages/sklearn/model_selection/_validation.py\", line 680, in _fit_and_score\n",
      "    estimator.fit(X_train, y_train, **fit_params)\n",
      "  File \"/Users/annarutledge/opt/anaconda3/lib/python3.9/site-packages/sklearn/pipeline.py\", line 390, in fit\n",
      "    Xt = self._fit(X, y, **fit_params_steps)\n",
      "  File \"/Users/annarutledge/opt/anaconda3/lib/python3.9/site-packages/sklearn/pipeline.py\", line 348, in _fit\n",
      "    X, fitted_transformer = fit_transform_one_cached(\n",
      "  File \"/Users/annarutledge/opt/anaconda3/lib/python3.9/site-packages/joblib/memory.py\", line 349, in __call__\n",
      "    return self.func(*args, **kwargs)\n",
      "  File \"/Users/annarutledge/opt/anaconda3/lib/python3.9/site-packages/sklearn/pipeline.py\", line 893, in _fit_transform_one\n",
      "    res = transformer.fit_transform(X, y, **fit_params)\n",
      "  File \"/Users/annarutledge/opt/anaconda3/lib/python3.9/site-packages/sklearn/compose/_column_transformer.py\", line 675, in fit_transform\n",
      "    result = self._fit_transform(X, y, _fit_transform_one)\n",
      "  File \"/Users/annarutledge/opt/anaconda3/lib/python3.9/site-packages/sklearn/compose/_column_transformer.py\", line 606, in _fit_transform\n",
      "    return Parallel(n_jobs=self.n_jobs)(\n",
      "  File \"/Users/annarutledge/opt/anaconda3/lib/python3.9/site-packages/joblib/parallel.py\", line 1056, in __call__\n",
      "    self.retrieve()\n",
      "  File \"/Users/annarutledge/opt/anaconda3/lib/python3.9/site-packages/joblib/parallel.py\", line 935, in retrieve\n",
      "    self._output.extend(job.get(timeout=self.timeout))\n",
      "  File \"/Users/annarutledge/opt/anaconda3/lib/python3.9/multiprocessing/pool.py\", line 771, in get\n",
      "    raise self._value\n",
      "  File \"/Users/annarutledge/opt/anaconda3/lib/python3.9/multiprocessing/pool.py\", line 125, in worker\n",
      "    result = (True, func(*args, **kwds))\n",
      "  File \"/Users/annarutledge/opt/anaconda3/lib/python3.9/site-packages/joblib/_parallel_backends.py\", line 595, in __call__\n",
      "    return self.func(*args, **kwargs)\n",
      "  File \"/Users/annarutledge/opt/anaconda3/lib/python3.9/site-packages/joblib/parallel.py\", line 262, in __call__\n",
      "    return [func(*args, **kwargs)\n",
      "  File \"/Users/annarutledge/opt/anaconda3/lib/python3.9/site-packages/joblib/parallel.py\", line 262, in <listcomp>\n",
      "    return [func(*args, **kwargs)\n",
      "  File \"/Users/annarutledge/opt/anaconda3/lib/python3.9/site-packages/sklearn/utils/fixes.py\", line 216, in __call__\n",
      "    return self.function(*args, **kwargs)\n",
      "  File \"/Users/annarutledge/opt/anaconda3/lib/python3.9/site-packages/sklearn/pipeline.py\", line 893, in _fit_transform_one\n",
      "    res = transformer.fit_transform(X, y, **fit_params)\n",
      "  File \"/Users/annarutledge/opt/anaconda3/lib/python3.9/site-packages/sklearn/feature_extraction/text.py\", line 1347, in fit_transform\n",
      "    X, self.stop_words_ = self._limit_features(\n",
      "  File \"/Users/annarutledge/opt/anaconda3/lib/python3.9/site-packages/sklearn/feature_extraction/text.py\", line 1179, in _limit_features\n",
      "    raise ValueError(\n",
      "ValueError: After pruning, no terms remain. Try a lower min_df or a higher max_df.\n",
      "\n",
      "--------------------------------------------------------------------------------\n",
      "1080 fits failed with the following error:\n",
      "Traceback (most recent call last):\n",
      "  File \"/Users/annarutledge/opt/anaconda3/lib/python3.9/site-packages/sklearn/model_selection/_validation.py\", line 680, in _fit_and_score\n",
      "    estimator.fit(X_train, y_train, **fit_params)\n",
      "  File \"/Users/annarutledge/opt/anaconda3/lib/python3.9/site-packages/sklearn/pipeline.py\", line 390, in fit\n",
      "    Xt = self._fit(X, y, **fit_params_steps)\n",
      "  File \"/Users/annarutledge/opt/anaconda3/lib/python3.9/site-packages/sklearn/pipeline.py\", line 348, in _fit\n",
      "    X, fitted_transformer = fit_transform_one_cached(\n",
      "  File \"/Users/annarutledge/opt/anaconda3/lib/python3.9/site-packages/joblib/memory.py\", line 349, in __call__\n",
      "    return self.func(*args, **kwargs)\n",
      "  File \"/Users/annarutledge/opt/anaconda3/lib/python3.9/site-packages/sklearn/pipeline.py\", line 893, in _fit_transform_one\n",
      "    res = transformer.fit_transform(X, y, **fit_params)\n",
      "  File \"/Users/annarutledge/opt/anaconda3/lib/python3.9/site-packages/sklearn/compose/_column_transformer.py\", line 675, in fit_transform\n",
      "    result = self._fit_transform(X, y, _fit_transform_one)\n",
      "  File \"/Users/annarutledge/opt/anaconda3/lib/python3.9/site-packages/sklearn/compose/_column_transformer.py\", line 606, in _fit_transform\n",
      "    return Parallel(n_jobs=self.n_jobs)(\n",
      "  File \"/Users/annarutledge/opt/anaconda3/lib/python3.9/site-packages/joblib/parallel.py\", line 1056, in __call__\n",
      "    self.retrieve()\n",
      "  File \"/Users/annarutledge/opt/anaconda3/lib/python3.9/site-packages/joblib/parallel.py\", line 935, in retrieve\n",
      "    self._output.extend(job.get(timeout=self.timeout))\n",
      "  File \"/Users/annarutledge/opt/anaconda3/lib/python3.9/multiprocessing/pool.py\", line 771, in get\n",
      "    raise self._value\n",
      "  File \"/Users/annarutledge/opt/anaconda3/lib/python3.9/multiprocessing/pool.py\", line 125, in worker\n",
      "    result = (True, func(*args, **kwds))\n",
      "  File \"/Users/annarutledge/opt/anaconda3/lib/python3.9/site-packages/joblib/_parallel_backends.py\", line 595, in __call__\n",
      "    return self.func(*args, **kwargs)\n",
      "  File \"/Users/annarutledge/opt/anaconda3/lib/python3.9/site-packages/joblib/parallel.py\", line 262, in __call__\n",
      "    return [func(*args, **kwargs)\n",
      "  File \"/Users/annarutledge/opt/anaconda3/lib/python3.9/site-packages/joblib/parallel.py\", line 262, in <listcomp>\n",
      "    return [func(*args, **kwargs)\n",
      "  File \"/Users/annarutledge/opt/anaconda3/lib/python3.9/site-packages/sklearn/utils/fixes.py\", line 216, in __call__\n",
      "    return self.function(*args, **kwargs)\n",
      "  File \"/Users/annarutledge/opt/anaconda3/lib/python3.9/site-packages/sklearn/pipeline.py\", line 893, in _fit_transform_one\n",
      "    res = transformer.fit_transform(X, y, **fit_params)\n",
      "  File \"/Users/annarutledge/opt/anaconda3/lib/python3.9/site-packages/sklearn/feature_extraction/text.py\", line 1344, in fit_transform\n",
      "    raise ValueError(\"max_df corresponds to < documents than min_df\")\n",
      "ValueError: max_df corresponds to < documents than min_df\n",
      "\n",
      "  warnings.warn(some_fits_failed_message, FitFailedWarning)\n",
      "/Users/annarutledge/opt/anaconda3/lib/python3.9/site-packages/sklearn/model_selection/_search.py:969: UserWarning: One or more of the test scores are non-finite: [0.76079096 0.76965814 0.77776981 0.78766801 0.7959853  0.80416506\n",
      " 0.80547137 0.81007706 0.81481963 0.77137645 0.78072521 0.78890527\n",
      " 0.79729138 0.80444016 0.81165753 0.81234484 0.8172253  0.8217618\n",
      " 0.77831957 0.78643062 0.79412937 0.80423376 0.81186395 0.81530083\n",
      " 0.81811903 0.82430516 0.82671104 0.70738193 0.71322484 0.7200984\n",
      " 0.72195438 0.72965316 0.73535831 0.73405223 0.73886403 0.74477534\n",
      " 0.71370604 0.72106122 0.72656023 0.73020291 0.73604576 0.74044514\n",
      " 0.74037625 0.74656257 0.75068685 0.72023621 0.72511686 0.73157796\n",
      " 0.73515231 0.74223206 0.7465625  0.74491299 0.75178662 0.7537113\n",
      " 0.76051595 0.77013936 0.77831964 0.78663673 0.79598506 0.80189685\n",
      " 0.8054025  0.8121391  0.8173632  0.77144532 0.78010651 0.78787408\n",
      " 0.79639762 0.8062276  0.81103911 0.81165727 0.8174312  0.82251815\n",
      " 0.7783882  0.78725564 0.79536686 0.80457731 0.81200146 0.81708789\n",
      " 0.81619437 0.82183093 0.82629876 0.7074507  0.71308731 0.71947985\n",
      " 0.72312312 0.72855329 0.73522095 0.7335713  0.73975762 0.74374437\n",
      " 0.71377479 0.7211986  0.72759116 0.72965306 0.73501467 0.73913899\n",
      " 0.73982616 0.74560028 0.75206161 0.71989257 0.72614786 0.73240272\n",
      " 0.73425839 0.74154492 0.74587528 0.74443177 0.75103049 0.7546048\n",
      " 0.73741953 0.74209418 0.74903644 0.74883037 0.75268012 0.75625473\n",
      " 0.75859157 0.75941617 0.76037856 0.74161279 0.74972385 0.75130503\n",
      " 0.75130524 0.75632318 0.75790415 0.75921013 0.76113498 0.76113472\n",
      " 0.74766197 0.75082371 0.75199217 0.75556702 0.75749159 0.7589351\n",
      " 0.76072225 0.76030986 0.7609286  0.67370041 0.67569359 0.67741208\n",
      " 0.67534997 0.67706823 0.6777557  0.67748124 0.67720609 0.67734317\n",
      " 0.67713715 0.67686226 0.67803048 0.67644948 0.67693082 0.67741187\n",
      " 0.67741225 0.67713729 0.67713734 0.67741223 0.6786492  0.67844285\n",
      " 0.67748069 0.67686242 0.6762436  0.67693129 0.6755566  0.67624379\n",
      " 0.73741953 0.74209418 0.74903644 0.74883037 0.7524052  0.75625473\n",
      " 0.75859157 0.75941617 0.76024106 0.74161279 0.74972385 0.75130503\n",
      " 0.75130524 0.75632318 0.75790415 0.7591414  0.75996621 0.76120345\n",
      " 0.74766197 0.7510299  0.75199217 0.75536084 0.75783528 0.75907253\n",
      " 0.76134102 0.76099738 0.76120359 0.67370041 0.67569359 0.67741208\n",
      " 0.67534997 0.67706823 0.6777557  0.67720625 0.67741234 0.67789318\n",
      " 0.67713715 0.67686226 0.67803048 0.67638073 0.67693082 0.67775563\n",
      " 0.67686242 0.67706854 0.67713734 0.67741223 0.6786492  0.67844285\n",
      " 0.6768619  0.67686242 0.6767248  0.67645019 0.6766565  0.67686249\n",
      " 0.70724423 0.70868765 0.71054351 0.70992483 0.71054327 0.71054322\n",
      " 0.71143691 0.71322427 0.71253699 0.70758802 0.71047492 0.71116244\n",
      " 0.71205556 0.71329281 0.71411756 0.71164309 0.71226189 0.71219309\n",
      " 0.70930616 0.71157455 0.71219323 0.71205558 0.71377406 0.71164331\n",
      " 0.71226184 0.7115058  0.71233088        nan        nan        nan\n",
      "        nan        nan        nan        nan        nan        nan\n",
      "        nan        nan        nan        nan        nan        nan\n",
      "        nan        nan        nan        nan        nan        nan\n",
      "        nan        nan        nan        nan        nan        nan\n",
      " 0.70724423 0.70868765 0.71054351 0.70958107 0.71054327 0.71116199\n",
      " 0.71143691 0.71239927 0.71253699 0.70758802 0.71047492 0.71157481\n",
      " 0.71205556 0.71329281 0.71411756 0.71281171 0.71233069 0.71260565\n",
      " 0.70930616 0.71157455 0.71219323 0.71205558 0.71377406 0.71171206\n",
      " 0.71274308 0.71233078 0.71157484        nan        nan        nan\n",
      "        nan        nan        nan        nan        nan        nan\n",
      "        nan        nan        nan        nan        nan        nan\n",
      "        nan        nan        nan        nan        nan        nan\n",
      "        nan        nan        nan        nan        nan        nan\n",
      " 0.76085971 0.76965814 0.77776981 0.78753039 0.79591645 0.80388979\n",
      " 0.80347832 0.81220762 0.81598813 0.77137645 0.78072521 0.78890527\n",
      " 0.79502258 0.80251541 0.81310125 0.81069488 0.81880603 0.82141811\n",
      " 0.77831957 0.78649937 0.79419812 0.80464611 0.81262018 0.81674413\n",
      " 0.81811907 0.82052488 0.82423634 0.70751943 0.71315604 0.72002967\n",
      " 0.72106067 0.72985946 0.73570214 0.73274648 0.74071984 0.74450057\n",
      " 0.71377476 0.72140486 0.72738497 0.7295157  0.73577075 0.74071998\n",
      " 0.73907022 0.74587514 0.75020546 0.72003003 0.72566669 0.73157798\n",
      " 0.73480846 0.74120099 0.74608168 0.74374432 0.74993079 0.75274894\n",
      " 0.76051595 0.77013936 0.77831964 0.78498725 0.79598539 0.80519622\n",
      " 0.80437148 0.81248279 0.81701925 0.77137657 0.78010651 0.78787408\n",
      " 0.79646649 0.80622753 0.81152024 0.81151995 0.81763748 0.82293038\n",
      " 0.7783882  0.78718691 0.79536686 0.80588341 0.81255091 0.81440731\n",
      " 0.81626298 0.8229305  0.82561155 0.7073132  0.71349976 0.71947982\n",
      " 0.72250428 0.7294469  0.73494615 0.73281526 0.73803908 0.74484412\n",
      " 0.71384349 0.72099242 0.7264915  0.72985927 0.73714563 0.74037639\n",
      " 0.73975762 0.74587524 0.75020565 0.72003003 0.72546057 0.73150925\n",
      " 0.73515222 0.74140725 0.74587526 0.74491294 0.75061791 0.75364272\n",
      " 0.73741953 0.74209418 0.74903644 0.74883037 0.7524052  0.75632346\n",
      " 0.75872903 0.75941617 0.76030981 0.74161279 0.74993003 0.75151121\n",
      " 0.75130524 0.75652936 0.75790415 0.76017266 0.76010367 0.76044722\n",
      " 0.74766197 0.75082371 0.75199217 0.75536084 0.75776652 0.75907253\n",
      " 0.76085976 0.76079105 0.76092853 0.67370041 0.67569359 0.67741208\n",
      " 0.67534997 0.67706823 0.6777557  0.67741251 0.67761855 0.67754954\n",
      " 0.67713715 0.67686226 0.67803048 0.67638073 0.67686207 0.67782438\n",
      " 0.67699988 0.67768709 0.67638135 0.67741223 0.6786492  0.67844285\n",
      " 0.67754942 0.67686242 0.67644981 0.67686249 0.67528169 0.67686256\n",
      " 0.73741953 0.74209418 0.74903644 0.74883037 0.7524052  0.75632346\n",
      " 0.75859157 0.75948495 0.76037856 0.74161279 0.74993003 0.75151121\n",
      " 0.75151143 0.75625445 0.75797287 0.75921018 0.76085995 0.76079091\n",
      " 0.74766197 0.75082371 0.75199217 0.75536084 0.75756034 0.75914128\n",
      " 0.76092844 0.7601036  0.76106604 0.67370041 0.67569359 0.67741208\n",
      " 0.67534997 0.67706823 0.6777557  0.67741251 0.67693122 0.67734328\n",
      " 0.67713715 0.67686226 0.67803048 0.67644948 0.67693082 0.67741187\n",
      " 0.67741225 0.67748093 0.67672501 0.67741223 0.6786492  0.67844285\n",
      " 0.67748069 0.67686242 0.67658732 0.67651885 0.67679395 0.67617528\n",
      " 0.70724423 0.70868765 0.71054351 0.70992483 0.7113683  0.71054322\n",
      " 0.71136816 0.712468   0.71253699 0.70834403 0.71061238 0.71116244\n",
      " 0.71205556 0.71329281 0.71411756 0.71253685 0.71226189 0.71212436\n",
      " 0.70930616 0.71157455 0.71219323 0.71205558 0.71384281 0.71171206\n",
      " 0.71191824 0.7119182  0.71212457        nan        nan        nan\n",
      "        nan        nan        nan        nan        nan        nan\n",
      "        nan        nan        nan        nan        nan        nan\n",
      "        nan        nan        nan        nan        nan        nan\n",
      "        nan        nan        nan        nan        nan        nan\n",
      " 0.70724423 0.70868765 0.71054351 0.70958107 0.71054327 0.71116199\n",
      " 0.71143691 0.71322427 0.71253699 0.70758802 0.71061238 0.71157481\n",
      " 0.71205556 0.71329281 0.71411756 0.71233062 0.71246814 0.71253692\n",
      " 0.70930616 0.71157455 0.71219323 0.71191813 0.71384281 0.71157455\n",
      " 0.71212452 0.71267452 0.71143736        nan        nan        nan\n",
      "        nan        nan        nan        nan        nan        nan\n",
      "        nan        nan        nan        nan        nan        nan\n",
      "        nan        nan        nan        nan        nan        nan\n",
      "        nan        nan        nan        nan        nan        nan\n",
      " 0.66895737 0.66888861 0.66881986 0.66772042 0.66998877 0.66985136\n",
      " 0.67115739 0.67163844 0.67218839 0.66854502 0.66998843 0.67012594\n",
      " 0.67101974 0.67156947 0.67163827 0.67198229 0.67198215 0.67239474\n",
      " 0.66991959 0.67081332 0.67081337 0.67060728 0.67005745 0.67005749\n",
      " 0.67239462 0.67308181 0.67301344 0.66909489 0.66888861 0.66909482\n",
      " 0.67005749 0.66930153 0.67067589 0.67156981 0.67101991 0.67163853\n",
      " 0.66888876 0.669851   0.66985095 0.67108849 0.67060723 0.67218815\n",
      " 0.67163863 0.67287569 0.67136364 0.66998829 0.67108833 0.67115701\n",
      " 0.66957628 0.67101962 0.67088231 0.67184467 0.67211982 0.67225702\n",
      " 0.66875116 0.66868238 0.66909487 0.66909529 0.66930115 0.67033246\n",
      " 0.67177613 0.67163868 0.67150105 0.66923249 0.66957595 0.6697822\n",
      " 0.67101974 0.67115725 0.67088231 0.67163849 0.67170719 0.67177597\n",
      " 0.67005697 0.67108828 0.67067581 0.67040121 0.67074468 0.6701262\n",
      " 0.67308183 0.67184465 0.67136355 0.66888861 0.66902616 0.66881984\n",
      " 0.66868292 0.66930117 0.67136338 0.67163856 0.67129477 0.67170724\n",
      " 0.66882    0.66957597 0.67012592 0.67115722 0.67122597 0.6715695\n",
      " 0.67136353 0.67170719 0.67088243 0.66991954 0.67101958 0.67101953\n",
      " 0.67095097 0.66971378 0.6701262  0.67143249 0.67156973 0.67184465\n",
      "        nan        nan        nan        nan        nan        nan\n",
      "        nan        nan        nan        nan        nan        nan\n",
      "        nan        nan        nan        nan        nan        nan\n",
      "        nan        nan        nan        nan        nan        nan\n",
      "        nan        nan        nan        nan        nan        nan\n",
      "        nan        nan        nan        nan        nan        nan\n",
      "        nan        nan        nan        nan        nan        nan\n",
      "        nan        nan        nan        nan        nan        nan\n",
      "        nan        nan        nan        nan        nan        nan\n",
      "        nan        nan        nan        nan        nan        nan\n",
      "        nan        nan        nan        nan        nan        nan\n",
      "        nan        nan        nan        nan        nan        nan\n",
      "        nan        nan        nan        nan        nan        nan\n",
      "        nan        nan        nan        nan        nan        nan\n",
      "        nan        nan        nan        nan        nan        nan\n",
      "        nan        nan        nan        nan        nan        nan\n",
      "        nan        nan        nan        nan        nan        nan\n",
      "        nan        nan        nan        nan        nan        nan\n",
      "        nan        nan        nan        nan        nan        nan\n",
      "        nan        nan        nan        nan        nan        nan\n",
      "        nan        nan        nan        nan        nan        nan\n",
      "        nan        nan        nan        nan        nan        nan\n",
      "        nan        nan        nan        nan        nan        nan\n",
      "        nan        nan        nan        nan        nan        nan\n",
      "        nan        nan        nan        nan        nan        nan\n",
      "        nan        nan        nan        nan        nan        nan\n",
      "        nan        nan        nan        nan        nan        nan\n",
      "        nan        nan        nan        nan        nan        nan\n",
      "        nan        nan        nan        nan        nan        nan\n",
      "        nan        nan        nan        nan        nan        nan\n",
      "        nan        nan        nan        nan        nan        nan\n",
      "        nan        nan        nan        nan        nan        nan\n",
      "        nan        nan        nan        nan        nan        nan\n",
      "        nan        nan        nan        nan        nan        nan\n",
      "        nan        nan        nan        nan        nan        nan\n",
      "        nan        nan        nan        nan        nan        nan]\n",
      "  warnings.warn(\n"
     ]
    },
    {
     "data": {
      "text/plain": [
       "GridSearchCV(estimator=Pipeline(steps=[('columntransformer',\n",
       "                                        ColumnTransformer(n_jobs=-1,\n",
       "                                                          remainder='passthrough',\n",
       "                                                          transformers=[('countvectorizer',\n",
       "                                                                         CountVectorizer(),\n",
       "                                                                         'full_text')],\n",
       "                                                          verbose_feature_names_out=False)),\n",
       "                                       ('gradientboostingclassifier',\n",
       "                                        GradientBoostingClassifier())]),\n",
       "             n_jobs=-1,\n",
       "             param_grid={'columntransformer__countvectorizer__max_df': [0.8,\n",
       "                                                                        0.9,\n",
       "                                                                        1],\n",
       "                         'columntransformer__countvectorizer__min_df': [0, 0.1,\n",
       "                                                                        0.2],\n",
       "                         'columntransformer__countvectorizer__ngram_range': [(1,\n",
       "                                                                              2),\n",
       "                                                                             (1,\n",
       "                                                                              3)],\n",
       "                         'columntransformer__countvectorizer__stop_words': [None,\n",
       "                                                                            'english'],\n",
       "                         'gradientboostingclassifier__learning_rate': [0.08,\n",
       "                                                                       0.1,\n",
       "                                                                       0.12],\n",
       "                         'gradientboostingclassifier__max_depth': [2, 3, 4],\n",
       "                         'gradientboostingclassifier__n_estimators': [100, 125,\n",
       "                                                                      150]})"
      ]
     },
     "execution_count": 17,
     "metadata": {},
     "output_type": "execute_result"
    }
   ],
   "source": [
    "gs.fit(X_train, y_train)"
   ]
  },
  {
   "cell_type": "code",
   "execution_count": null,
   "metadata": {},
   "outputs": [],
   "source": [
    "gs.best_estimator_"
   ]
  },
  {
   "cell_type": "markdown",
   "metadata": {},
   "source": [
    "#### GS Best Estimator Parameters\n",
    "##### Count Vectorizer:\n",
    "max_df = 0.8\n",
    "<br>\n",
    "min_df = 0\n",
    "<br>\n",
    "ngram_range = (1,2)\n",
    "\n",
    "##### GradientBoost Classifier:\n",
    "learning_rate = 0.12\n",
    "<br>\n",
    "max_depth = 4\n",
    "<br>\n",
    "n_estimators = 150"
   ]
  },
  {
   "cell_type": "code",
   "execution_count": 20,
   "metadata": {},
   "outputs": [],
   "source": [
    "y_preds = gs.predict(X_test)"
   ]
  },
  {
   "cell_type": "code",
   "execution_count": 21,
   "metadata": {},
   "outputs": [
    {
     "data": {
      "text/plain": [
       "array(['crazyideas', 'crazyideas', 'crazyideas', ..., 'showerthoughts',\n",
       "       'showerthoughts', 'crazyideas'], dtype=object)"
      ]
     },
     "execution_count": 21,
     "metadata": {},
     "output_type": "execute_result"
    }
   ],
   "source": [
    "y_preds"
   ]
  },
  {
   "cell_type": "markdown",
   "metadata": {},
   "source": [
    "### Accuracy score"
   ]
  },
  {
   "cell_type": "code",
   "execution_count": 22,
   "metadata": {},
   "outputs": [
    {
     "data": {
      "text/plain": [
       "0.8321649484536082"
      ]
     },
     "execution_count": 22,
     "metadata": {},
     "output_type": "execute_result"
    }
   ],
   "source": [
    "gs.score(X_test, y_test)"
   ]
  },
  {
   "cell_type": "code",
   "execution_count": 23,
   "metadata": {},
   "outputs": [
    {
     "data": {
      "text/plain": [
       "0.8321649484536082"
      ]
     },
     "execution_count": 23,
     "metadata": {},
     "output_type": "execute_result"
    }
   ],
   "source": [
    "accuracy_score(y_test, y_preds)"
   ]
  },
  {
   "cell_type": "markdown",
   "metadata": {},
   "source": [
    "### Recall/sensitivity score"
   ]
  },
  {
   "cell_type": "code",
   "execution_count": 25,
   "metadata": {},
   "outputs": [
    {
     "data": {
      "text/plain": [
       "0.8333333333333334"
      ]
     },
     "execution_count": 25,
     "metadata": {},
     "output_type": "execute_result"
    }
   ],
   "source": [
    "recall_score(y_test, y_preds, pos_label='crazyideas')"
   ]
  },
  {
   "cell_type": "markdown",
   "metadata": {},
   "source": [
    "### Precision score"
   ]
  },
  {
   "cell_type": "code",
   "execution_count": 26,
   "metadata": {},
   "outputs": [
    {
     "data": {
      "text/plain": [
       "0.8367181153533713"
      ]
     },
     "execution_count": 26,
     "metadata": {},
     "output_type": "execute_result"
    }
   ],
   "source": [
    "precision_score(y_test, y_preds, pos_label='crazyideas')"
   ]
  },
  {
   "cell_type": "markdown",
   "metadata": {},
   "source": [
    "### F1 Score"
   ]
  },
  {
   "cell_type": "code",
   "execution_count": 27,
   "metadata": {},
   "outputs": [
    {
     "data": {
      "text/plain": [
       "0.8350222942845561"
      ]
     },
     "execution_count": 27,
     "metadata": {},
     "output_type": "execute_result"
    }
   ],
   "source": [
    "f1_score(y_test, y_preds, pos_label='crazyideas')"
   ]
  },
  {
   "cell_type": "markdown",
   "metadata": {},
   "source": [
    "### Confusion Matrix"
   ]
  },
  {
   "cell_type": "code",
   "execution_count": 28,
   "metadata": {},
   "outputs": [
    {
     "data": {
      "image/png": "[encoded data removed]",
      "text/plain": [
       "<Figure size 432x288 with 2 Axes>"
      ]
     },
     "metadata": {
      "needs_background": "light"
     },
     "output_type": "display_data"
    }
   ],
   "source": [
    "ConfusionMatrixDisplay.from_predictions(y_test, y_preds, cmap='Greens');"
   ]
  }
 ],
 "metadata": {
  "interpreter": {
   "hash": "c90bd41498bd2909e03bc4813e3fc894d3d64fd4c32b3cf57272642761dbfb5b"
  },
  "kernelspec": {
   "display_name": "Python 3.9.7 64-bit ('base': conda)",
   "language": "python",
   "name": "python3"
  },
  "language_info": {
   "codemirror_mode": {
    "name": "ipython",
    "version": 3
   },
   "file_extension": ".py",
   "mimetype": "text/x-python",
   "name": "python",
   "nbconvert_exporter": "python",
   "pygments_lexer": "ipython3",
   "version": "3.9.7"
  },
  "orig_nbformat": 4
 },
 "nbformat": 4,
 "nbformat_minor": 2
}
