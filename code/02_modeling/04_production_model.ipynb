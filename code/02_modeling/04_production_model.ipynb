{
 "cells": [
  {
   "cell_type": "markdown",
   "metadata": {},
   "source": [
    "# Subreddit Identification function ('Shower Thought' or 'Crazy Idea'?) \n",
    "\n",
    "The second best performing model (Naive Bayes with three features) is used in this function in the interest of time. The best performing model (Boosting Classifier with three features) has a much longer run time for each prediction"
   ]
  },
  {
   "cell_type": "code",
   "execution_count": 30,
   "metadata": {},
   "outputs": [],
   "source": [
    "def subreddit_id(post):\n",
    "    import pandas as pd\n",
    "    from sklearn.feature_extraction.text import CountVectorizer\n",
    "    from sklearn.compose import make_column_transformer\n",
    "    # from sklearn.ensemble import GradientBoostingClassifier \n",
    "    from sklearn.pipeline import make_pipeline\n",
    "    from sklearn.naive_bayes import MultinomialNB\n",
    "\n",
    "    df_subreddits = pd.read_csv('./00_cleaned_data/subreddits.csv')\n",
    "    X = df_subreddits[['full_text', 'letter_count', 'word_count']]\n",
    "    y = df_subreddits['subreddit']\n",
    "\n",
    "    cv = CountVectorizer(max_df=0.8, min_df=0, ngram_range=(1,2))\n",
    "    text_vectorizer = make_column_transformer((cv, 'full_text'), remainder='passthrough', n_jobs=-1, verbose_feature_names_out=False)\n",
    "    nb = MultinomialNB(alpha=0.1)\n",
    "    pipe = make_pipeline(text_vectorizer, nb)\n",
    "    pipe.fit(X, y)\n",
    "    X_post = pd.DataFrame([[ post, len(post), len(post.split(' ')) ]], columns=['full_text', 'letter_count', 'word_count'])\n",
    "    return print(pipe.predict(X_post))\n",
    "    "
   ]
  },
  {
   "cell_type": "markdown",
   "metadata": {},
   "source": [
    "# Testing function\n",
    "\n",
    "Subreddit posts from today (never seen by model) are used to test the function\n",
    "<br>\n",
    "(https://www.reddit.com/r/Showerthoughts/, https://www.reddit.com/r/CrazyIdeas/)"
   ]
  },
  {
   "cell_type": "code",
   "execution_count": 40,
   "metadata": {},
   "outputs": [
    {
     "name": "stdout",
     "output_type": "stream",
     "text": [
      "['crazyideas']\n"
     ]
    }
   ],
   "source": [
    "#Correctly identified!\n",
    "\n",
    "subreddit_id('whenever a court undoes a law by saying its unconstitutional, the government owes reparations to everyone who that law caused problems for')"
   ]
  },
  {
   "cell_type": "code",
   "execution_count": 41,
   "metadata": {},
   "outputs": [
    {
     "name": "stdout",
     "output_type": "stream",
     "text": [
      "['crazyideas']\n"
     ]
    }
   ],
   "source": [
    "#Correctly identified!\n",
    "\n",
    "subreddit_id('On days when the zoo is closed, take one of the animals on a tour to see th other animals. Then give them a free T-shirt.')"
   ]
  },
  {
   "cell_type": "code",
   "execution_count": 42,
   "metadata": {},
   "outputs": [
    {
     "name": "stdout",
     "output_type": "stream",
     "text": [
      "['crazyideas']\n"
     ]
    }
   ],
   "source": [
    "#Correctly identified!\n",
    "\n",
    "subreddit_id('Rename the Asian and European halve of Istanbul to Eastanbul and Westanbul')"
   ]
  },
  {
   "cell_type": "code",
   "execution_count": 43,
   "metadata": {},
   "outputs": [
    {
     "name": "stdout",
     "output_type": "stream",
     "text": [
      "['crazyideas']\n"
     ]
    }
   ],
   "source": [
    "#Correctly identified!\n",
    "\n",
    "subreddit_id('A golf course inside a heavily wooded area. Do you think you\\'re a big shot just because you can hit a ball across an open field? Up the ante by playing 18 holes in a forest!')"
   ]
  },
  {
   "cell_type": "code",
   "execution_count": 44,
   "metadata": {},
   "outputs": [
    {
     "name": "stdout",
     "output_type": "stream",
     "text": [
      "['crazyideas']\n"
     ]
    }
   ],
   "source": [
    "#Correctly identified!\n",
    "\n",
    "subreddit_id('Have bungie release a PS$ exclusive Halo adjacent game. With the purchase of bungie by playstation. I\\'m thinking they could make a Halo-like shooter. They could call it schmalo, the protag would be called mister shcief. The setting is on a schmalo octagon fighting against the schmovenant.')"
   ]
  },
  {
   "cell_type": "code",
   "execution_count": 38,
   "metadata": {},
   "outputs": [
    {
     "name": "stdout",
     "output_type": "stream",
     "text": [
      "['showerthoughts']\n"
     ]
    }
   ],
   "source": [
    "#Correctly identified!\n",
    "\n",
    "subreddit_id('A 36-year-old has spent 18 years as an adult, so they are an adult adult')"
   ]
  },
  {
   "cell_type": "code",
   "execution_count": 39,
   "metadata": {},
   "outputs": [
    {
     "name": "stdout",
     "output_type": "stream",
     "text": [
      "['crazyideas']\n"
     ]
    }
   ],
   "source": [
    "#Incorrectly identified (actually from Showerthoughts)\n",
    "\n",
    "subreddit_id('Every year wall-e becomes more and more realistic.')"
   ]
  },
  {
   "cell_type": "code",
   "execution_count": 45,
   "metadata": {},
   "outputs": [
    {
     "name": "stdout",
     "output_type": "stream",
     "text": [
      "['crazyideas']\n"
     ]
    }
   ],
   "source": [
    "#Incorrectly identified (actually from Showerthoughts)\n",
    "\n",
    "subreddit_id('people who are depressed because of their financial struggles can\\'t get therapy to help because of how expensive it is')"
   ]
  },
  {
   "cell_type": "code",
   "execution_count": 46,
   "metadata": {},
   "outputs": [
    {
     "name": "stdout",
     "output_type": "stream",
     "text": [
      "['showerthoughts']\n"
     ]
    }
   ],
   "source": [
    "#Correctly identified!\n",
    "\n",
    "subreddit_id('If your fridge is full of beer you look like an alcoholic, but an alcoholic wouldn\\'t have any in their fridge. Edit: seems to be based on culture you grew up in. If you grew up where there were 3 places to get liquor for every McDonald\\'s then you probably don\\'t stock a lot. If you grew up in the country or in the city where it was a hassle to go get it you tend to stock up a lot of you are an alcoholic. Thanks for the responses everyone!!')"
   ]
  },
  {
   "cell_type": "code",
   "execution_count": 47,
   "metadata": {},
   "outputs": [
    {
     "name": "stdout",
     "output_type": "stream",
     "text": [
      "['showerthoughts']\n"
     ]
    }
   ],
   "source": [
    "#Correctly identified!\n",
    "\n",
    "subreddit_id('You can tell how bad inflation has been over the years by how much money people steal in heist movies of their times.')"
   ]
  },
  {
   "cell_type": "code",
   "execution_count": 48,
   "metadata": {},
   "outputs": [
    {
     "name": "stdout",
     "output_type": "stream",
     "text": [
      "['showerthoughts']\n"
     ]
    }
   ],
   "source": [
    "#Correctly identified!\n",
    "\n",
    "subreddit_id('More than a six pack of beer in the fridge starts to look like a drinking problem, but a whole wine cellar is considered very classy')"
   ]
  }
 ],
 "metadata": {
  "interpreter": {
   "hash": "c90bd41498bd2909e03bc4813e3fc894d3d64fd4c32b3cf57272642761dbfb5b"
  },
  "kernelspec": {
   "display_name": "Python 3.9.7 64-bit ('base': conda)",
   "language": "python",
   "name": "python3"
  },
  "language_info": {
   "codemirror_mode": {
    "name": "ipython",
    "version": 3
   },
   "file_extension": ".py",
   "mimetype": "text/x-python",
   "name": "python",
   "nbconvert_exporter": "python",
   "pygments_lexer": "ipython3",
   "version": "3.9.7"
  },
  "orig_nbformat": 4
 },
 "nbformat": 4,
 "nbformat_minor": 2
}
