{
 "cells": [
  {
   "cell_type": "markdown",
   "metadata": {},
   "source": [
    "## Imports"
   ]
  },
  {
   "cell_type": "code",
   "execution_count": 2,
   "metadata": {},
   "outputs": [],
   "source": [
    "import pandas as pd\n",
    "import numpy as np\n",
    "import matplotlib.pyplot as plt\n",
    "import missingno as mn\n",
    "import seaborn as sns "
   ]
  },
  {
   "cell_type": "markdown",
   "metadata": {},
   "source": [
    "## Data Cleaning"
   ]
  },
  {
   "cell_type": "markdown",
   "metadata": {},
   "source": [
    "### Read in 'Showerthoughts' dataset"
   ]
  },
  {
   "cell_type": "code",
   "execution_count": 3,
   "metadata": {},
   "outputs": [
    {
     "data": {
      "text/html": [
       "<div>\n",
       "<style scoped>\n",
       "    .dataframe tbody tr th:only-of-type {\n",
       "        vertical-align: middle;\n",
       "    }\n",
       "\n",
       "    .dataframe tbody tr th {\n",
       "        vertical-align: top;\n",
       "    }\n",
       "\n",
       "    .dataframe thead th {\n",
       "        text-align: right;\n",
       "    }\n",
       "</style>\n",
       "<table border=\"1\" class=\"dataframe\">\n",
       "  <thead>\n",
       "    <tr style=\"text-align: right;\">\n",
       "      <th></th>\n",
       "      <th>Unnamed: 0</th>\n",
       "      <th>title</th>\n",
       "      <th>text</th>\n",
       "      <th>auth</th>\n",
       "      <th>time</th>\n",
       "    </tr>\n",
       "  </thead>\n",
       "  <tbody>\n",
       "    <tr>\n",
       "      <th>0</th>\n",
       "      <td>0</td>\n",
       "      <td>Every woman who is not lesbian is gay, (girls ...</td>\n",
       "      <td>NaN</td>\n",
       "      <td>Altruistic_Rest_9861</td>\n",
       "      <td>1643317371</td>\n",
       "    </tr>\n",
       "    <tr>\n",
       "      <th>1</th>\n",
       "      <td>1</td>\n",
       "      <td>Everyone keeps their phone on silent because w...</td>\n",
       "      <td>NaN</td>\n",
       "      <td>smcmahon710</td>\n",
       "      <td>1643317311</td>\n",
       "    </tr>\n",
       "    <tr>\n",
       "      <th>2</th>\n",
       "      <td>2</td>\n",
       "      <td>A good book will always be new.</td>\n",
       "      <td>NaN</td>\n",
       "      <td>agreatday248</td>\n",
       "      <td>1643317210</td>\n",
       "    </tr>\n",
       "    <tr>\n",
       "      <th>3</th>\n",
       "      <td>3</td>\n",
       "      <td>Science can either prove that no deity exists,...</td>\n",
       "      <td>NaN</td>\n",
       "      <td>shimkei</td>\n",
       "      <td>1643317183</td>\n",
       "    </tr>\n",
       "    <tr>\n",
       "      <th>4</th>\n",
       "      <td>4</td>\n",
       "      <td>The fact that I have to actively remind myself...</td>\n",
       "      <td>NaN</td>\n",
       "      <td>DawnMayRise</td>\n",
       "      <td>1643317126</td>\n",
       "    </tr>\n",
       "  </tbody>\n",
       "</table>\n",
       "</div>"
      ],
      "text/plain": [
       "   Unnamed: 0                                              title text  \\\n",
       "0           0  Every woman who is not lesbian is gay, (girls ...  NaN   \n",
       "1           1  Everyone keeps their phone on silent because w...  NaN   \n",
       "2           2                    A good book will always be new.  NaN   \n",
       "3           3  Science can either prove that no deity exists,...  NaN   \n",
       "4           4  The fact that I have to actively remind myself...  NaN   \n",
       "\n",
       "                   auth        time  \n",
       "0  Altruistic_Rest_9861  1643317371  \n",
       "1           smcmahon710  1643317311  \n",
       "2          agreatday248  1643317210  \n",
       "3               shimkei  1643317183  \n",
       "4           DawnMayRise  1643317126  "
      ]
     },
     "execution_count": 3,
     "metadata": {},
     "output_type": "execute_result"
    }
   ],
   "source": [
    "df_showerthoughts = pd.read_csv('./data/showerthoughts.csv')\n",
    "df_showerthoughts.head()"
   ]
  },
  {
   "cell_type": "code",
   "execution_count": 4,
   "metadata": {},
   "outputs": [],
   "source": [
    "# # Drop 'Unnamed: 0' column\n",
    "\n",
    "# df_showerthoughts = df_showerthoughts.drop(columns='Unnamed: 0')"
   ]
  },
  {
   "cell_type": "code",
   "execution_count": 5,
   "metadata": {},
   "outputs": [
    {
     "data": {
      "text/html": [
       "<div>\n",
       "<style scoped>\n",
       "    .dataframe tbody tr th:only-of-type {\n",
       "        vertical-align: middle;\n",
       "    }\n",
       "\n",
       "    .dataframe tbody tr th {\n",
       "        vertical-align: top;\n",
       "    }\n",
       "\n",
       "    .dataframe thead th {\n",
       "        text-align: right;\n",
       "    }\n",
       "</style>\n",
       "<table border=\"1\" class=\"dataframe\">\n",
       "  <thead>\n",
       "    <tr style=\"text-align: right;\">\n",
       "      <th></th>\n",
       "      <th>title</th>\n",
       "      <th>text</th>\n",
       "      <th>auth</th>\n",
       "      <th>time</th>\n",
       "    </tr>\n",
       "  </thead>\n",
       "  <tbody>\n",
       "    <tr>\n",
       "      <th>0</th>\n",
       "      <td>Every woman who is not lesbian is gay, (girls ...</td>\n",
       "      <td>NaN</td>\n",
       "      <td>Altruistic_Rest_9861</td>\n",
       "      <td>1643317371</td>\n",
       "    </tr>\n",
       "    <tr>\n",
       "      <th>1</th>\n",
       "      <td>Everyone keeps their phone on silent because w...</td>\n",
       "      <td>NaN</td>\n",
       "      <td>smcmahon710</td>\n",
       "      <td>1643317311</td>\n",
       "    </tr>\n",
       "    <tr>\n",
       "      <th>2</th>\n",
       "      <td>A good book will always be new.</td>\n",
       "      <td>NaN</td>\n",
       "      <td>agreatday248</td>\n",
       "      <td>1643317210</td>\n",
       "    </tr>\n",
       "    <tr>\n",
       "      <th>3</th>\n",
       "      <td>Science can either prove that no deity exists,...</td>\n",
       "      <td>NaN</td>\n",
       "      <td>shimkei</td>\n",
       "      <td>1643317183</td>\n",
       "    </tr>\n",
       "    <tr>\n",
       "      <th>4</th>\n",
       "      <td>The fact that I have to actively remind myself...</td>\n",
       "      <td>NaN</td>\n",
       "      <td>DawnMayRise</td>\n",
       "      <td>1643317126</td>\n",
       "    </tr>\n",
       "  </tbody>\n",
       "</table>\n",
       "</div>"
      ],
      "text/plain": [
       "                                               title text  \\\n",
       "0  Every woman who is not lesbian is gay, (girls ...  NaN   \n",
       "1  Everyone keeps their phone on silent because w...  NaN   \n",
       "2                    A good book will always be new.  NaN   \n",
       "3  Science can either prove that no deity exists,...  NaN   \n",
       "4  The fact that I have to actively remind myself...  NaN   \n",
       "\n",
       "                   auth        time  \n",
       "0  Altruistic_Rest_9861  1643317371  \n",
       "1           smcmahon710  1643317311  \n",
       "2          agreatday248  1643317210  \n",
       "3               shimkei  1643317183  \n",
       "4           DawnMayRise  1643317126  "
      ]
     },
     "execution_count": 5,
     "metadata": {},
     "output_type": "execute_result"
    }
   ],
   "source": [
    "# df_showerthoughts.head()"
   ]
  },
  {
   "cell_type": "markdown",
   "metadata": {},
   "source": [
    "### Duplicated values in Showerthoughts"
   ]
  },
  {
   "cell_type": "code",
   "execution_count": 6,
   "metadata": {},
   "outputs": [
    {
     "data": {
      "text/plain": [
       "False    9814\n",
       "True       75\n",
       "dtype: int64"
      ]
     },
     "execution_count": 6,
     "metadata": {},
     "output_type": "execute_result"
    }
   ],
   "source": [
    "# Duplicated values in Showerthoughts dataframe\n",
    "\n",
    "df_showerthoughts.duplicated().value_counts()"
   ]
  },
  {
   "cell_type": "code",
   "execution_count": 7,
   "metadata": {},
   "outputs": [
    {
     "data": {
      "text/plain": [
       "False    9511\n",
       "True      378\n",
       "Name: title, dtype: int64"
      ]
     },
     "execution_count": 7,
     "metadata": {},
     "output_type": "execute_result"
    }
   ],
   "source": [
    "# Duplicated values in Showerthoughts 'title' column\n",
    "# 'title' contains the majority of the text in Showerthoughts posts\n",
    "\n",
    "df_showerthoughts['title'].duplicated().value_counts()"
   ]
  },
  {
   "cell_type": "code",
   "execution_count": 8,
   "metadata": {},
   "outputs": [
    {
     "data": {
      "text/plain": [
       "False    9511\n",
       "dtype: int64"
      ]
     },
     "execution_count": 8,
     "metadata": {},
     "output_type": "execute_result"
    }
   ],
   "source": [
    "# Drop all dataframe rows with duplicated titles\n",
    "\n",
    "df_showerthoughts.drop_duplicates(subset='title', keep='first').duplicated().value_counts()"
   ]
  },
  {
   "cell_type": "code",
   "execution_count": 9,
   "metadata": {},
   "outputs": [],
   "source": [
    "df_showerthoughts = df_showerthoughts.drop_duplicates(subset='title', keep='first')"
   ]
  },
  {
   "cell_type": "code",
   "execution_count": 10,
   "metadata": {},
   "outputs": [
    {
     "data": {
      "text/plain": [
       "False    9511\n",
       "dtype: int64"
      ]
     },
     "execution_count": 10,
     "metadata": {},
     "output_type": "execute_result"
    }
   ],
   "source": [
    "# Check that duplicate rows have been dropped\n",
    "\n",
    "df_showerthoughts.duplicated().value_counts()"
   ]
  },
  {
   "cell_type": "markdown",
   "metadata": {},
   "source": [
    "### Add subreddit identification column to 'Showerthoughts'"
   ]
  },
  {
   "cell_type": "code",
   "execution_count": 11,
   "metadata": {},
   "outputs": [],
   "source": [
    "df_showerthoughts['subreddit'] = np.full_like(df_showerthoughts['title'], 'showerthoughts')"
   ]
  },
  {
   "cell_type": "code",
   "execution_count": 12,
   "metadata": {},
   "outputs": [
    {
     "data": {
      "text/html": [
       "<div>\n",
       "<style scoped>\n",
       "    .dataframe tbody tr th:only-of-type {\n",
       "        vertical-align: middle;\n",
       "    }\n",
       "\n",
       "    .dataframe tbody tr th {\n",
       "        vertical-align: top;\n",
       "    }\n",
       "\n",
       "    .dataframe thead th {\n",
       "        text-align: right;\n",
       "    }\n",
       "</style>\n",
       "<table border=\"1\" class=\"dataframe\">\n",
       "  <thead>\n",
       "    <tr style=\"text-align: right;\">\n",
       "      <th></th>\n",
       "      <th>title</th>\n",
       "      <th>text</th>\n",
       "      <th>auth</th>\n",
       "      <th>time</th>\n",
       "      <th>subreddit</th>\n",
       "    </tr>\n",
       "  </thead>\n",
       "  <tbody>\n",
       "    <tr>\n",
       "      <th>0</th>\n",
       "      <td>Every woman who is not lesbian is gay, (girls ...</td>\n",
       "      <td>NaN</td>\n",
       "      <td>Altruistic_Rest_9861</td>\n",
       "      <td>1643317371</td>\n",
       "      <td>showerthoughts</td>\n",
       "    </tr>\n",
       "    <tr>\n",
       "      <th>1</th>\n",
       "      <td>Everyone keeps their phone on silent because w...</td>\n",
       "      <td>NaN</td>\n",
       "      <td>smcmahon710</td>\n",
       "      <td>1643317311</td>\n",
       "      <td>showerthoughts</td>\n",
       "    </tr>\n",
       "    <tr>\n",
       "      <th>2</th>\n",
       "      <td>A good book will always be new.</td>\n",
       "      <td>NaN</td>\n",
       "      <td>agreatday248</td>\n",
       "      <td>1643317210</td>\n",
       "      <td>showerthoughts</td>\n",
       "    </tr>\n",
       "    <tr>\n",
       "      <th>3</th>\n",
       "      <td>Science can either prove that no deity exists,...</td>\n",
       "      <td>NaN</td>\n",
       "      <td>shimkei</td>\n",
       "      <td>1643317183</td>\n",
       "      <td>showerthoughts</td>\n",
       "    </tr>\n",
       "    <tr>\n",
       "      <th>4</th>\n",
       "      <td>The fact that I have to actively remind myself...</td>\n",
       "      <td>NaN</td>\n",
       "      <td>DawnMayRise</td>\n",
       "      <td>1643317126</td>\n",
       "      <td>showerthoughts</td>\n",
       "    </tr>\n",
       "  </tbody>\n",
       "</table>\n",
       "</div>"
      ],
      "text/plain": [
       "                                               title text  \\\n",
       "0  Every woman who is not lesbian is gay, (girls ...  NaN   \n",
       "1  Everyone keeps their phone on silent because w...  NaN   \n",
       "2                    A good book will always be new.  NaN   \n",
       "3  Science can either prove that no deity exists,...  NaN   \n",
       "4  The fact that I have to actively remind myself...  NaN   \n",
       "\n",
       "                   auth        time       subreddit  \n",
       "0  Altruistic_Rest_9861  1643317371  showerthoughts  \n",
       "1           smcmahon710  1643317311  showerthoughts  \n",
       "2          agreatday248  1643317210  showerthoughts  \n",
       "3               shimkei  1643317183  showerthoughts  \n",
       "4           DawnMayRise  1643317126  showerthoughts  "
      ]
     },
     "execution_count": 12,
     "metadata": {},
     "output_type": "execute_result"
    }
   ],
   "source": [
    "df_showerthoughts.head()"
   ]
  },
  {
   "cell_type": "markdown",
   "metadata": {},
   "source": [
    "### Read in 'CrazyIdeas' dataset"
   ]
  },
  {
   "cell_type": "code",
   "execution_count": 13,
   "metadata": {},
   "outputs": [
    {
     "data": {
      "text/html": [
       "<div>\n",
       "<style scoped>\n",
       "    .dataframe tbody tr th:only-of-type {\n",
       "        vertical-align: middle;\n",
       "    }\n",
       "\n",
       "    .dataframe tbody tr th {\n",
       "        vertical-align: top;\n",
       "    }\n",
       "\n",
       "    .dataframe thead th {\n",
       "        text-align: right;\n",
       "    }\n",
       "</style>\n",
       "<table border=\"1\" class=\"dataframe\">\n",
       "  <thead>\n",
       "    <tr style=\"text-align: right;\">\n",
       "      <th></th>\n",
       "      <th>Unnamed: 0</th>\n",
       "      <th>title</th>\n",
       "      <th>text</th>\n",
       "      <th>auth</th>\n",
       "      <th>time</th>\n",
       "    </tr>\n",
       "  </thead>\n",
       "  <tbody>\n",
       "    <tr>\n",
       "      <th>0</th>\n",
       "      <td>0</td>\n",
       "      <td>Instead of letting cats laze around all day we...</td>\n",
       "      <td>NaN</td>\n",
       "      <td>afungalmirror</td>\n",
       "      <td>1643317263</td>\n",
       "    </tr>\n",
       "    <tr>\n",
       "      <th>1</th>\n",
       "      <td>1</td>\n",
       "      <td>The US federal government could pay to have el...</td>\n",
       "      <td>This would help combat \"range anxiety\" by redu...</td>\n",
       "      <td>Comprehensive-Ad3963</td>\n",
       "      <td>1643317089</td>\n",
       "    </tr>\n",
       "    <tr>\n",
       "      <th>2</th>\n",
       "      <td>2</td>\n",
       "      <td>Do a parentage test and check the wedding date...</td>\n",
       "      <td>NaN</td>\n",
       "      <td>lurebat</td>\n",
       "      <td>1643315951</td>\n",
       "    </tr>\n",
       "    <tr>\n",
       "      <th>3</th>\n",
       "      <td>3</td>\n",
       "      <td>Be compassionate to everyone, including mods, ...</td>\n",
       "      <td>NaN</td>\n",
       "      <td>StringRingdotcom</td>\n",
       "      <td>1643315114</td>\n",
       "    </tr>\n",
       "    <tr>\n",
       "      <th>4</th>\n",
       "      <td>4</td>\n",
       "      <td>Every four years, have every football (soccer)...</td>\n",
       "      <td>Do it the years when there is no world cup</td>\n",
       "      <td>bufarreti</td>\n",
       "      <td>1643313995</td>\n",
       "    </tr>\n",
       "  </tbody>\n",
       "</table>\n",
       "</div>"
      ],
      "text/plain": [
       "   Unnamed: 0                                              title  \\\n",
       "0           0  Instead of letting cats laze around all day we...   \n",
       "1           1  The US federal government could pay to have el...   \n",
       "2           2  Do a parentage test and check the wedding date...   \n",
       "3           3  Be compassionate to everyone, including mods, ...   \n",
       "4           4  Every four years, have every football (soccer)...   \n",
       "\n",
       "                                                text                  auth  \\\n",
       "0                                                NaN         afungalmirror   \n",
       "1  This would help combat \"range anxiety\" by redu...  Comprehensive-Ad3963   \n",
       "2                                                NaN               lurebat   \n",
       "3                                                NaN      StringRingdotcom   \n",
       "4         Do it the years when there is no world cup             bufarreti   \n",
       "\n",
       "         time  \n",
       "0  1643317263  \n",
       "1  1643317089  \n",
       "2  1643315951  \n",
       "3  1643315114  \n",
       "4  1643313995  "
      ]
     },
     "execution_count": 13,
     "metadata": {},
     "output_type": "execute_result"
    }
   ],
   "source": [
    "df_crazyideas = pd.read_csv('./data/crazyideas.csv')\n",
    "df_crazyideas.head()"
   ]
  },
  {
   "cell_type": "code",
   "execution_count": 14,
   "metadata": {},
   "outputs": [],
   "source": [
    "# # Drop 'Unnamed: 0' column\n",
    "\n",
    "# df_crazyideas = df_crazyideas.drop(columns='Unnamed: 0')"
   ]
  },
  {
   "cell_type": "code",
   "execution_count": 15,
   "metadata": {},
   "outputs": [
    {
     "data": {
      "text/html": [
       "<div>\n",
       "<style scoped>\n",
       "    .dataframe tbody tr th:only-of-type {\n",
       "        vertical-align: middle;\n",
       "    }\n",
       "\n",
       "    .dataframe tbody tr th {\n",
       "        vertical-align: top;\n",
       "    }\n",
       "\n",
       "    .dataframe thead th {\n",
       "        text-align: right;\n",
       "    }\n",
       "</style>\n",
       "<table border=\"1\" class=\"dataframe\">\n",
       "  <thead>\n",
       "    <tr style=\"text-align: right;\">\n",
       "      <th></th>\n",
       "      <th>title</th>\n",
       "      <th>text</th>\n",
       "      <th>auth</th>\n",
       "      <th>time</th>\n",
       "    </tr>\n",
       "  </thead>\n",
       "  <tbody>\n",
       "    <tr>\n",
       "      <th>0</th>\n",
       "      <td>Instead of letting cats laze around all day we...</td>\n",
       "      <td>NaN</td>\n",
       "      <td>afungalmirror</td>\n",
       "      <td>1643317263</td>\n",
       "    </tr>\n",
       "    <tr>\n",
       "      <th>1</th>\n",
       "      <td>The US federal government could pay to have el...</td>\n",
       "      <td>This would help combat \"range anxiety\" by redu...</td>\n",
       "      <td>Comprehensive-Ad3963</td>\n",
       "      <td>1643317089</td>\n",
       "    </tr>\n",
       "    <tr>\n",
       "      <th>2</th>\n",
       "      <td>Do a parentage test and check the wedding date...</td>\n",
       "      <td>NaN</td>\n",
       "      <td>lurebat</td>\n",
       "      <td>1643315951</td>\n",
       "    </tr>\n",
       "    <tr>\n",
       "      <th>3</th>\n",
       "      <td>Be compassionate to everyone, including mods, ...</td>\n",
       "      <td>NaN</td>\n",
       "      <td>StringRingdotcom</td>\n",
       "      <td>1643315114</td>\n",
       "    </tr>\n",
       "    <tr>\n",
       "      <th>4</th>\n",
       "      <td>Every four years, have every football (soccer)...</td>\n",
       "      <td>Do it the years when there is no world cup</td>\n",
       "      <td>bufarreti</td>\n",
       "      <td>1643313995</td>\n",
       "    </tr>\n",
       "  </tbody>\n",
       "</table>\n",
       "</div>"
      ],
      "text/plain": [
       "                                               title  \\\n",
       "0  Instead of letting cats laze around all day we...   \n",
       "1  The US federal government could pay to have el...   \n",
       "2  Do a parentage test and check the wedding date...   \n",
       "3  Be compassionate to everyone, including mods, ...   \n",
       "4  Every four years, have every football (soccer)...   \n",
       "\n",
       "                                                text                  auth  \\\n",
       "0                                                NaN         afungalmirror   \n",
       "1  This would help combat \"range anxiety\" by redu...  Comprehensive-Ad3963   \n",
       "2                                                NaN               lurebat   \n",
       "3                                                NaN      StringRingdotcom   \n",
       "4         Do it the years when there is no world cup             bufarreti   \n",
       "\n",
       "         time  \n",
       "0  1643317263  \n",
       "1  1643317089  \n",
       "2  1643315951  \n",
       "3  1643315114  \n",
       "4  1643313995  "
      ]
     },
     "execution_count": 15,
     "metadata": {},
     "output_type": "execute_result"
    }
   ],
   "source": [
    "# df_crazyideas.head()"
   ]
  },
  {
   "cell_type": "markdown",
   "metadata": {},
   "source": [
    "### Duplicated values in 'CrazyIdeas'"
   ]
  },
  {
   "cell_type": "code",
   "execution_count": 16,
   "metadata": {},
   "outputs": [
    {
     "data": {
      "text/plain": [
       "False    9978\n",
       "dtype: int64"
      ]
     },
     "execution_count": 16,
     "metadata": {},
     "output_type": "execute_result"
    }
   ],
   "source": [
    "# Duplicated values in CrazyIdeas dataframe\n",
    "\n",
    "df_crazyideas.duplicated().value_counts()"
   ]
  },
  {
   "cell_type": "code",
   "execution_count": 17,
   "metadata": {},
   "outputs": [
    {
     "data": {
      "text/plain": [
       "False    9887\n",
       "True       91\n",
       "Name: title, dtype: int64"
      ]
     },
     "execution_count": 17,
     "metadata": {},
     "output_type": "execute_result"
    }
   ],
   "source": [
    "# Duplicated values in CrazyIdeas 'title' column\n",
    "# 'title' contains the majority of the text in CrazyIdeas posts\n",
    "\n",
    "df_crazyideas['title'].duplicated().value_counts()"
   ]
  },
  {
   "cell_type": "code",
   "execution_count": 18,
   "metadata": {},
   "outputs": [
    {
     "data": {
      "text/plain": [
       "False    9887\n",
       "dtype: int64"
      ]
     },
     "execution_count": 18,
     "metadata": {},
     "output_type": "execute_result"
    }
   ],
   "source": [
    "# Drop all dataframe rows with duplicated titles\n",
    "\n",
    "df_crazyideas.drop_duplicates(subset='title', keep='first').duplicated().value_counts()"
   ]
  },
  {
   "cell_type": "code",
   "execution_count": 19,
   "metadata": {},
   "outputs": [],
   "source": [
    "df_crazyideas = df_crazyideas.drop_duplicates(subset='title', keep='first')"
   ]
  },
  {
   "cell_type": "code",
   "execution_count": 20,
   "metadata": {},
   "outputs": [
    {
     "data": {
      "text/plain": [
       "False    9887\n",
       "dtype: int64"
      ]
     },
     "execution_count": 20,
     "metadata": {},
     "output_type": "execute_result"
    }
   ],
   "source": [
    "# Check that duplicated rows have been dropped\n",
    "\n",
    "df_crazyideas.duplicated().value_counts()"
   ]
  },
  {
   "cell_type": "markdown",
   "metadata": {},
   "source": [
    "### Add subreddit identification column to CrazyIdeas"
   ]
  },
  {
   "cell_type": "code",
   "execution_count": 21,
   "metadata": {},
   "outputs": [],
   "source": [
    "df_crazyideas['subreddit'] = np.full_like(df_crazyideas['title'], 'crazyideas')"
   ]
  },
  {
   "cell_type": "code",
   "execution_count": 22,
   "metadata": {},
   "outputs": [
    {
     "data": {
      "text/html": [
       "<div>\n",
       "<style scoped>\n",
       "    .dataframe tbody tr th:only-of-type {\n",
       "        vertical-align: middle;\n",
       "    }\n",
       "\n",
       "    .dataframe tbody tr th {\n",
       "        vertical-align: top;\n",
       "    }\n",
       "\n",
       "    .dataframe thead th {\n",
       "        text-align: right;\n",
       "    }\n",
       "</style>\n",
       "<table border=\"1\" class=\"dataframe\">\n",
       "  <thead>\n",
       "    <tr style=\"text-align: right;\">\n",
       "      <th></th>\n",
       "      <th>title</th>\n",
       "      <th>text</th>\n",
       "      <th>auth</th>\n",
       "      <th>time</th>\n",
       "      <th>subreddit</th>\n",
       "    </tr>\n",
       "  </thead>\n",
       "  <tbody>\n",
       "    <tr>\n",
       "      <th>0</th>\n",
       "      <td>Instead of letting cats laze around all day we...</td>\n",
       "      <td>NaN</td>\n",
       "      <td>afungalmirror</td>\n",
       "      <td>1643317263</td>\n",
       "      <td>crazyideas</td>\n",
       "    </tr>\n",
       "    <tr>\n",
       "      <th>1</th>\n",
       "      <td>The US federal government could pay to have el...</td>\n",
       "      <td>This would help combat \"range anxiety\" by redu...</td>\n",
       "      <td>Comprehensive-Ad3963</td>\n",
       "      <td>1643317089</td>\n",
       "      <td>crazyideas</td>\n",
       "    </tr>\n",
       "    <tr>\n",
       "      <th>2</th>\n",
       "      <td>Do a parentage test and check the wedding date...</td>\n",
       "      <td>NaN</td>\n",
       "      <td>lurebat</td>\n",
       "      <td>1643315951</td>\n",
       "      <td>crazyideas</td>\n",
       "    </tr>\n",
       "    <tr>\n",
       "      <th>3</th>\n",
       "      <td>Be compassionate to everyone, including mods, ...</td>\n",
       "      <td>NaN</td>\n",
       "      <td>StringRingdotcom</td>\n",
       "      <td>1643315114</td>\n",
       "      <td>crazyideas</td>\n",
       "    </tr>\n",
       "    <tr>\n",
       "      <th>4</th>\n",
       "      <td>Every four years, have every football (soccer)...</td>\n",
       "      <td>Do it the years when there is no world cup</td>\n",
       "      <td>bufarreti</td>\n",
       "      <td>1643313995</td>\n",
       "      <td>crazyideas</td>\n",
       "    </tr>\n",
       "  </tbody>\n",
       "</table>\n",
       "</div>"
      ],
      "text/plain": [
       "                                               title  \\\n",
       "0  Instead of letting cats laze around all day we...   \n",
       "1  The US federal government could pay to have el...   \n",
       "2  Do a parentage test and check the wedding date...   \n",
       "3  Be compassionate to everyone, including mods, ...   \n",
       "4  Every four years, have every football (soccer)...   \n",
       "\n",
       "                                                text                  auth  \\\n",
       "0                                                NaN         afungalmirror   \n",
       "1  This would help combat \"range anxiety\" by redu...  Comprehensive-Ad3963   \n",
       "2                                                NaN               lurebat   \n",
       "3                                                NaN      StringRingdotcom   \n",
       "4         Do it the years when there is no world cup             bufarreti   \n",
       "\n",
       "         time   subreddit  \n",
       "0  1643317263  crazyideas  \n",
       "1  1643317089  crazyideas  \n",
       "2  1643315951  crazyideas  \n",
       "3  1643315114  crazyideas  \n",
       "4  1643313995  crazyideas  "
      ]
     },
     "execution_count": 22,
     "metadata": {},
     "output_type": "execute_result"
    }
   ],
   "source": [
    "df_crazyideas.head()"
   ]
  },
  {
   "cell_type": "markdown",
   "metadata": {},
   "source": [
    "### Combine Showerthoughts and CrazyIdeas datasets"
   ]
  },
  {
   "cell_type": "code",
   "execution_count": 23,
   "metadata": {},
   "outputs": [
    {
     "data": {
      "text/html": [
       "<div>\n",
       "<style scoped>\n",
       "    .dataframe tbody tr th:only-of-type {\n",
       "        vertical-align: middle;\n",
       "    }\n",
       "\n",
       "    .dataframe tbody tr th {\n",
       "        vertical-align: top;\n",
       "    }\n",
       "\n",
       "    .dataframe thead th {\n",
       "        text-align: right;\n",
       "    }\n",
       "</style>\n",
       "<table border=\"1\" class=\"dataframe\">\n",
       "  <thead>\n",
       "    <tr style=\"text-align: right;\">\n",
       "      <th></th>\n",
       "      <th>title</th>\n",
       "      <th>text</th>\n",
       "      <th>auth</th>\n",
       "      <th>time</th>\n",
       "      <th>subreddit</th>\n",
       "    </tr>\n",
       "  </thead>\n",
       "  <tbody>\n",
       "    <tr>\n",
       "      <th>0</th>\n",
       "      <td>Every woman who is not lesbian is gay, (girls ...</td>\n",
       "      <td>NaN</td>\n",
       "      <td>Altruistic_Rest_9861</td>\n",
       "      <td>1643317371</td>\n",
       "      <td>showerthoughts</td>\n",
       "    </tr>\n",
       "    <tr>\n",
       "      <th>1</th>\n",
       "      <td>Everyone keeps their phone on silent because w...</td>\n",
       "      <td>NaN</td>\n",
       "      <td>smcmahon710</td>\n",
       "      <td>1643317311</td>\n",
       "      <td>showerthoughts</td>\n",
       "    </tr>\n",
       "    <tr>\n",
       "      <th>2</th>\n",
       "      <td>A good book will always be new.</td>\n",
       "      <td>NaN</td>\n",
       "      <td>agreatday248</td>\n",
       "      <td>1643317210</td>\n",
       "      <td>showerthoughts</td>\n",
       "    </tr>\n",
       "    <tr>\n",
       "      <th>3</th>\n",
       "      <td>Science can either prove that no deity exists,...</td>\n",
       "      <td>NaN</td>\n",
       "      <td>shimkei</td>\n",
       "      <td>1643317183</td>\n",
       "      <td>showerthoughts</td>\n",
       "    </tr>\n",
       "    <tr>\n",
       "      <th>4</th>\n",
       "      <td>The fact that I have to actively remind myself...</td>\n",
       "      <td>NaN</td>\n",
       "      <td>DawnMayRise</td>\n",
       "      <td>1643317126</td>\n",
       "      <td>showerthoughts</td>\n",
       "    </tr>\n",
       "  </tbody>\n",
       "</table>\n",
       "</div>"
      ],
      "text/plain": [
       "                                               title text  \\\n",
       "0  Every woman who is not lesbian is gay, (girls ...  NaN   \n",
       "1  Everyone keeps their phone on silent because w...  NaN   \n",
       "2                    A good book will always be new.  NaN   \n",
       "3  Science can either prove that no deity exists,...  NaN   \n",
       "4  The fact that I have to actively remind myself...  NaN   \n",
       "\n",
       "                   auth        time       subreddit  \n",
       "0  Altruistic_Rest_9861  1643317371  showerthoughts  \n",
       "1           smcmahon710  1643317311  showerthoughts  \n",
       "2          agreatday248  1643317210  showerthoughts  \n",
       "3               shimkei  1643317183  showerthoughts  \n",
       "4           DawnMayRise  1643317126  showerthoughts  "
      ]
     },
     "execution_count": 23,
     "metadata": {},
     "output_type": "execute_result"
    }
   ],
   "source": [
    "df_showerthoughts.head()"
   ]
  },
  {
   "cell_type": "code",
   "execution_count": 24,
   "metadata": {},
   "outputs": [
    {
     "data": {
      "text/html": [
       "<div>\n",
       "<style scoped>\n",
       "    .dataframe tbody tr th:only-of-type {\n",
       "        vertical-align: middle;\n",
       "    }\n",
       "\n",
       "    .dataframe tbody tr th {\n",
       "        vertical-align: top;\n",
       "    }\n",
       "\n",
       "    .dataframe thead th {\n",
       "        text-align: right;\n",
       "    }\n",
       "</style>\n",
       "<table border=\"1\" class=\"dataframe\">\n",
       "  <thead>\n",
       "    <tr style=\"text-align: right;\">\n",
       "      <th></th>\n",
       "      <th>title</th>\n",
       "      <th>text</th>\n",
       "      <th>auth</th>\n",
       "      <th>time</th>\n",
       "      <th>subreddit</th>\n",
       "    </tr>\n",
       "  </thead>\n",
       "  <tbody>\n",
       "    <tr>\n",
       "      <th>0</th>\n",
       "      <td>Instead of letting cats laze around all day we...</td>\n",
       "      <td>NaN</td>\n",
       "      <td>afungalmirror</td>\n",
       "      <td>1643317263</td>\n",
       "      <td>crazyideas</td>\n",
       "    </tr>\n",
       "    <tr>\n",
       "      <th>1</th>\n",
       "      <td>The US federal government could pay to have el...</td>\n",
       "      <td>This would help combat \"range anxiety\" by redu...</td>\n",
       "      <td>Comprehensive-Ad3963</td>\n",
       "      <td>1643317089</td>\n",
       "      <td>crazyideas</td>\n",
       "    </tr>\n",
       "    <tr>\n",
       "      <th>2</th>\n",
       "      <td>Do a parentage test and check the wedding date...</td>\n",
       "      <td>NaN</td>\n",
       "      <td>lurebat</td>\n",
       "      <td>1643315951</td>\n",
       "      <td>crazyideas</td>\n",
       "    </tr>\n",
       "    <tr>\n",
       "      <th>3</th>\n",
       "      <td>Be compassionate to everyone, including mods, ...</td>\n",
       "      <td>NaN</td>\n",
       "      <td>StringRingdotcom</td>\n",
       "      <td>1643315114</td>\n",
       "      <td>crazyideas</td>\n",
       "    </tr>\n",
       "    <tr>\n",
       "      <th>4</th>\n",
       "      <td>Every four years, have every football (soccer)...</td>\n",
       "      <td>Do it the years when there is no world cup</td>\n",
       "      <td>bufarreti</td>\n",
       "      <td>1643313995</td>\n",
       "      <td>crazyideas</td>\n",
       "    </tr>\n",
       "  </tbody>\n",
       "</table>\n",
       "</div>"
      ],
      "text/plain": [
       "                                               title  \\\n",
       "0  Instead of letting cats laze around all day we...   \n",
       "1  The US federal government could pay to have el...   \n",
       "2  Do a parentage test and check the wedding date...   \n",
       "3  Be compassionate to everyone, including mods, ...   \n",
       "4  Every four years, have every football (soccer)...   \n",
       "\n",
       "                                                text                  auth  \\\n",
       "0                                                NaN         afungalmirror   \n",
       "1  This would help combat \"range anxiety\" by redu...  Comprehensive-Ad3963   \n",
       "2                                                NaN               lurebat   \n",
       "3                                                NaN      StringRingdotcom   \n",
       "4         Do it the years when there is no world cup             bufarreti   \n",
       "\n",
       "         time   subreddit  \n",
       "0  1643317263  crazyideas  \n",
       "1  1643317089  crazyideas  \n",
       "2  1643315951  crazyideas  \n",
       "3  1643315114  crazyideas  \n",
       "4  1643313995  crazyideas  "
      ]
     },
     "execution_count": 24,
     "metadata": {},
     "output_type": "execute_result"
    }
   ],
   "source": [
    "df_crazyideas.head()"
   ]
  },
  {
   "cell_type": "code",
   "execution_count": 25,
   "metadata": {},
   "outputs": [],
   "source": [
    "df_subreddits = pd.concat([df_showerthoughts, df_crazyideas])"
   ]
  },
  {
   "cell_type": "code",
   "execution_count": 26,
   "metadata": {},
   "outputs": [
    {
     "data": {
      "text/html": [
       "<div>\n",
       "<style scoped>\n",
       "    .dataframe tbody tr th:only-of-type {\n",
       "        vertical-align: middle;\n",
       "    }\n",
       "\n",
       "    .dataframe tbody tr th {\n",
       "        vertical-align: top;\n",
       "    }\n",
       "\n",
       "    .dataframe thead th {\n",
       "        text-align: right;\n",
       "    }\n",
       "</style>\n",
       "<table border=\"1\" class=\"dataframe\">\n",
       "  <thead>\n",
       "    <tr style=\"text-align: right;\">\n",
       "      <th></th>\n",
       "      <th>title</th>\n",
       "      <th>text</th>\n",
       "      <th>auth</th>\n",
       "      <th>time</th>\n",
       "      <th>subreddit</th>\n",
       "    </tr>\n",
       "  </thead>\n",
       "  <tbody>\n",
       "    <tr>\n",
       "      <th>0</th>\n",
       "      <td>Every woman who is not lesbian is gay, (girls ...</td>\n",
       "      <td>NaN</td>\n",
       "      <td>Altruistic_Rest_9861</td>\n",
       "      <td>1643317371</td>\n",
       "      <td>showerthoughts</td>\n",
       "    </tr>\n",
       "    <tr>\n",
       "      <th>1</th>\n",
       "      <td>Everyone keeps their phone on silent because w...</td>\n",
       "      <td>NaN</td>\n",
       "      <td>smcmahon710</td>\n",
       "      <td>1643317311</td>\n",
       "      <td>showerthoughts</td>\n",
       "    </tr>\n",
       "    <tr>\n",
       "      <th>2</th>\n",
       "      <td>A good book will always be new.</td>\n",
       "      <td>NaN</td>\n",
       "      <td>agreatday248</td>\n",
       "      <td>1643317210</td>\n",
       "      <td>showerthoughts</td>\n",
       "    </tr>\n",
       "    <tr>\n",
       "      <th>3</th>\n",
       "      <td>Science can either prove that no deity exists,...</td>\n",
       "      <td>NaN</td>\n",
       "      <td>shimkei</td>\n",
       "      <td>1643317183</td>\n",
       "      <td>showerthoughts</td>\n",
       "    </tr>\n",
       "    <tr>\n",
       "      <th>4</th>\n",
       "      <td>The fact that I have to actively remind myself...</td>\n",
       "      <td>NaN</td>\n",
       "      <td>DawnMayRise</td>\n",
       "      <td>1643317126</td>\n",
       "      <td>showerthoughts</td>\n",
       "    </tr>\n",
       "  </tbody>\n",
       "</table>\n",
       "</div>"
      ],
      "text/plain": [
       "                                               title text  \\\n",
       "0  Every woman who is not lesbian is gay, (girls ...  NaN   \n",
       "1  Everyone keeps their phone on silent because w...  NaN   \n",
       "2                    A good book will always be new.  NaN   \n",
       "3  Science can either prove that no deity exists,...  NaN   \n",
       "4  The fact that I have to actively remind myself...  NaN   \n",
       "\n",
       "                   auth        time       subreddit  \n",
       "0  Altruistic_Rest_9861  1643317371  showerthoughts  \n",
       "1           smcmahon710  1643317311  showerthoughts  \n",
       "2          agreatday248  1643317210  showerthoughts  \n",
       "3               shimkei  1643317183  showerthoughts  \n",
       "4           DawnMayRise  1643317126  showerthoughts  "
      ]
     },
     "execution_count": 26,
     "metadata": {},
     "output_type": "execute_result"
    }
   ],
   "source": [
    "df_subreddits.head()"
   ]
  },
  {
   "cell_type": "code",
   "execution_count": 27,
   "metadata": {},
   "outputs": [
    {
     "data": {
      "text/plain": [
       "(9511, 5)"
      ]
     },
     "execution_count": 27,
     "metadata": {},
     "output_type": "execute_result"
    }
   ],
   "source": [
    "df_showerthoughts.shape"
   ]
  },
  {
   "cell_type": "code",
   "execution_count": 28,
   "metadata": {},
   "outputs": [
    {
     "data": {
      "text/plain": [
       "(9887, 5)"
      ]
     },
     "execution_count": 28,
     "metadata": {},
     "output_type": "execute_result"
    }
   ],
   "source": [
    "df_crazyideas.shape"
   ]
  },
  {
   "cell_type": "code",
   "execution_count": 29,
   "metadata": {},
   "outputs": [
    {
     "data": {
      "text/plain": [
       "(19398, 5)"
      ]
     },
     "execution_count": 29,
     "metadata": {},
     "output_type": "execute_result"
    }
   ],
   "source": [
    "df_subreddits.shape"
   ]
  },
  {
   "cell_type": "code",
   "execution_count": 30,
   "metadata": {},
   "outputs": [
    {
     "data": {
      "text/plain": [
       "crazyideas        9887\n",
       "showerthoughts    9511\n",
       "Name: subreddit, dtype: int64"
      ]
     },
     "execution_count": 30,
     "metadata": {},
     "output_type": "execute_result"
    }
   ],
   "source": [
    "df_subreddits['subreddit'].value_counts()"
   ]
  },
  {
   "cell_type": "markdown",
   "metadata": {},
   "source": [
    "### Missing Values"
   ]
  },
  {
   "cell_type": "code",
   "execution_count": 31,
   "metadata": {},
   "outputs": [
    {
     "data": {
      "text/plain": [
       "title            0\n",
       "text         15117\n",
       "auth             0\n",
       "time             0\n",
       "subreddit        0\n",
       "dtype: int64"
      ]
     },
     "execution_count": 31,
     "metadata": {},
     "output_type": "execute_result"
    }
   ],
   "source": [
    "# Missing values in subreddits dataframe\n",
    "# All of missing values are in text column. This is due to the fact that the majority of the post text is in the 'title' section in both subreddits\n",
    "\n",
    "df_subreddits.isna().sum()"
   ]
  },
  {
   "cell_type": "code",
   "execution_count": 32,
   "metadata": {},
   "outputs": [
    {
     "data": {
      "text/html": [
       "<div>\n",
       "<style scoped>\n",
       "    .dataframe tbody tr th:only-of-type {\n",
       "        vertical-align: middle;\n",
       "    }\n",
       "\n",
       "    .dataframe tbody tr th {\n",
       "        vertical-align: top;\n",
       "    }\n",
       "\n",
       "    .dataframe thead th {\n",
       "        text-align: right;\n",
       "    }\n",
       "</style>\n",
       "<table border=\"1\" class=\"dataframe\">\n",
       "  <thead>\n",
       "    <tr style=\"text-align: right;\">\n",
       "      <th></th>\n",
       "      <th>text</th>\n",
       "    </tr>\n",
       "  </thead>\n",
       "  <tbody>\n",
       "    <tr>\n",
       "      <th>0</th>\n",
       "      <td>NaN</td>\n",
       "    </tr>\n",
       "    <tr>\n",
       "      <th>1</th>\n",
       "      <td>NaN</td>\n",
       "    </tr>\n",
       "    <tr>\n",
       "      <th>2</th>\n",
       "      <td>NaN</td>\n",
       "    </tr>\n",
       "    <tr>\n",
       "      <th>3</th>\n",
       "      <td>NaN</td>\n",
       "    </tr>\n",
       "    <tr>\n",
       "      <th>4</th>\n",
       "      <td>NaN</td>\n",
       "    </tr>\n",
       "    <tr>\n",
       "      <th>...</th>\n",
       "      <td>...</td>\n",
       "    </tr>\n",
       "    <tr>\n",
       "      <th>9970</th>\n",
       "      <td>NaN</td>\n",
       "    </tr>\n",
       "    <tr>\n",
       "      <th>9972</th>\n",
       "      <td>NaN</td>\n",
       "    </tr>\n",
       "    <tr>\n",
       "      <th>9973</th>\n",
       "      <td>NaN</td>\n",
       "    </tr>\n",
       "    <tr>\n",
       "      <th>9975</th>\n",
       "      <td>NaN</td>\n",
       "    </tr>\n",
       "    <tr>\n",
       "      <th>9976</th>\n",
       "      <td>NaN</td>\n",
       "    </tr>\n",
       "  </tbody>\n",
       "</table>\n",
       "<p>15117 rows × 1 columns</p>\n",
       "</div>"
      ],
      "text/plain": [
       "     text\n",
       "0     NaN\n",
       "1     NaN\n",
       "2     NaN\n",
       "3     NaN\n",
       "4     NaN\n",
       "...   ...\n",
       "9970  NaN\n",
       "9972  NaN\n",
       "9973  NaN\n",
       "9975  NaN\n",
       "9976  NaN\n",
       "\n",
       "[15117 rows x 1 columns]"
      ]
     },
     "execution_count": 32,
     "metadata": {},
     "output_type": "execute_result"
    }
   ],
   "source": [
    "# Examine 'text' rows with mssing values\n",
    "\n",
    "df_subreddits[df_subreddits['text'].isna()==True][['text']].sort_values(by='text')"
   ]
  },
  {
   "cell_type": "code",
   "execution_count": 33,
   "metadata": {},
   "outputs": [],
   "source": [
    "# Replace missing values in 'text' column with blank space so that 'title' and 'text' columns can be combined for each row to show full text of post\n",
    "\n",
    "df_subreddits.fillna('', inplace=True)"
   ]
  },
  {
   "cell_type": "code",
   "execution_count": 34,
   "metadata": {},
   "outputs": [
    {
     "data": {
      "text/html": [
       "<div>\n",
       "<style scoped>\n",
       "    .dataframe tbody tr th:only-of-type {\n",
       "        vertical-align: middle;\n",
       "    }\n",
       "\n",
       "    .dataframe tbody tr th {\n",
       "        vertical-align: top;\n",
       "    }\n",
       "\n",
       "    .dataframe thead th {\n",
       "        text-align: right;\n",
       "    }\n",
       "</style>\n",
       "<table border=\"1\" class=\"dataframe\">\n",
       "  <thead>\n",
       "    <tr style=\"text-align: right;\">\n",
       "      <th></th>\n",
       "      <th>title</th>\n",
       "      <th>text</th>\n",
       "      <th>auth</th>\n",
       "      <th>time</th>\n",
       "      <th>subreddit</th>\n",
       "    </tr>\n",
       "  </thead>\n",
       "  <tbody>\n",
       "    <tr>\n",
       "      <th>0</th>\n",
       "      <td>Every woman who is not lesbian is gay, (girls ...</td>\n",
       "      <td></td>\n",
       "      <td>Altruistic_Rest_9861</td>\n",
       "      <td>1643317371</td>\n",
       "      <td>showerthoughts</td>\n",
       "    </tr>\n",
       "    <tr>\n",
       "      <th>1</th>\n",
       "      <td>Everyone keeps their phone on silent because w...</td>\n",
       "      <td></td>\n",
       "      <td>smcmahon710</td>\n",
       "      <td>1643317311</td>\n",
       "      <td>showerthoughts</td>\n",
       "    </tr>\n",
       "    <tr>\n",
       "      <th>2</th>\n",
       "      <td>A good book will always be new.</td>\n",
       "      <td></td>\n",
       "      <td>agreatday248</td>\n",
       "      <td>1643317210</td>\n",
       "      <td>showerthoughts</td>\n",
       "    </tr>\n",
       "    <tr>\n",
       "      <th>3</th>\n",
       "      <td>Science can either prove that no deity exists,...</td>\n",
       "      <td></td>\n",
       "      <td>shimkei</td>\n",
       "      <td>1643317183</td>\n",
       "      <td>showerthoughts</td>\n",
       "    </tr>\n",
       "    <tr>\n",
       "      <th>4</th>\n",
       "      <td>The fact that I have to actively remind myself...</td>\n",
       "      <td></td>\n",
       "      <td>DawnMayRise</td>\n",
       "      <td>1643317126</td>\n",
       "      <td>showerthoughts</td>\n",
       "    </tr>\n",
       "  </tbody>\n",
       "</table>\n",
       "</div>"
      ],
      "text/plain": [
       "                                               title text  \\\n",
       "0  Every woman who is not lesbian is gay, (girls ...        \n",
       "1  Everyone keeps their phone on silent because w...        \n",
       "2                    A good book will always be new.        \n",
       "3  Science can either prove that no deity exists,...        \n",
       "4  The fact that I have to actively remind myself...        \n",
       "\n",
       "                   auth        time       subreddit  \n",
       "0  Altruistic_Rest_9861  1643317371  showerthoughts  \n",
       "1           smcmahon710  1643317311  showerthoughts  \n",
       "2          agreatday248  1643317210  showerthoughts  \n",
       "3               shimkei  1643317183  showerthoughts  \n",
       "4           DawnMayRise  1643317126  showerthoughts  "
      ]
     },
     "execution_count": 34,
     "metadata": {},
     "output_type": "execute_result"
    }
   ],
   "source": [
    "df_subreddits.head()"
   ]
  },
  {
   "cell_type": "code",
   "execution_count": 35,
   "metadata": {},
   "outputs": [
    {
     "data": {
      "text/plain": [
       "title        0\n",
       "text         0\n",
       "auth         0\n",
       "time         0\n",
       "subreddit    0\n",
       "dtype: int64"
      ]
     },
     "execution_count": 35,
     "metadata": {},
     "output_type": "execute_result"
    }
   ],
   "source": [
    "df_subreddits.isna().sum()"
   ]
  },
  {
   "cell_type": "markdown",
   "metadata": {},
   "source": [
    "### Combine columns (title & text) to get full text of each reddit post"
   ]
  },
  {
   "cell_type": "code",
   "execution_count": 36,
   "metadata": {},
   "outputs": [],
   "source": [
    "# Create new column for full text of each post\n",
    "\n",
    "df_subreddits['full_text'] = df_subreddits['title'] + df_subreddits['text']"
   ]
  },
  {
   "cell_type": "code",
   "execution_count": 37,
   "metadata": {},
   "outputs": [
    {
     "data": {
      "text/html": [
       "<div>\n",
       "<style scoped>\n",
       "    .dataframe tbody tr th:only-of-type {\n",
       "        vertical-align: middle;\n",
       "    }\n",
       "\n",
       "    .dataframe tbody tr th {\n",
       "        vertical-align: top;\n",
       "    }\n",
       "\n",
       "    .dataframe thead th {\n",
       "        text-align: right;\n",
       "    }\n",
       "</style>\n",
       "<table border=\"1\" class=\"dataframe\">\n",
       "  <thead>\n",
       "    <tr style=\"text-align: right;\">\n",
       "      <th></th>\n",
       "      <th>title</th>\n",
       "      <th>text</th>\n",
       "      <th>auth</th>\n",
       "      <th>time</th>\n",
       "      <th>subreddit</th>\n",
       "      <th>full_text</th>\n",
       "    </tr>\n",
       "  </thead>\n",
       "  <tbody>\n",
       "    <tr>\n",
       "      <th>0</th>\n",
       "      <td>Every woman who is not lesbian is gay, (girls ...</td>\n",
       "      <td></td>\n",
       "      <td>Altruistic_Rest_9861</td>\n",
       "      <td>1643317371</td>\n",
       "      <td>showerthoughts</td>\n",
       "      <td>Every woman who is not lesbian is gay, (girls ...</td>\n",
       "    </tr>\n",
       "    <tr>\n",
       "      <th>1</th>\n",
       "      <td>Everyone keeps their phone on silent because w...</td>\n",
       "      <td></td>\n",
       "      <td>smcmahon710</td>\n",
       "      <td>1643317311</td>\n",
       "      <td>showerthoughts</td>\n",
       "      <td>Everyone keeps their phone on silent because w...</td>\n",
       "    </tr>\n",
       "    <tr>\n",
       "      <th>2</th>\n",
       "      <td>A good book will always be new.</td>\n",
       "      <td></td>\n",
       "      <td>agreatday248</td>\n",
       "      <td>1643317210</td>\n",
       "      <td>showerthoughts</td>\n",
       "      <td>A good book will always be new.</td>\n",
       "    </tr>\n",
       "    <tr>\n",
       "      <th>3</th>\n",
       "      <td>Science can either prove that no deity exists,...</td>\n",
       "      <td></td>\n",
       "      <td>shimkei</td>\n",
       "      <td>1643317183</td>\n",
       "      <td>showerthoughts</td>\n",
       "      <td>Science can either prove that no deity exists,...</td>\n",
       "    </tr>\n",
       "    <tr>\n",
       "      <th>4</th>\n",
       "      <td>The fact that I have to actively remind myself...</td>\n",
       "      <td></td>\n",
       "      <td>DawnMayRise</td>\n",
       "      <td>1643317126</td>\n",
       "      <td>showerthoughts</td>\n",
       "      <td>The fact that I have to actively remind myself...</td>\n",
       "    </tr>\n",
       "  </tbody>\n",
       "</table>\n",
       "</div>"
      ],
      "text/plain": [
       "                                               title text  \\\n",
       "0  Every woman who is not lesbian is gay, (girls ...        \n",
       "1  Everyone keeps their phone on silent because w...        \n",
       "2                    A good book will always be new.        \n",
       "3  Science can either prove that no deity exists,...        \n",
       "4  The fact that I have to actively remind myself...        \n",
       "\n",
       "                   auth        time       subreddit  \\\n",
       "0  Altruistic_Rest_9861  1643317371  showerthoughts   \n",
       "1           smcmahon710  1643317311  showerthoughts   \n",
       "2          agreatday248  1643317210  showerthoughts   \n",
       "3               shimkei  1643317183  showerthoughts   \n",
       "4           DawnMayRise  1643317126  showerthoughts   \n",
       "\n",
       "                                           full_text  \n",
       "0  Every woman who is not lesbian is gay, (girls ...  \n",
       "1  Everyone keeps their phone on silent because w...  \n",
       "2                    A good book will always be new.  \n",
       "3  Science can either prove that no deity exists,...  \n",
       "4  The fact that I have to actively remind myself...  "
      ]
     },
     "execution_count": 37,
     "metadata": {},
     "output_type": "execute_result"
    }
   ],
   "source": [
    "df_subreddits.head()"
   ]
  },
  {
   "cell_type": "markdown",
   "metadata": {},
   "source": [
    "## EDA"
   ]
  },
  {
   "cell_type": "markdown",
   "metadata": {},
   "source": [
    "### Letter counts of posts"
   ]
  },
  {
   "cell_type": "code",
   "execution_count": 38,
   "metadata": {},
   "outputs": [],
   "source": [
    "#Create list of letter count of each post in df_subreddits\n",
    "\n",
    "text_letter_cts = []\n",
    "for text in df_subreddits['full_text']:\n",
    "    text_letter_cts.append(len(text))"
   ]
  },
  {
   "cell_type": "code",
   "execution_count": 39,
   "metadata": {},
   "outputs": [],
   "source": [
    "#Add list to df_subreddit as new column 'letter_count'\n",
    "\n",
    "df_subreddits['letter_count'] = text_letter_cts"
   ]
  },
  {
   "cell_type": "code",
   "execution_count": 40,
   "metadata": {},
   "outputs": [
    {
     "data": {
      "text/html": [
       "<div>\n",
       "<style scoped>\n",
       "    .dataframe tbody tr th:only-of-type {\n",
       "        vertical-align: middle;\n",
       "    }\n",
       "\n",
       "    .dataframe tbody tr th {\n",
       "        vertical-align: top;\n",
       "    }\n",
       "\n",
       "    .dataframe thead th {\n",
       "        text-align: right;\n",
       "    }\n",
       "</style>\n",
       "<table border=\"1\" class=\"dataframe\">\n",
       "  <thead>\n",
       "    <tr style=\"text-align: right;\">\n",
       "      <th></th>\n",
       "      <th>title</th>\n",
       "      <th>text</th>\n",
       "      <th>auth</th>\n",
       "      <th>time</th>\n",
       "      <th>subreddit</th>\n",
       "      <th>full_text</th>\n",
       "      <th>letter_count</th>\n",
       "    </tr>\n",
       "  </thead>\n",
       "  <tbody>\n",
       "    <tr>\n",
       "      <th>0</th>\n",
       "      <td>Every woman who is not lesbian is gay, (girls ...</td>\n",
       "      <td></td>\n",
       "      <td>Altruistic_Rest_9861</td>\n",
       "      <td>1643317371</td>\n",
       "      <td>showerthoughts</td>\n",
       "      <td>Every woman who is not lesbian is gay, (girls ...</td>\n",
       "      <td>131</td>\n",
       "    </tr>\n",
       "    <tr>\n",
       "      <th>1</th>\n",
       "      <td>Everyone keeps their phone on silent because w...</td>\n",
       "      <td></td>\n",
       "      <td>smcmahon710</td>\n",
       "      <td>1643317311</td>\n",
       "      <td>showerthoughts</td>\n",
       "      <td>Everyone keeps their phone on silent because w...</td>\n",
       "      <td>81</td>\n",
       "    </tr>\n",
       "    <tr>\n",
       "      <th>2</th>\n",
       "      <td>A good book will always be new.</td>\n",
       "      <td></td>\n",
       "      <td>agreatday248</td>\n",
       "      <td>1643317210</td>\n",
       "      <td>showerthoughts</td>\n",
       "      <td>A good book will always be new.</td>\n",
       "      <td>31</td>\n",
       "    </tr>\n",
       "    <tr>\n",
       "      <th>3</th>\n",
       "      <td>Science can either prove that no deity exists,...</td>\n",
       "      <td></td>\n",
       "      <td>shimkei</td>\n",
       "      <td>1643317183</td>\n",
       "      <td>showerthoughts</td>\n",
       "      <td>Science can either prove that no deity exists,...</td>\n",
       "      <td>132</td>\n",
       "    </tr>\n",
       "    <tr>\n",
       "      <th>4</th>\n",
       "      <td>The fact that I have to actively remind myself...</td>\n",
       "      <td></td>\n",
       "      <td>DawnMayRise</td>\n",
       "      <td>1643317126</td>\n",
       "      <td>showerthoughts</td>\n",
       "      <td>The fact that I have to actively remind myself...</td>\n",
       "      <td>118</td>\n",
       "    </tr>\n",
       "  </tbody>\n",
       "</table>\n",
       "</div>"
      ],
      "text/plain": [
       "                                               title text  \\\n",
       "0  Every woman who is not lesbian is gay, (girls ...        \n",
       "1  Everyone keeps their phone on silent because w...        \n",
       "2                    A good book will always be new.        \n",
       "3  Science can either prove that no deity exists,...        \n",
       "4  The fact that I have to actively remind myself...        \n",
       "\n",
       "                   auth        time       subreddit  \\\n",
       "0  Altruistic_Rest_9861  1643317371  showerthoughts   \n",
       "1           smcmahon710  1643317311  showerthoughts   \n",
       "2          agreatday248  1643317210  showerthoughts   \n",
       "3               shimkei  1643317183  showerthoughts   \n",
       "4           DawnMayRise  1643317126  showerthoughts   \n",
       "\n",
       "                                           full_text  letter_count  \n",
       "0  Every woman who is not lesbian is gay, (girls ...           131  \n",
       "1  Everyone keeps their phone on silent because w...            81  \n",
       "2                    A good book will always be new.            31  \n",
       "3  Science can either prove that no deity exists,...           132  \n",
       "4  The fact that I have to actively remind myself...           118  "
      ]
     },
     "execution_count": 40,
     "metadata": {},
     "output_type": "execute_result"
    }
   ],
   "source": [
    "#Check that column has been added\n",
    "\n",
    "df_subreddits.head()"
   ]
  },
  {
   "cell_type": "code",
   "execution_count": 41,
   "metadata": {},
   "outputs": [
    {
     "data": {
      "image/png": "[encoded data removed]",
      "text/plain": [
       "<Figure size 864x360 with 1 Axes>"
      ]
     },
     "metadata": {
      "needs_background": "light"
     },
     "output_type": "display_data"
    }
   ],
   "source": [
    "#Plot distribution of letter counts for all posts in df_subreddit\n",
    "\n",
    "plt.figure(figsize=(12,5))\n",
    "sns.histplot(df_subreddits['letter_count'])\n",
    "plt.xlim(0,5000)\n",
    "plt.title('Distribution of Letter Counts of All Posts')\n",
    "plt.xlabel('Letter Count');"
   ]
  },
  {
   "cell_type": "code",
   "execution_count": 42,
   "metadata": {},
   "outputs": [
    {
     "data": {
      "image/png": "[encoded data removed]",
      "text/plain": [
       "<Figure size 864x360 with 1 Axes>"
      ]
     },
     "metadata": {
      "needs_background": "light"
     },
     "output_type": "display_data"
    }
   ],
   "source": [
    "#Reconfigure axis of figure to better visualize distribution of letter counts for all posts\n",
    "# This plot shows a very wide total distribution of letetr counts, with the vast amjoirty of posts in a smaller range between 1 and 250 letters\n",
    "\n",
    "plt.figure(figsize=(12,5))\n",
    "sns.histplot(df_subreddits['letter_count'])\n",
    "plt.xlim(0,2000)\n",
    "plt.title('Distribution of Letter Counts of All Posts')\n",
    "plt.xlabel('Letter Count');"
   ]
  },
  {
   "cell_type": "code",
   "execution_count": 43,
   "metadata": {},
   "outputs": [
    {
     "data": {
      "image/png": "[encoded data removed]",
      "text/plain": [
       "<Figure size 864x360 with 1 Axes>"
      ]
     },
     "metadata": {
      "needs_background": "light"
     },
     "output_type": "display_data"
    }
   ],
   "source": [
    "#Plot distribution of letter counts for all 'Showerthoughts' posts in df_subreddits\n",
    "# This plot shows a similar distribution of letter counts to that of all posts, but with a less wide range, with every posts with above 500 letters. The majority of posts seem to \n",
    "# have a letter count in the range of 1 to 250, with a maximum around 125 letters\n",
    "\n",
    "plt.figure(figsize=(12,5))\n",
    "sns.histplot(df_subreddits[df_subreddits['subreddit']=='showerthoughts']['letter_count'])\n",
    "plt.xlim(0,2000)\n",
    "plt.title('Distribution of Letter Counts of Showerthoughts Posts')\n",
    "plt.xlabel('Letter Count');"
   ]
  },
  {
   "cell_type": "code",
   "execution_count": 44,
   "metadata": {},
   "outputs": [
    {
     "data": {
      "image/png": "[encoded data removed]",
      "text/plain": [
       "<Figure size 864x360 with 1 Axes>"
      ]
     },
     "metadata": {
      "needs_background": "light"
     },
     "output_type": "display_data"
    }
   ],
   "source": [
    "#Plot distribution of letter counts for all 'CrazyIdeas' posts in df_subreddits\n",
    "# This plot shows a distribution of letter counts with much wider range than that of Showerthoughts posts only, with the majority of posts still falling around 125 letters\n",
    "\n",
    "plt.figure(figsize=(12,5))\n",
    "sns.histplot(df_subreddits[df_subreddits['subreddit']=='crazyideas']['letter_count'])\n",
    "plt.xlim(0,2000)\n",
    "plt.title('Distribution of Letter Counts of CrazyIdeas Posts')\n",
    "plt.xlabel('Letter Count');"
   ]
  },
  {
   "cell_type": "markdown",
   "metadata": {},
   "source": [
    "### Word counts of posts"
   ]
  },
  {
   "cell_type": "code",
   "execution_count": 45,
   "metadata": {},
   "outputs": [],
   "source": [
    "#Create list of word count of each post in df_subreddits\n",
    "\n",
    "text_word_cts = []\n",
    "for text in df_subreddits['full_text']:\n",
    "    words = text.split(' ')\n",
    "    text_word_cts.append(len(words))"
   ]
  },
  {
   "cell_type": "code",
   "execution_count": 46,
   "metadata": {},
   "outputs": [],
   "source": [
    "#Add list to df_subreddit as new column 'word_count'\n",
    "\n",
    "df_subreddits['word_count'] = text_word_cts"
   ]
  },
  {
   "cell_type": "code",
   "execution_count": 47,
   "metadata": {},
   "outputs": [
    {
     "data": {
      "text/html": [
       "<div>\n",
       "<style scoped>\n",
       "    .dataframe tbody tr th:only-of-type {\n",
       "        vertical-align: middle;\n",
       "    }\n",
       "\n",
       "    .dataframe tbody tr th {\n",
       "        vertical-align: top;\n",
       "    }\n",
       "\n",
       "    .dataframe thead th {\n",
       "        text-align: right;\n",
       "    }\n",
       "</style>\n",
       "<table border=\"1\" class=\"dataframe\">\n",
       "  <thead>\n",
       "    <tr style=\"text-align: right;\">\n",
       "      <th></th>\n",
       "      <th>title</th>\n",
       "      <th>text</th>\n",
       "      <th>auth</th>\n",
       "      <th>time</th>\n",
       "      <th>subreddit</th>\n",
       "      <th>full_text</th>\n",
       "      <th>letter_count</th>\n",
       "      <th>word_count</th>\n",
       "    </tr>\n",
       "  </thead>\n",
       "  <tbody>\n",
       "    <tr>\n",
       "      <th>0</th>\n",
       "      <td>Every woman who is not lesbian is gay, (girls ...</td>\n",
       "      <td></td>\n",
       "      <td>Altruistic_Rest_9861</td>\n",
       "      <td>1643317371</td>\n",
       "      <td>showerthoughts</td>\n",
       "      <td>Every woman who is not lesbian is gay, (girls ...</td>\n",
       "      <td>131</td>\n",
       "      <td>26</td>\n",
       "    </tr>\n",
       "    <tr>\n",
       "      <th>1</th>\n",
       "      <td>Everyone keeps their phone on silent because w...</td>\n",
       "      <td></td>\n",
       "      <td>smcmahon710</td>\n",
       "      <td>1643317311</td>\n",
       "      <td>showerthoughts</td>\n",
       "      <td>Everyone keeps their phone on silent because w...</td>\n",
       "      <td>81</td>\n",
       "      <td>13</td>\n",
       "    </tr>\n",
       "    <tr>\n",
       "      <th>2</th>\n",
       "      <td>A good book will always be new.</td>\n",
       "      <td></td>\n",
       "      <td>agreatday248</td>\n",
       "      <td>1643317210</td>\n",
       "      <td>showerthoughts</td>\n",
       "      <td>A good book will always be new.</td>\n",
       "      <td>31</td>\n",
       "      <td>7</td>\n",
       "    </tr>\n",
       "    <tr>\n",
       "      <th>3</th>\n",
       "      <td>Science can either prove that no deity exists,...</td>\n",
       "      <td></td>\n",
       "      <td>shimkei</td>\n",
       "      <td>1643317183</td>\n",
       "      <td>showerthoughts</td>\n",
       "      <td>Science can either prove that no deity exists,...</td>\n",
       "      <td>132</td>\n",
       "      <td>26</td>\n",
       "    </tr>\n",
       "    <tr>\n",
       "      <th>4</th>\n",
       "      <td>The fact that I have to actively remind myself...</td>\n",
       "      <td></td>\n",
       "      <td>DawnMayRise</td>\n",
       "      <td>1643317126</td>\n",
       "      <td>showerthoughts</td>\n",
       "      <td>The fact that I have to actively remind myself...</td>\n",
       "      <td>118</td>\n",
       "      <td>22</td>\n",
       "    </tr>\n",
       "  </tbody>\n",
       "</table>\n",
       "</div>"
      ],
      "text/plain": [
       "                                               title text  \\\n",
       "0  Every woman who is not lesbian is gay, (girls ...        \n",
       "1  Everyone keeps their phone on silent because w...        \n",
       "2                    A good book will always be new.        \n",
       "3  Science can either prove that no deity exists,...        \n",
       "4  The fact that I have to actively remind myself...        \n",
       "\n",
       "                   auth        time       subreddit  \\\n",
       "0  Altruistic_Rest_9861  1643317371  showerthoughts   \n",
       "1           smcmahon710  1643317311  showerthoughts   \n",
       "2          agreatday248  1643317210  showerthoughts   \n",
       "3               shimkei  1643317183  showerthoughts   \n",
       "4           DawnMayRise  1643317126  showerthoughts   \n",
       "\n",
       "                                           full_text  letter_count  word_count  \n",
       "0  Every woman who is not lesbian is gay, (girls ...           131          26  \n",
       "1  Everyone keeps their phone on silent because w...            81          13  \n",
       "2                    A good book will always be new.            31           7  \n",
       "3  Science can either prove that no deity exists,...           132          26  \n",
       "4  The fact that I have to actively remind myself...           118          22  "
      ]
     },
     "execution_count": 47,
     "metadata": {},
     "output_type": "execute_result"
    }
   ],
   "source": [
    "#Check that column has been added\n",
    "\n",
    "df_subreddits.head()"
   ]
  },
  {
   "cell_type": "code",
   "execution_count": 48,
   "metadata": {},
   "outputs": [
    {
     "data": {
      "image/png": "[encoded data removed]",
      "text/plain": [
       "<Figure size 864x360 with 1 Axes>"
      ]
     },
     "metadata": {
      "needs_background": "light"
     },
     "output_type": "display_data"
    }
   ],
   "source": [
    "#Plot distribution of word counts for all posts in df_subreddit\n",
    "\n",
    "plt.figure(figsize=(12,5))\n",
    "sns.histplot(df_subreddits['word_count'])\n",
    "plt.title('Distribution of Word Counts of All Posts')\n",
    "plt.xlabel('Word Count');"
   ]
  },
  {
   "cell_type": "code",
   "execution_count": 49,
   "metadata": {},
   "outputs": [
    {
     "data": {
      "image/png": "[encoded data removed]",
      "text/plain": [
       "<Figure size 864x360 with 1 Axes>"
      ]
     },
     "metadata": {
      "needs_background": "light"
     },
     "output_type": "display_data"
    }
   ],
   "source": [
    "#Reconfigure axis of figure to better visualize distribution of letter counts for all posts\n",
    "\n",
    "plt.figure(figsize=(12,5))\n",
    "sns.histplot(df_subreddits['letter_count'])\n",
    "plt.xlim(0,500)\n",
    "plt.title('Distribution of Word Counts of All Posts')\n",
    "plt.xlabel('Word Count');"
   ]
  },
  {
   "cell_type": "code",
   "execution_count": 50,
   "metadata": {},
   "outputs": [
    {
     "data": {
      "image/png": "[encoded data removed]",
      "text/plain": [
       "<Figure size 864x360 with 1 Axes>"
      ]
     },
     "metadata": {
      "needs_background": "light"
     },
     "output_type": "display_data"
    }
   ],
   "source": [
    "#Plot distribution of word counts for all 'Showerthoughts' posts in df_subreddits\n",
    "\n",
    "plt.figure(figsize=(12,5))\n",
    "sns.histplot(df_subreddits[df_subreddits['subreddit']=='showerthoughts']['word_count'])\n",
    "plt.xlim(0,500)\n",
    "plt.title('Distribution of Word Counts of Showerthoughts Posts')\n",
    "plt.xlabel('Word Count');"
   ]
  },
  {
   "cell_type": "code",
   "execution_count": 51,
   "metadata": {},
   "outputs": [
    {
     "data": {
      "image/png": "[encoded data removed]",
      "text/plain": [
       "<Figure size 864x360 with 1 Axes>"
      ]
     },
     "metadata": {
      "needs_background": "light"
     },
     "output_type": "display_data"
    }
   ],
   "source": [
    "#Plot distribution of word counts for all 'Showerthoughts' posts in df_subreddits\n",
    "\n",
    "plt.figure(figsize=(12,5))\n",
    "sns.histplot(df_subreddits[df_subreddits['subreddit']=='crazyideas']['word_count'])\n",
    "plt.xlim(0,500)\n",
    "plt.title('Distribution of Word Counts of CrazyIdeas Posts')\n",
    "plt.xlabel('Word Count');"
   ]
  },
  {
   "cell_type": "markdown",
   "metadata": {},
   "source": [
    "### Subreddits dataframe correlations"
   ]
  },
  {
   "cell_type": "code",
   "execution_count": 52,
   "metadata": {},
   "outputs": [],
   "source": [
    "# Create encoded 'subreddit' column to calculate correlations with other numerical features\n",
    "\n",
    "df_subreddits['subreddit_code'] = df_subreddits['subreddit'].map(lambda x: 0 if x=='showerthoughts' else 1)"
   ]
  },
  {
   "cell_type": "code",
   "execution_count": 53,
   "metadata": {},
   "outputs": [
    {
     "data": {
      "text/html": [
       "<div>\n",
       "<style scoped>\n",
       "    .dataframe tbody tr th:only-of-type {\n",
       "        vertical-align: middle;\n",
       "    }\n",
       "\n",
       "    .dataframe tbody tr th {\n",
       "        vertical-align: top;\n",
       "    }\n",
       "\n",
       "    .dataframe thead th {\n",
       "        text-align: right;\n",
       "    }\n",
       "</style>\n",
       "<table border=\"1\" class=\"dataframe\">\n",
       "  <thead>\n",
       "    <tr style=\"text-align: right;\">\n",
       "      <th></th>\n",
       "      <th>title</th>\n",
       "      <th>text</th>\n",
       "      <th>auth</th>\n",
       "      <th>time</th>\n",
       "      <th>subreddit</th>\n",
       "      <th>full_text</th>\n",
       "      <th>letter_count</th>\n",
       "      <th>word_count</th>\n",
       "      <th>subreddit_code</th>\n",
       "    </tr>\n",
       "  </thead>\n",
       "  <tbody>\n",
       "    <tr>\n",
       "      <th>0</th>\n",
       "      <td>Every woman who is not lesbian is gay, (girls ...</td>\n",
       "      <td></td>\n",
       "      <td>Altruistic_Rest_9861</td>\n",
       "      <td>1643317371</td>\n",
       "      <td>showerthoughts</td>\n",
       "      <td>Every woman who is not lesbian is gay, (girls ...</td>\n",
       "      <td>131</td>\n",
       "      <td>26</td>\n",
       "      <td>0</td>\n",
       "    </tr>\n",
       "    <tr>\n",
       "      <th>1</th>\n",
       "      <td>Everyone keeps their phone on silent because w...</td>\n",
       "      <td></td>\n",
       "      <td>smcmahon710</td>\n",
       "      <td>1643317311</td>\n",
       "      <td>showerthoughts</td>\n",
       "      <td>Everyone keeps their phone on silent because w...</td>\n",
       "      <td>81</td>\n",
       "      <td>13</td>\n",
       "      <td>0</td>\n",
       "    </tr>\n",
       "    <tr>\n",
       "      <th>2</th>\n",
       "      <td>A good book will always be new.</td>\n",
       "      <td></td>\n",
       "      <td>agreatday248</td>\n",
       "      <td>1643317210</td>\n",
       "      <td>showerthoughts</td>\n",
       "      <td>A good book will always be new.</td>\n",
       "      <td>31</td>\n",
       "      <td>7</td>\n",
       "      <td>0</td>\n",
       "    </tr>\n",
       "    <tr>\n",
       "      <th>3</th>\n",
       "      <td>Science can either prove that no deity exists,...</td>\n",
       "      <td></td>\n",
       "      <td>shimkei</td>\n",
       "      <td>1643317183</td>\n",
       "      <td>showerthoughts</td>\n",
       "      <td>Science can either prove that no deity exists,...</td>\n",
       "      <td>132</td>\n",
       "      <td>26</td>\n",
       "      <td>0</td>\n",
       "    </tr>\n",
       "    <tr>\n",
       "      <th>4</th>\n",
       "      <td>The fact that I have to actively remind myself...</td>\n",
       "      <td></td>\n",
       "      <td>DawnMayRise</td>\n",
       "      <td>1643317126</td>\n",
       "      <td>showerthoughts</td>\n",
       "      <td>The fact that I have to actively remind myself...</td>\n",
       "      <td>118</td>\n",
       "      <td>22</td>\n",
       "      <td>0</td>\n",
       "    </tr>\n",
       "  </tbody>\n",
       "</table>\n",
       "</div>"
      ],
      "text/plain": [
       "                                               title text  \\\n",
       "0  Every woman who is not lesbian is gay, (girls ...        \n",
       "1  Everyone keeps their phone on silent because w...        \n",
       "2                    A good book will always be new.        \n",
       "3  Science can either prove that no deity exists,...        \n",
       "4  The fact that I have to actively remind myself...        \n",
       "\n",
       "                   auth        time       subreddit  \\\n",
       "0  Altruistic_Rest_9861  1643317371  showerthoughts   \n",
       "1           smcmahon710  1643317311  showerthoughts   \n",
       "2          agreatday248  1643317210  showerthoughts   \n",
       "3               shimkei  1643317183  showerthoughts   \n",
       "4           DawnMayRise  1643317126  showerthoughts   \n",
       "\n",
       "                                           full_text  letter_count  \\\n",
       "0  Every woman who is not lesbian is gay, (girls ...           131   \n",
       "1  Everyone keeps their phone on silent because w...            81   \n",
       "2                    A good book will always be new.            31   \n",
       "3  Science can either prove that no deity exists,...           132   \n",
       "4  The fact that I have to actively remind myself...           118   \n",
       "\n",
       "   word_count  subreddit_code  \n",
       "0          26               0  \n",
       "1          13               0  \n",
       "2           7               0  \n",
       "3          26               0  \n",
       "4          22               0  "
      ]
     },
     "execution_count": 53,
     "metadata": {},
     "output_type": "execute_result"
    }
   ],
   "source": [
    "#Check that encoding column has been added\n",
    "\n",
    "df_subreddits.head()"
   ]
  },
  {
   "cell_type": "code",
   "execution_count": 54,
   "metadata": {},
   "outputs": [
    {
     "data": {
      "image/png": "[encoded data removed]",
      "text/plain": [
       "<Figure size 864x360 with 2 Axes>"
      ]
     },
     "metadata": {
      "needs_background": "light"
     },
     "output_type": "display_data"
    }
   ],
   "source": [
    "# Subreddits correlation heatmap\n",
    "# Word count and Lettr count both have mild correlation with subreddit\n",
    "# Time posted has a relatively high negative correlation with subreddit - this may be due to the time at which the data for each subreddit was collected\n",
    "\n",
    "plt.figure(figsize=(12,5))\n",
    "sns.heatmap(df_subreddits.corr(), annot=True, cmap='coolwarm');"
   ]
  },
  {
   "cell_type": "markdown",
   "metadata": {},
   "source": [
    "### Analysis of lengths of posts"
   ]
  },
  {
   "cell_type": "code",
   "execution_count": 55,
   "metadata": {},
   "outputs": [
    {
     "data": {
      "text/html": [
       "<div>\n",
       "<style scoped>\n",
       "    .dataframe tbody tr th:only-of-type {\n",
       "        vertical-align: middle;\n",
       "    }\n",
       "\n",
       "    .dataframe tbody tr th {\n",
       "        vertical-align: top;\n",
       "    }\n",
       "\n",
       "    .dataframe thead th {\n",
       "        text-align: right;\n",
       "    }\n",
       "</style>\n",
       "<table border=\"1\" class=\"dataframe\">\n",
       "  <thead>\n",
       "    <tr style=\"text-align: right;\">\n",
       "      <th></th>\n",
       "      <th>title</th>\n",
       "      <th>text</th>\n",
       "      <th>auth</th>\n",
       "      <th>time</th>\n",
       "      <th>subreddit</th>\n",
       "      <th>full_text</th>\n",
       "      <th>letter_count</th>\n",
       "      <th>word_count</th>\n",
       "      <th>subreddit_code</th>\n",
       "    </tr>\n",
       "  </thead>\n",
       "  <tbody>\n",
       "    <tr>\n",
       "      <th>6265</th>\n",
       "      <td>?</td>\n",
       "      <td></td>\n",
       "      <td>Misfits_Hub_</td>\n",
       "      <td>1642931586</td>\n",
       "      <td>showerthoughts</td>\n",
       "      <td>?</td>\n",
       "      <td>1</td>\n",
       "      <td>1</td>\n",
       "      <td>0</td>\n",
       "    </tr>\n",
       "    <tr>\n",
       "      <th>2565</th>\n",
       "      <td>e</td>\n",
       "      <td></td>\n",
       "      <td>Jamie_Rusell</td>\n",
       "      <td>1643162793</td>\n",
       "      <td>showerthoughts</td>\n",
       "      <td>e</td>\n",
       "      <td>1</td>\n",
       "      <td>1</td>\n",
       "      <td>0</td>\n",
       "    </tr>\n",
       "    <tr>\n",
       "      <th>759</th>\n",
       "      <td>.</td>\n",
       "      <td></td>\n",
       "      <td>Yourmom7300</td>\n",
       "      <td>1643267152</td>\n",
       "      <td>showerthoughts</td>\n",
       "      <td>.</td>\n",
       "      <td>1</td>\n",
       "      <td>1</td>\n",
       "      <td>0</td>\n",
       "    </tr>\n",
       "    <tr>\n",
       "      <th>9015</th>\n",
       "      <td>Y</td>\n",
       "      <td></td>\n",
       "      <td>Chilaquil8</td>\n",
       "      <td>1642788706</td>\n",
       "      <td>showerthoughts</td>\n",
       "      <td>Y</td>\n",
       "      <td>1</td>\n",
       "      <td>1</td>\n",
       "      <td>0</td>\n",
       "    </tr>\n",
       "    <tr>\n",
       "      <th>4552</th>\n",
       "      <td>Hm</td>\n",
       "      <td></td>\n",
       "      <td>slurpeequeen3</td>\n",
       "      <td>1632814887</td>\n",
       "      <td>crazyideas</td>\n",
       "      <td>Hm</td>\n",
       "      <td>2</td>\n",
       "      <td>1</td>\n",
       "      <td>1</td>\n",
       "    </tr>\n",
       "    <tr>\n",
       "      <th>4516</th>\n",
       "      <td>hi</td>\n",
       "      <td></td>\n",
       "      <td>liamiscool420</td>\n",
       "      <td>1643041024</td>\n",
       "      <td>showerthoughts</td>\n",
       "      <td>hi</td>\n",
       "      <td>2</td>\n",
       "      <td>1</td>\n",
       "      <td>0</td>\n",
       "    </tr>\n",
       "    <tr>\n",
       "      <th>2735</th>\n",
       "      <td>🤷🏻</td>\n",
       "      <td></td>\n",
       "      <td>Chemical-Passage-715</td>\n",
       "      <td>1643155129</td>\n",
       "      <td>showerthoughts</td>\n",
       "      <td>🤷🏻</td>\n",
       "      <td>2</td>\n",
       "      <td>1</td>\n",
       "      <td>0</td>\n",
       "    </tr>\n",
       "    <tr>\n",
       "      <th>7749</th>\n",
       "      <td>BC</td>\n",
       "      <td></td>\n",
       "      <td>brightlights55</td>\n",
       "      <td>1642853112</td>\n",
       "      <td>showerthoughts</td>\n",
       "      <td>BC</td>\n",
       "      <td>2</td>\n",
       "      <td>1</td>\n",
       "      <td>0</td>\n",
       "    </tr>\n",
       "    <tr>\n",
       "      <th>1322</th>\n",
       "      <td>sda</td>\n",
       "      <td></td>\n",
       "      <td>Emmanuel211ghd1</td>\n",
       "      <td>1640294089</td>\n",
       "      <td>crazyideas</td>\n",
       "      <td>sda</td>\n",
       "      <td>3</td>\n",
       "      <td>1</td>\n",
       "      <td>1</td>\n",
       "    </tr>\n",
       "    <tr>\n",
       "      <th>955</th>\n",
       "      <td>...</td>\n",
       "      <td></td>\n",
       "      <td>Malo______</td>\n",
       "      <td>1643255136</td>\n",
       "      <td>showerthoughts</td>\n",
       "      <td>...</td>\n",
       "      <td>3</td>\n",
       "      <td>1</td>\n",
       "      <td>0</td>\n",
       "    </tr>\n",
       "  </tbody>\n",
       "</table>\n",
       "</div>"
      ],
      "text/plain": [
       "     title text                  auth        time       subreddit full_text  \\\n",
       "6265     ?               Misfits_Hub_  1642931586  showerthoughts         ?   \n",
       "2565     e               Jamie_Rusell  1643162793  showerthoughts         e   \n",
       "759      .                Yourmom7300  1643267152  showerthoughts         .   \n",
       "9015     Y                 Chilaquil8  1642788706  showerthoughts         Y   \n",
       "4552    Hm              slurpeequeen3  1632814887      crazyideas        Hm   \n",
       "4516    hi              liamiscool420  1643041024  showerthoughts        hi   \n",
       "2735    🤷🏻       Chemical-Passage-715  1643155129  showerthoughts        🤷🏻   \n",
       "7749    BC             brightlights55  1642853112  showerthoughts        BC   \n",
       "1322   sda            Emmanuel211ghd1  1640294089      crazyideas       sda   \n",
       "955    ...                 Malo______  1643255136  showerthoughts       ...   \n",
       "\n",
       "      letter_count  word_count  subreddit_code  \n",
       "6265             1           1               0  \n",
       "2565             1           1               0  \n",
       "759              1           1               0  \n",
       "9015             1           1               0  \n",
       "4552             2           1               1  \n",
       "4516             2           1               0  \n",
       "2735             2           1               0  \n",
       "7749             2           1               0  \n",
       "1322             3           1               1  \n",
       "955              3           1               0  "
      ]
     },
     "execution_count": 55,
     "metadata": {},
     "output_type": "execute_result"
    }
   ],
   "source": [
    "# Posts with shortest letter counts\n",
    "# majority of posts with shortest letter counts are from Showerthoughts\n",
    "shortest_letter_ct = df_subreddits.sort_values(by='letter_count')[:10]\n",
    "shortest_letter_ct"
   ]
  },
  {
   "cell_type": "code",
   "execution_count": 56,
   "metadata": {},
   "outputs": [
    {
     "data": {
      "text/html": [
       "<div>\n",
       "<style scoped>\n",
       "    .dataframe tbody tr th:only-of-type {\n",
       "        vertical-align: middle;\n",
       "    }\n",
       "\n",
       "    .dataframe tbody tr th {\n",
       "        vertical-align: top;\n",
       "    }\n",
       "\n",
       "    .dataframe thead th {\n",
       "        text-align: right;\n",
       "    }\n",
       "</style>\n",
       "<table border=\"1\" class=\"dataframe\">\n",
       "  <thead>\n",
       "    <tr style=\"text-align: right;\">\n",
       "      <th></th>\n",
       "      <th>title</th>\n",
       "      <th>text</th>\n",
       "      <th>auth</th>\n",
       "      <th>time</th>\n",
       "      <th>subreddit</th>\n",
       "      <th>full_text</th>\n",
       "      <th>letter_count</th>\n",
       "      <th>word_count</th>\n",
       "      <th>subreddit_code</th>\n",
       "    </tr>\n",
       "  </thead>\n",
       "  <tbody>\n",
       "    <tr>\n",
       "      <th>470</th>\n",
       "      <td>City cash bonus for healthy choices &amp;amp; good...</td>\n",
       "      <td>Remedial social services such as policing, det...</td>\n",
       "      <td>benny-the-rennie</td>\n",
       "      <td>1642273791</td>\n",
       "      <td>crazyideas</td>\n",
       "      <td>City cash bonus for healthy choices &amp;amp; good...</td>\n",
       "      <td>5984</td>\n",
       "      <td>951</td>\n",
       "      <td>1</td>\n",
       "    </tr>\n",
       "    <tr>\n",
       "      <th>2124</th>\n",
       "      <td>We're not living in an ancestor simulation, we...</td>\n",
       "      <td>Apologies in advance for the long post, so the...</td>\n",
       "      <td>tigrenus</td>\n",
       "      <td>1638467975</td>\n",
       "      <td>crazyideas</td>\n",
       "      <td>We're not living in an ancestor simulation, we...</td>\n",
       "      <td>6750</td>\n",
       "      <td>1102</td>\n",
       "      <td>1</td>\n",
       "    </tr>\n",
       "    <tr>\n",
       "      <th>5834</th>\n",
       "      <td>AAAAAAAAAAAAAAAAAAAAAAAAAAAAAAAAAAAAAAAAAAAAAA...</td>\n",
       "      <td>AAAAAAAAAAAAAAAAAAAAAAAAAAAAAAAAAAAAAAAAAAAAAA...</td>\n",
       "      <td>FartBlat</td>\n",
       "      <td>1629861227</td>\n",
       "      <td>crazyideas</td>\n",
       "      <td>AAAAAAAAAAAAAAAAAAAAAAAAAAAAAAAAAAAAAAAAAAAAAA...</td>\n",
       "      <td>6925</td>\n",
       "      <td>5</td>\n",
       "      <td>1</td>\n",
       "    </tr>\n",
       "    <tr>\n",
       "      <th>2242</th>\n",
       "      <td>I don't want to pay welfare</td>\n",
       "      <td>Greed? Anything but greed. I feel uncomfortabl...</td>\n",
       "      <td>SugarMaleficent6721</td>\n",
       "      <td>1638251072</td>\n",
       "      <td>crazyideas</td>\n",
       "      <td>I don't want to pay welfareGreed? Anything but...</td>\n",
       "      <td>7041</td>\n",
       "      <td>1273</td>\n",
       "      <td>1</td>\n",
       "    </tr>\n",
       "    <tr>\n",
       "      <th>6843</th>\n",
       "      <td>All is fair in love and war</td>\n",
       "      <td>I've recently moved into a new house share wit...</td>\n",
       "      <td>SaffronCourgette</td>\n",
       "      <td>1627662087</td>\n",
       "      <td>crazyideas</td>\n",
       "      <td>All is fair in love and warI've recently moved...</td>\n",
       "      <td>7968</td>\n",
       "      <td>1526</td>\n",
       "      <td>1</td>\n",
       "    </tr>\n",
       "    <tr>\n",
       "      <th>7220</th>\n",
       "      <td>What if video game licenses were sold (kind of...</td>\n",
       "      <td>**With my probably elementary school level und...</td>\n",
       "      <td>Cronatsu</td>\n",
       "      <td>1626807344</td>\n",
       "      <td>crazyideas</td>\n",
       "      <td>What if video game licenses were sold (kind of...</td>\n",
       "      <td>9039</td>\n",
       "      <td>1462</td>\n",
       "      <td>1</td>\n",
       "    </tr>\n",
       "    <tr>\n",
       "      <th>3512</th>\n",
       "      <td>Human genetic modification is ethical*. Bannin...</td>\n",
       "      <td>\\*if done correctly (keep reading?). Note: Thi...</td>\n",
       "      <td>_re_cursion_</td>\n",
       "      <td>1635326839</td>\n",
       "      <td>crazyideas</td>\n",
       "      <td>Human genetic modification is ethical*. Bannin...</td>\n",
       "      <td>9583</td>\n",
       "      <td>1682</td>\n",
       "      <td>1</td>\n",
       "    </tr>\n",
       "    <tr>\n",
       "      <th>734</th>\n",
       "      <td>To prevent poaching of elephants, let's give t...</td>\n",
       "      <td>So, poaching of wild elephants is a perennial ...</td>\n",
       "      <td>isleepinahammock</td>\n",
       "      <td>1641628048</td>\n",
       "      <td>crazyideas</td>\n",
       "      <td>To prevent poaching of elephants, let's give t...</td>\n",
       "      <td>9959</td>\n",
       "      <td>1657</td>\n",
       "      <td>1</td>\n",
       "    </tr>\n",
       "    <tr>\n",
       "      <th>7899</th>\n",
       "      <td>Begone sad joker...wait, what?!.</td>\n",
       "      <td>Here, we keep it short and simple...where we...</td>\n",
       "      <td>AlexandrosTsolis</td>\n",
       "      <td>1625192902</td>\n",
       "      <td>crazyideas</td>\n",
       "      <td>Begone sad joker...wait, what?!.  Here, we kee...</td>\n",
       "      <td>10460</td>\n",
       "      <td>1690</td>\n",
       "      <td>1</td>\n",
       "    </tr>\n",
       "    <tr>\n",
       "      <th>7584</th>\n",
       "      <td>Answers to 42 (Hitchhiker’s Guide), 666 (beast...</td>\n",
       "      <td>Hi everyone! So, I consider this my Part 2, wh...</td>\n",
       "      <td>trebeck_x</td>\n",
       "      <td>1625923073</td>\n",
       "      <td>crazyideas</td>\n",
       "      <td>Answers to 42 (Hitchhiker’s Guide), 666 (beast...</td>\n",
       "      <td>22586</td>\n",
       "      <td>4128</td>\n",
       "      <td>1</td>\n",
       "    </tr>\n",
       "  </tbody>\n",
       "</table>\n",
       "</div>"
      ],
      "text/plain": [
       "                                                  title  \\\n",
       "470   City cash bonus for healthy choices &amp; good...   \n",
       "2124  We're not living in an ancestor simulation, we...   \n",
       "5834  AAAAAAAAAAAAAAAAAAAAAAAAAAAAAAAAAAAAAAAAAAAAAA...   \n",
       "2242                        I don't want to pay welfare   \n",
       "6843                        All is fair in love and war   \n",
       "7220  What if video game licenses were sold (kind of...   \n",
       "3512  Human genetic modification is ethical*. Bannin...   \n",
       "734   To prevent poaching of elephants, let's give t...   \n",
       "7899                   Begone sad joker...wait, what?!.   \n",
       "7584  Answers to 42 (Hitchhiker’s Guide), 666 (beast...   \n",
       "\n",
       "                                                   text                 auth  \\\n",
       "470   Remedial social services such as policing, det...     benny-the-rennie   \n",
       "2124  Apologies in advance for the long post, so the...             tigrenus   \n",
       "5834  AAAAAAAAAAAAAAAAAAAAAAAAAAAAAAAAAAAAAAAAAAAAAA...             FartBlat   \n",
       "2242  Greed? Anything but greed. I feel uncomfortabl...  SugarMaleficent6721   \n",
       "6843  I've recently moved into a new house share wit...     SaffronCourgette   \n",
       "7220  **With my probably elementary school level und...             Cronatsu   \n",
       "3512  \\*if done correctly (keep reading?). Note: Thi...         _re_cursion_   \n",
       "734   So, poaching of wild elephants is a perennial ...     isleepinahammock   \n",
       "7899    Here, we keep it short and simple...where we...     AlexandrosTsolis   \n",
       "7584  Hi everyone! So, I consider this my Part 2, wh...            trebeck_x   \n",
       "\n",
       "            time   subreddit  \\\n",
       "470   1642273791  crazyideas   \n",
       "2124  1638467975  crazyideas   \n",
       "5834  1629861227  crazyideas   \n",
       "2242  1638251072  crazyideas   \n",
       "6843  1627662087  crazyideas   \n",
       "7220  1626807344  crazyideas   \n",
       "3512  1635326839  crazyideas   \n",
       "734   1641628048  crazyideas   \n",
       "7899  1625192902  crazyideas   \n",
       "7584  1625923073  crazyideas   \n",
       "\n",
       "                                              full_text  letter_count  \\\n",
       "470   City cash bonus for healthy choices &amp; good...          5984   \n",
       "2124  We're not living in an ancestor simulation, we...          6750   \n",
       "5834  AAAAAAAAAAAAAAAAAAAAAAAAAAAAAAAAAAAAAAAAAAAAAA...          6925   \n",
       "2242  I don't want to pay welfareGreed? Anything but...          7041   \n",
       "6843  All is fair in love and warI've recently moved...          7968   \n",
       "7220  What if video game licenses were sold (kind of...          9039   \n",
       "3512  Human genetic modification is ethical*. Bannin...          9583   \n",
       "734   To prevent poaching of elephants, let's give t...          9959   \n",
       "7899  Begone sad joker...wait, what?!.  Here, we kee...         10460   \n",
       "7584  Answers to 42 (Hitchhiker’s Guide), 666 (beast...         22586   \n",
       "\n",
       "      word_count  subreddit_code  \n",
       "470          951               1  \n",
       "2124        1102               1  \n",
       "5834           5               1  \n",
       "2242        1273               1  \n",
       "6843        1526               1  \n",
       "7220        1462               1  \n",
       "3512        1682               1  \n",
       "734         1657               1  \n",
       "7899        1690               1  \n",
       "7584        4128               1  "
      ]
     },
     "execution_count": 56,
     "metadata": {},
     "output_type": "execute_result"
    }
   ],
   "source": [
    "#Posts with longest letter counts\n",
    "# 10 posts with longest letter counts are from CrazyIdeas\n",
    "\n",
    "longest_letter_ct = df_subreddits.sort_values(by='letter_count')[-10:]\n",
    "longest_letter_ct"
   ]
  },
  {
   "cell_type": "code",
   "execution_count": 57,
   "metadata": {},
   "outputs": [
    {
     "data": {
      "text/html": [
       "<div>\n",
       "<style scoped>\n",
       "    .dataframe tbody tr th:only-of-type {\n",
       "        vertical-align: middle;\n",
       "    }\n",
       "\n",
       "    .dataframe tbody tr th {\n",
       "        vertical-align: top;\n",
       "    }\n",
       "\n",
       "    .dataframe thead th {\n",
       "        text-align: right;\n",
       "    }\n",
       "</style>\n",
       "<table border=\"1\" class=\"dataframe\">\n",
       "  <thead>\n",
       "    <tr style=\"text-align: right;\">\n",
       "      <th></th>\n",
       "      <th>title</th>\n",
       "      <th>text</th>\n",
       "      <th>auth</th>\n",
       "      <th>time</th>\n",
       "      <th>subreddit</th>\n",
       "      <th>full_text</th>\n",
       "      <th>letter_count</th>\n",
       "      <th>word_count</th>\n",
       "      <th>subreddit_code</th>\n",
       "    </tr>\n",
       "  </thead>\n",
       "  <tbody>\n",
       "    <tr>\n",
       "      <th>3555</th>\n",
       "      <td>Love?</td>\n",
       "      <td></td>\n",
       "      <td>Tellingkile</td>\n",
       "      <td>1643101731</td>\n",
       "      <td>showerthoughts</td>\n",
       "      <td>Love?</td>\n",
       "      <td>5</td>\n",
       "      <td>1</td>\n",
       "      <td>0</td>\n",
       "    </tr>\n",
       "    <tr>\n",
       "      <th>8301</th>\n",
       "      <td>https://www.youtube.com/watch?v=ozInmALgNuI&amp;am...</td>\n",
       "      <td></td>\n",
       "      <td>MajorRazor4</td>\n",
       "      <td>1624339691</td>\n",
       "      <td>crazyideas</td>\n",
       "      <td>https://www.youtube.com/watch?v=ozInmALgNuI&amp;am...</td>\n",
       "      <td>53</td>\n",
       "      <td>1</td>\n",
       "      <td>1</td>\n",
       "    </tr>\n",
       "    <tr>\n",
       "      <th>3448</th>\n",
       "      <td>http://www.xvideos.com/video63871929/asian_nym...</td>\n",
       "      <td></td>\n",
       "      <td>ClarkesBoutaine</td>\n",
       "      <td>1635475828</td>\n",
       "      <td>crazyideas</td>\n",
       "      <td>http://www.xvideos.com/video63871929/asian_nym...</td>\n",
       "      <td>106</td>\n",
       "      <td>1</td>\n",
       "      <td>1</td>\n",
       "    </tr>\n",
       "    <tr>\n",
       "      <th>6401</th>\n",
       "      <td>FOMO</td>\n",
       "      <td></td>\n",
       "      <td>Dry-Communication996</td>\n",
       "      <td>1642921695</td>\n",
       "      <td>showerthoughts</td>\n",
       "      <td>FOMO</td>\n",
       "      <td>4</td>\n",
       "      <td>1</td>\n",
       "      <td>0</td>\n",
       "    </tr>\n",
       "    <tr>\n",
       "      <th>1492</th>\n",
       "      <td>Counting</td>\n",
       "      <td></td>\n",
       "      <td>EveAlleycat</td>\n",
       "      <td>1643225475</td>\n",
       "      <td>showerthoughts</td>\n",
       "      <td>Counting</td>\n",
       "      <td>8</td>\n",
       "      <td>1</td>\n",
       "      <td>0</td>\n",
       "    </tr>\n",
       "    <tr>\n",
       "      <th>7847</th>\n",
       "      <td>thinking</td>\n",
       "      <td></td>\n",
       "      <td>youwillneverknow96</td>\n",
       "      <td>1642843190</td>\n",
       "      <td>showerthoughts</td>\n",
       "      <td>thinking</td>\n",
       "      <td>8</td>\n",
       "      <td>1</td>\n",
       "      <td>0</td>\n",
       "    </tr>\n",
       "    <tr>\n",
       "      <th>6079</th>\n",
       "      <td>打败影子总是一场零和游戏</td>\n",
       "      <td></td>\n",
       "      <td>fangxingsanren</td>\n",
       "      <td>1642944499</td>\n",
       "      <td>showerthoughts</td>\n",
       "      <td>打败影子总是一场零和游戏</td>\n",
       "      <td>12</td>\n",
       "      <td>1</td>\n",
       "      <td>0</td>\n",
       "    </tr>\n",
       "    <tr>\n",
       "      <th>2726</th>\n",
       "      <td>https://www.xvideos.com/video66502791/papai_e_...</td>\n",
       "      <td></td>\n",
       "      <td>ClarkesBoutaine</td>\n",
       "      <td>1637108718</td>\n",
       "      <td>crazyideas</td>\n",
       "      <td>https://www.xvideos.com/video66502791/papai_e_...</td>\n",
       "      <td>119</td>\n",
       "      <td>1</td>\n",
       "      <td>1</td>\n",
       "    </tr>\n",
       "    <tr>\n",
       "      <th>4072</th>\n",
       "      <td>What??</td>\n",
       "      <td></td>\n",
       "      <td>worthalot320</td>\n",
       "      <td>1643063862</td>\n",
       "      <td>showerthoughts</td>\n",
       "      <td>What??</td>\n",
       "      <td>6</td>\n",
       "      <td>1</td>\n",
       "      <td>0</td>\n",
       "    </tr>\n",
       "    <tr>\n",
       "      <th>2524</th>\n",
       "      <td>\"fine\"</td>\n",
       "      <td></td>\n",
       "      <td>999maya</td>\n",
       "      <td>1643165162</td>\n",
       "      <td>showerthoughts</td>\n",
       "      <td>\"fine\"</td>\n",
       "      <td>6</td>\n",
       "      <td>1</td>\n",
       "      <td>0</td>\n",
       "    </tr>\n",
       "  </tbody>\n",
       "</table>\n",
       "</div>"
      ],
      "text/plain": [
       "                                                  title text  \\\n",
       "3555                                              Love?        \n",
       "8301  https://www.youtube.com/watch?v=ozInmALgNuI&am...        \n",
       "3448  http://www.xvideos.com/video63871929/asian_nym...        \n",
       "6401                                               FOMO        \n",
       "1492                                           Counting        \n",
       "7847                                           thinking        \n",
       "6079                                       打败影子总是一场零和游戏        \n",
       "2726  https://www.xvideos.com/video66502791/papai_e_...        \n",
       "4072                                             What??        \n",
       "2524                                             \"fine\"        \n",
       "\n",
       "                      auth        time       subreddit  \\\n",
       "3555           Tellingkile  1643101731  showerthoughts   \n",
       "8301           MajorRazor4  1624339691      crazyideas   \n",
       "3448       ClarkesBoutaine  1635475828      crazyideas   \n",
       "6401  Dry-Communication996  1642921695  showerthoughts   \n",
       "1492           EveAlleycat  1643225475  showerthoughts   \n",
       "7847    youwillneverknow96  1642843190  showerthoughts   \n",
       "6079        fangxingsanren  1642944499  showerthoughts   \n",
       "2726       ClarkesBoutaine  1637108718      crazyideas   \n",
       "4072          worthalot320  1643063862  showerthoughts   \n",
       "2524               999maya  1643165162  showerthoughts   \n",
       "\n",
       "                                              full_text  letter_count  \\\n",
       "3555                                              Love?             5   \n",
       "8301  https://www.youtube.com/watch?v=ozInmALgNuI&am...            53   \n",
       "3448  http://www.xvideos.com/video63871929/asian_nym...           106   \n",
       "6401                                               FOMO             4   \n",
       "1492                                           Counting             8   \n",
       "7847                                           thinking             8   \n",
       "6079                                       打败影子总是一场零和游戏            12   \n",
       "2726  https://www.xvideos.com/video66502791/papai_e_...           119   \n",
       "4072                                             What??             6   \n",
       "2524                                             \"fine\"             6   \n",
       "\n",
       "      word_count  subreddit_code  \n",
       "3555           1               0  \n",
       "8301           1               1  \n",
       "3448           1               1  \n",
       "6401           1               0  \n",
       "1492           1               0  \n",
       "7847           1               0  \n",
       "6079           1               0  \n",
       "2726           1               1  \n",
       "4072           1               0  \n",
       "2524           1               0  "
      ]
     },
     "execution_count": 57,
     "metadata": {},
     "output_type": "execute_result"
    }
   ],
   "source": [
    "#Posts with shortest word counts\n",
    "# majority of posts with shortest word counts are from Showerthoughts\n",
    "\n",
    "shortest_word_ct = df_subreddits.sort_values(by='word_count')[:10]\n",
    "shortest_word_ct"
   ]
  },
  {
   "cell_type": "code",
   "execution_count": 58,
   "metadata": {},
   "outputs": [
    {
     "data": {
      "text/html": [
       "<div>\n",
       "<style scoped>\n",
       "    .dataframe tbody tr th:only-of-type {\n",
       "        vertical-align: middle;\n",
       "    }\n",
       "\n",
       "    .dataframe tbody tr th {\n",
       "        vertical-align: top;\n",
       "    }\n",
       "\n",
       "    .dataframe thead th {\n",
       "        text-align: right;\n",
       "    }\n",
       "</style>\n",
       "<table border=\"1\" class=\"dataframe\">\n",
       "  <thead>\n",
       "    <tr style=\"text-align: right;\">\n",
       "      <th></th>\n",
       "      <th>title</th>\n",
       "      <th>text</th>\n",
       "      <th>auth</th>\n",
       "      <th>time</th>\n",
       "      <th>subreddit</th>\n",
       "      <th>full_text</th>\n",
       "      <th>letter_count</th>\n",
       "      <th>word_count</th>\n",
       "      <th>subreddit_code</th>\n",
       "    </tr>\n",
       "  </thead>\n",
       "  <tbody>\n",
       "    <tr>\n",
       "      <th>8332</th>\n",
       "      <td>Would this charity work in the USA or not ?</td>\n",
       "      <td>In the near future just before my son joins Un...</td>\n",
       "      <td>BigPapiPR83</td>\n",
       "      <td>1624282825</td>\n",
       "      <td>crazyideas</td>\n",
       "      <td>Would this charity work in the USA or not ?In ...</td>\n",
       "      <td>5780</td>\n",
       "      <td>1035</td>\n",
       "      <td>1</td>\n",
       "    </tr>\n",
       "    <tr>\n",
       "      <th>7560</th>\n",
       "      <td>A brave new world part 3</td>\n",
       "      <td>Hello, my name is Sylar De Luminous, and this ...</td>\n",
       "      <td>1925120118</td>\n",
       "      <td>1625969570</td>\n",
       "      <td>crazyideas</td>\n",
       "      <td>A brave new world part 3Hello, my name is Syla...</td>\n",
       "      <td>5717</td>\n",
       "      <td>1056</td>\n",
       "      <td>1</td>\n",
       "    </tr>\n",
       "    <tr>\n",
       "      <th>2124</th>\n",
       "      <td>We're not living in an ancestor simulation, we...</td>\n",
       "      <td>Apologies in advance for the long post, so the...</td>\n",
       "      <td>tigrenus</td>\n",
       "      <td>1638467975</td>\n",
       "      <td>crazyideas</td>\n",
       "      <td>We're not living in an ancestor simulation, we...</td>\n",
       "      <td>6750</td>\n",
       "      <td>1102</td>\n",
       "      <td>1</td>\n",
       "    </tr>\n",
       "    <tr>\n",
       "      <th>2242</th>\n",
       "      <td>I don't want to pay welfare</td>\n",
       "      <td>Greed? Anything but greed. I feel uncomfortabl...</td>\n",
       "      <td>SugarMaleficent6721</td>\n",
       "      <td>1638251072</td>\n",
       "      <td>crazyideas</td>\n",
       "      <td>I don't want to pay welfareGreed? Anything but...</td>\n",
       "      <td>7041</td>\n",
       "      <td>1273</td>\n",
       "      <td>1</td>\n",
       "    </tr>\n",
       "    <tr>\n",
       "      <th>7220</th>\n",
       "      <td>What if video game licenses were sold (kind of...</td>\n",
       "      <td>**With my probably elementary school level und...</td>\n",
       "      <td>Cronatsu</td>\n",
       "      <td>1626807344</td>\n",
       "      <td>crazyideas</td>\n",
       "      <td>What if video game licenses were sold (kind of...</td>\n",
       "      <td>9039</td>\n",
       "      <td>1462</td>\n",
       "      <td>1</td>\n",
       "    </tr>\n",
       "    <tr>\n",
       "      <th>6843</th>\n",
       "      <td>All is fair in love and war</td>\n",
       "      <td>I've recently moved into a new house share wit...</td>\n",
       "      <td>SaffronCourgette</td>\n",
       "      <td>1627662087</td>\n",
       "      <td>crazyideas</td>\n",
       "      <td>All is fair in love and warI've recently moved...</td>\n",
       "      <td>7968</td>\n",
       "      <td>1526</td>\n",
       "      <td>1</td>\n",
       "    </tr>\n",
       "    <tr>\n",
       "      <th>734</th>\n",
       "      <td>To prevent poaching of elephants, let's give t...</td>\n",
       "      <td>So, poaching of wild elephants is a perennial ...</td>\n",
       "      <td>isleepinahammock</td>\n",
       "      <td>1641628048</td>\n",
       "      <td>crazyideas</td>\n",
       "      <td>To prevent poaching of elephants, let's give t...</td>\n",
       "      <td>9959</td>\n",
       "      <td>1657</td>\n",
       "      <td>1</td>\n",
       "    </tr>\n",
       "    <tr>\n",
       "      <th>3512</th>\n",
       "      <td>Human genetic modification is ethical*. Bannin...</td>\n",
       "      <td>\\*if done correctly (keep reading?). Note: Thi...</td>\n",
       "      <td>_re_cursion_</td>\n",
       "      <td>1635326839</td>\n",
       "      <td>crazyideas</td>\n",
       "      <td>Human genetic modification is ethical*. Bannin...</td>\n",
       "      <td>9583</td>\n",
       "      <td>1682</td>\n",
       "      <td>1</td>\n",
       "    </tr>\n",
       "    <tr>\n",
       "      <th>7899</th>\n",
       "      <td>Begone sad joker...wait, what?!.</td>\n",
       "      <td>Here, we keep it short and simple...where we...</td>\n",
       "      <td>AlexandrosTsolis</td>\n",
       "      <td>1625192902</td>\n",
       "      <td>crazyideas</td>\n",
       "      <td>Begone sad joker...wait, what?!.  Here, we kee...</td>\n",
       "      <td>10460</td>\n",
       "      <td>1690</td>\n",
       "      <td>1</td>\n",
       "    </tr>\n",
       "    <tr>\n",
       "      <th>7584</th>\n",
       "      <td>Answers to 42 (Hitchhiker’s Guide), 666 (beast...</td>\n",
       "      <td>Hi everyone! So, I consider this my Part 2, wh...</td>\n",
       "      <td>trebeck_x</td>\n",
       "      <td>1625923073</td>\n",
       "      <td>crazyideas</td>\n",
       "      <td>Answers to 42 (Hitchhiker’s Guide), 666 (beast...</td>\n",
       "      <td>22586</td>\n",
       "      <td>4128</td>\n",
       "      <td>1</td>\n",
       "    </tr>\n",
       "  </tbody>\n",
       "</table>\n",
       "</div>"
      ],
      "text/plain": [
       "                                                  title  \\\n",
       "8332        Would this charity work in the USA or not ?   \n",
       "7560                           A brave new world part 3   \n",
       "2124  We're not living in an ancestor simulation, we...   \n",
       "2242                        I don't want to pay welfare   \n",
       "7220  What if video game licenses were sold (kind of...   \n",
       "6843                        All is fair in love and war   \n",
       "734   To prevent poaching of elephants, let's give t...   \n",
       "3512  Human genetic modification is ethical*. Bannin...   \n",
       "7899                   Begone sad joker...wait, what?!.   \n",
       "7584  Answers to 42 (Hitchhiker’s Guide), 666 (beast...   \n",
       "\n",
       "                                                   text                 auth  \\\n",
       "8332  In the near future just before my son joins Un...          BigPapiPR83   \n",
       "7560  Hello, my name is Sylar De Luminous, and this ...           1925120118   \n",
       "2124  Apologies in advance for the long post, so the...             tigrenus   \n",
       "2242  Greed? Anything but greed. I feel uncomfortabl...  SugarMaleficent6721   \n",
       "7220  **With my probably elementary school level und...             Cronatsu   \n",
       "6843  I've recently moved into a new house share wit...     SaffronCourgette   \n",
       "734   So, poaching of wild elephants is a perennial ...     isleepinahammock   \n",
       "3512  \\*if done correctly (keep reading?). Note: Thi...         _re_cursion_   \n",
       "7899    Here, we keep it short and simple...where we...     AlexandrosTsolis   \n",
       "7584  Hi everyone! So, I consider this my Part 2, wh...            trebeck_x   \n",
       "\n",
       "            time   subreddit  \\\n",
       "8332  1624282825  crazyideas   \n",
       "7560  1625969570  crazyideas   \n",
       "2124  1638467975  crazyideas   \n",
       "2242  1638251072  crazyideas   \n",
       "7220  1626807344  crazyideas   \n",
       "6843  1627662087  crazyideas   \n",
       "734   1641628048  crazyideas   \n",
       "3512  1635326839  crazyideas   \n",
       "7899  1625192902  crazyideas   \n",
       "7584  1625923073  crazyideas   \n",
       "\n",
       "                                              full_text  letter_count  \\\n",
       "8332  Would this charity work in the USA or not ?In ...          5780   \n",
       "7560  A brave new world part 3Hello, my name is Syla...          5717   \n",
       "2124  We're not living in an ancestor simulation, we...          6750   \n",
       "2242  I don't want to pay welfareGreed? Anything but...          7041   \n",
       "7220  What if video game licenses were sold (kind of...          9039   \n",
       "6843  All is fair in love and warI've recently moved...          7968   \n",
       "734   To prevent poaching of elephants, let's give t...          9959   \n",
       "3512  Human genetic modification is ethical*. Bannin...          9583   \n",
       "7899  Begone sad joker...wait, what?!.  Here, we kee...         10460   \n",
       "7584  Answers to 42 (Hitchhiker’s Guide), 666 (beast...         22586   \n",
       "\n",
       "      word_count  subreddit_code  \n",
       "8332        1035               1  \n",
       "7560        1056               1  \n",
       "2124        1102               1  \n",
       "2242        1273               1  \n",
       "7220        1462               1  \n",
       "6843        1526               1  \n",
       "734         1657               1  \n",
       "3512        1682               1  \n",
       "7899        1690               1  \n",
       "7584        4128               1  "
      ]
     },
     "execution_count": 58,
     "metadata": {},
     "output_type": "execute_result"
    }
   ],
   "source": [
    "#Posts with longest word counts\n",
    "# majority of posts with longest word counts are from CrazyIdeas\n",
    "\n",
    "longest_word_ct = df_subreddits.sort_values(by='word_count')[-10:]\n",
    "longest_word_ct"
   ]
  },
  {
   "cell_type": "markdown",
   "metadata": {},
   "source": [
    "## Export cleaned data to csv"
   ]
  },
  {
   "cell_type": "code",
   "execution_count": 59,
   "metadata": {},
   "outputs": [
    {
     "data": {
      "text/html": [
       "<div>\n",
       "<style scoped>\n",
       "    .dataframe tbody tr th:only-of-type {\n",
       "        vertical-align: middle;\n",
       "    }\n",
       "\n",
       "    .dataframe tbody tr th {\n",
       "        vertical-align: top;\n",
       "    }\n",
       "\n",
       "    .dataframe thead th {\n",
       "        text-align: right;\n",
       "    }\n",
       "</style>\n",
       "<table border=\"1\" class=\"dataframe\">\n",
       "  <thead>\n",
       "    <tr style=\"text-align: right;\">\n",
       "      <th></th>\n",
       "      <th>title</th>\n",
       "      <th>text</th>\n",
       "      <th>auth</th>\n",
       "      <th>time</th>\n",
       "      <th>subreddit</th>\n",
       "      <th>full_text</th>\n",
       "      <th>letter_count</th>\n",
       "      <th>word_count</th>\n",
       "      <th>subreddit_code</th>\n",
       "    </tr>\n",
       "  </thead>\n",
       "  <tbody>\n",
       "    <tr>\n",
       "      <th>0</th>\n",
       "      <td>Every woman who is not lesbian is gay, (girls ...</td>\n",
       "      <td></td>\n",
       "      <td>Altruistic_Rest_9861</td>\n",
       "      <td>1643317371</td>\n",
       "      <td>showerthoughts</td>\n",
       "      <td>Every woman who is not lesbian is gay, (girls ...</td>\n",
       "      <td>131</td>\n",
       "      <td>26</td>\n",
       "      <td>0</td>\n",
       "    </tr>\n",
       "    <tr>\n",
       "      <th>1</th>\n",
       "      <td>Everyone keeps their phone on silent because w...</td>\n",
       "      <td></td>\n",
       "      <td>smcmahon710</td>\n",
       "      <td>1643317311</td>\n",
       "      <td>showerthoughts</td>\n",
       "      <td>Everyone keeps their phone on silent because w...</td>\n",
       "      <td>81</td>\n",
       "      <td>13</td>\n",
       "      <td>0</td>\n",
       "    </tr>\n",
       "    <tr>\n",
       "      <th>2</th>\n",
       "      <td>A good book will always be new.</td>\n",
       "      <td></td>\n",
       "      <td>agreatday248</td>\n",
       "      <td>1643317210</td>\n",
       "      <td>showerthoughts</td>\n",
       "      <td>A good book will always be new.</td>\n",
       "      <td>31</td>\n",
       "      <td>7</td>\n",
       "      <td>0</td>\n",
       "    </tr>\n",
       "    <tr>\n",
       "      <th>3</th>\n",
       "      <td>Science can either prove that no deity exists,...</td>\n",
       "      <td></td>\n",
       "      <td>shimkei</td>\n",
       "      <td>1643317183</td>\n",
       "      <td>showerthoughts</td>\n",
       "      <td>Science can either prove that no deity exists,...</td>\n",
       "      <td>132</td>\n",
       "      <td>26</td>\n",
       "      <td>0</td>\n",
       "    </tr>\n",
       "    <tr>\n",
       "      <th>4</th>\n",
       "      <td>The fact that I have to actively remind myself...</td>\n",
       "      <td></td>\n",
       "      <td>DawnMayRise</td>\n",
       "      <td>1643317126</td>\n",
       "      <td>showerthoughts</td>\n",
       "      <td>The fact that I have to actively remind myself...</td>\n",
       "      <td>118</td>\n",
       "      <td>22</td>\n",
       "      <td>0</td>\n",
       "    </tr>\n",
       "  </tbody>\n",
       "</table>\n",
       "</div>"
      ],
      "text/plain": [
       "                                               title text  \\\n",
       "0  Every woman who is not lesbian is gay, (girls ...        \n",
       "1  Everyone keeps their phone on silent because w...        \n",
       "2                    A good book will always be new.        \n",
       "3  Science can either prove that no deity exists,...        \n",
       "4  The fact that I have to actively remind myself...        \n",
       "\n",
       "                   auth        time       subreddit  \\\n",
       "0  Altruistic_Rest_9861  1643317371  showerthoughts   \n",
       "1           smcmahon710  1643317311  showerthoughts   \n",
       "2          agreatday248  1643317210  showerthoughts   \n",
       "3               shimkei  1643317183  showerthoughts   \n",
       "4           DawnMayRise  1643317126  showerthoughts   \n",
       "\n",
       "                                           full_text  letter_count  \\\n",
       "0  Every woman who is not lesbian is gay, (girls ...           131   \n",
       "1  Everyone keeps their phone on silent because w...            81   \n",
       "2                    A good book will always be new.            31   \n",
       "3  Science can either prove that no deity exists,...           132   \n",
       "4  The fact that I have to actively remind myself...           118   \n",
       "\n",
       "   word_count  subreddit_code  \n",
       "0          26               0  \n",
       "1          13               0  \n",
       "2           7               0  \n",
       "3          26               0  \n",
       "4          22               0  "
      ]
     },
     "execution_count": 59,
     "metadata": {},
     "output_type": "execute_result"
    }
   ],
   "source": [
    "#Check cleaned dataframe to be exported to csv file\n",
    "\n",
    "df_subreddits.head()"
   ]
  },
  {
   "cell_type": "code",
   "execution_count": 60,
   "metadata": {},
   "outputs": [],
   "source": [
    "#Export to csv\n",
    "\n",
    "df_subreddits.to_csv('./data/subreddits.csv', index=False)"
   ]
  }
 ],
 "metadata": {
  "interpreter": {
   "hash": "c90bd41498bd2909e03bc4813e3fc894d3d64fd4c32b3cf57272642761dbfb5b"
  },
  "kernelspec": {
   "display_name": "Python 3.9.7 64-bit ('base': conda)",
   "language": "python",
   "name": "python3"
  },
  "language_info": {
   "codemirror_mode": {
    "name": "ipython",
    "version": 3
   },
   "file_extension": ".py",
   "mimetype": "text/x-python",
   "name": "python",
   "nbconvert_exporter": "python",
   "pygments_lexer": "ipython3",
   "version": "3.9.7"
  },
  "orig_nbformat": 4
 },
 "nbformat": 4,
 "nbformat_minor": 2
}
