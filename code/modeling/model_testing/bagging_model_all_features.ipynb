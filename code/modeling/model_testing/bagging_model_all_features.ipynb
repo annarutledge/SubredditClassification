{
 "cells": [
  {
   "cell_type": "markdown",
   "metadata": {},
   "source": [
    "## Imports"
   ]
  },
  {
   "cell_type": "code",
   "execution_count": 1,
   "metadata": {},
   "outputs": [],
   "source": [
    "import numpy as np\n",
    "import pandas as pd\n",
    "\n",
    "from sklearn.linear_model import LogisticRegression\n",
    "from sklearn.model_selection import train_test_split, GridSearchCV, RandomizedSearchCV\n",
    "from sklearn.pipeline import make_pipeline\n",
    "from sklearn.feature_extraction.text import CountVectorizer\n",
    "from sklearn.compose import make_column_selector, make_column_transformer\n",
    "from sklearn.metrics import ConfusionMatrixDisplay, recall_score, accuracy_score,f1_score, precision_score\n",
    "from sklearn.tree import DecisionTreeClassifier\n",
    "from sklearn.ensemble import BaggingClassifier \n"
   ]
  },
  {
   "cell_type": "markdown",
   "metadata": {},
   "source": [
    "## Read in cleaned data"
   ]
  },
  {
   "cell_type": "code",
   "execution_count": 2,
   "metadata": {},
   "outputs": [],
   "source": [
    "df_subreddits = pd.read_csv('/Users/annarutledge/Documents/general_assembly/submissions22/projects/project-3-master/data/subreddits.csv')"
   ]
  },
  {
   "cell_type": "code",
   "execution_count": 3,
   "metadata": {},
   "outputs": [
    {
     "data": {
      "text/html": [
       "<div>\n",
       "<style scoped>\n",
       "    .dataframe tbody tr th:only-of-type {\n",
       "        vertical-align: middle;\n",
       "    }\n",
       "\n",
       "    .dataframe tbody tr th {\n",
       "        vertical-align: top;\n",
       "    }\n",
       "\n",
       "    .dataframe thead th {\n",
       "        text-align: right;\n",
       "    }\n",
       "</style>\n",
       "<table border=\"1\" class=\"dataframe\">\n",
       "  <thead>\n",
       "    <tr style=\"text-align: right;\">\n",
       "      <th></th>\n",
       "      <th>title</th>\n",
       "      <th>text</th>\n",
       "      <th>auth</th>\n",
       "      <th>time</th>\n",
       "      <th>subreddit</th>\n",
       "      <th>full_text</th>\n",
       "      <th>letter_count</th>\n",
       "      <th>word_count</th>\n",
       "      <th>subreddit_code</th>\n",
       "    </tr>\n",
       "  </thead>\n",
       "  <tbody>\n",
       "    <tr>\n",
       "      <th>0</th>\n",
       "      <td>Every woman who is not lesbian is gay, (girls ...</td>\n",
       "      <td>NaN</td>\n",
       "      <td>Altruistic_Rest_9861</td>\n",
       "      <td>1643317371</td>\n",
       "      <td>showerthoughts</td>\n",
       "      <td>Every woman who is not lesbian is gay, (girls ...</td>\n",
       "      <td>131</td>\n",
       "      <td>26</td>\n",
       "      <td>0</td>\n",
       "    </tr>\n",
       "    <tr>\n",
       "      <th>1</th>\n",
       "      <td>Everyone keeps their phone on silent because w...</td>\n",
       "      <td>NaN</td>\n",
       "      <td>smcmahon710</td>\n",
       "      <td>1643317311</td>\n",
       "      <td>showerthoughts</td>\n",
       "      <td>Everyone keeps their phone on silent because w...</td>\n",
       "      <td>81</td>\n",
       "      <td>13</td>\n",
       "      <td>0</td>\n",
       "    </tr>\n",
       "    <tr>\n",
       "      <th>2</th>\n",
       "      <td>A good book will always be new.</td>\n",
       "      <td>NaN</td>\n",
       "      <td>agreatday248</td>\n",
       "      <td>1643317210</td>\n",
       "      <td>showerthoughts</td>\n",
       "      <td>A good book will always be new.</td>\n",
       "      <td>31</td>\n",
       "      <td>7</td>\n",
       "      <td>0</td>\n",
       "    </tr>\n",
       "    <tr>\n",
       "      <th>3</th>\n",
       "      <td>Science can either prove that no deity exists,...</td>\n",
       "      <td>NaN</td>\n",
       "      <td>shimkei</td>\n",
       "      <td>1643317183</td>\n",
       "      <td>showerthoughts</td>\n",
       "      <td>Science can either prove that no deity exists,...</td>\n",
       "      <td>132</td>\n",
       "      <td>26</td>\n",
       "      <td>0</td>\n",
       "    </tr>\n",
       "    <tr>\n",
       "      <th>4</th>\n",
       "      <td>The fact that I have to actively remind myself...</td>\n",
       "      <td>NaN</td>\n",
       "      <td>DawnMayRise</td>\n",
       "      <td>1643317126</td>\n",
       "      <td>showerthoughts</td>\n",
       "      <td>The fact that I have to actively remind myself...</td>\n",
       "      <td>118</td>\n",
       "      <td>22</td>\n",
       "      <td>0</td>\n",
       "    </tr>\n",
       "  </tbody>\n",
       "</table>\n",
       "</div>"
      ],
      "text/plain": [
       "                                               title text  \\\n",
       "0  Every woman who is not lesbian is gay, (girls ...  NaN   \n",
       "1  Everyone keeps their phone on silent because w...  NaN   \n",
       "2                    A good book will always be new.  NaN   \n",
       "3  Science can either prove that no deity exists,...  NaN   \n",
       "4  The fact that I have to actively remind myself...  NaN   \n",
       "\n",
       "                   auth        time       subreddit  \\\n",
       "0  Altruistic_Rest_9861  1643317371  showerthoughts   \n",
       "1           smcmahon710  1643317311  showerthoughts   \n",
       "2          agreatday248  1643317210  showerthoughts   \n",
       "3               shimkei  1643317183  showerthoughts   \n",
       "4           DawnMayRise  1643317126  showerthoughts   \n",
       "\n",
       "                                           full_text  letter_count  \\\n",
       "0  Every woman who is not lesbian is gay, (girls ...           131   \n",
       "1  Everyone keeps their phone on silent because w...            81   \n",
       "2                    A good book will always be new.            31   \n",
       "3  Science can either prove that no deity exists,...           132   \n",
       "4  The fact that I have to actively remind myself...           118   \n",
       "\n",
       "   word_count  subreddit_code  \n",
       "0          26               0  \n",
       "1          13               0  \n",
       "2           7               0  \n",
       "3          26               0  \n",
       "4          22               0  "
      ]
     },
     "execution_count": 3,
     "metadata": {},
     "output_type": "execute_result"
    }
   ],
   "source": [
    "df_subreddits.head()"
   ]
  },
  {
   "cell_type": "markdown",
   "metadata": {},
   "source": [
    "## Train - Test - Split"
   ]
  },
  {
   "cell_type": "code",
   "execution_count": 4,
   "metadata": {},
   "outputs": [],
   "source": [
    "X = df_subreddits[['full_text', 'letter_count', 'word_count']]\n",
    "\n",
    "y = df_subreddits['subreddit']"
   ]
  },
  {
   "cell_type": "code",
   "execution_count": 5,
   "metadata": {},
   "outputs": [],
   "source": [
    "X_train, X_test, y_train, y_test = train_test_split(X, y, stratify=y, random_state=10)"
   ]
  },
  {
   "cell_type": "code",
   "execution_count": 6,
   "metadata": {},
   "outputs": [
    {
     "data": {
      "text/plain": [
       "(14548, 3)"
      ]
     },
     "execution_count": 6,
     "metadata": {},
     "output_type": "execute_result"
    }
   ],
   "source": [
    "X_train.shape"
   ]
  },
  {
   "cell_type": "code",
   "execution_count": 7,
   "metadata": {},
   "outputs": [
    {
     "data": {
      "text/plain": [
       "(4850, 3)"
      ]
     },
     "execution_count": 7,
     "metadata": {},
     "output_type": "execute_result"
    }
   ],
   "source": [
    "X_test.shape"
   ]
  },
  {
   "cell_type": "code",
   "execution_count": 8,
   "metadata": {},
   "outputs": [
    {
     "data": {
      "text/plain": [
       "(14548,)"
      ]
     },
     "execution_count": 8,
     "metadata": {},
     "output_type": "execute_result"
    }
   ],
   "source": [
    "y_train.shape"
   ]
  },
  {
   "cell_type": "code",
   "execution_count": 9,
   "metadata": {},
   "outputs": [
    {
     "data": {
      "text/plain": [
       "(4850,)"
      ]
     },
     "execution_count": 9,
     "metadata": {},
     "output_type": "execute_result"
    }
   ],
   "source": [
    "y_test.shape"
   ]
  },
  {
   "cell_type": "markdown",
   "metadata": {},
   "source": [
    "## Bagging classifier model"
   ]
  },
  {
   "cell_type": "code",
   "execution_count": 10,
   "metadata": {},
   "outputs": [],
   "source": [
    "cv = CountVectorizer()"
   ]
  },
  {
   "cell_type": "code",
   "execution_count": 11,
   "metadata": {},
   "outputs": [],
   "source": [
    "text_vectorizer = make_column_transformer((cv, 'full_text'), remainder='passthrough', n_jobs=-1, verbose_feature_names_out=False)"
   ]
  },
  {
   "cell_type": "code",
   "execution_count": 12,
   "metadata": {},
   "outputs": [],
   "source": [
    "bc = BaggingClassifier()"
   ]
  },
  {
   "cell_type": "code",
   "execution_count": 13,
   "metadata": {},
   "outputs": [],
   "source": [
    "pipe = make_pipeline(text_vectorizer, bc)"
   ]
  },
  {
   "cell_type": "code",
   "execution_count": 14,
   "metadata": {},
   "outputs": [],
   "source": [
    "params = {\n",
    "    'baggingclassifier__n_estimators':[10, 20], \n",
    "    'baggingclassifier__max_samples':[0.9, 1.0],\n",
    "    'columntransformer__countvectorizer__ngram_range':[(1,2), (1,3)], \n",
    "    'columntransformer__countvectorizer__max_df':[0.8, 0.9, 1],\n",
    "    'columntransformer__countvectorizer__min_df':[0, 0.1, 0.2],\n",
    "    'columntransformer__countvectorizer__stop_words':[None, 'english']\n",
    "}"
   ]
  },
  {
   "cell_type": "code",
   "execution_count": 15,
   "metadata": {},
   "outputs": [],
   "source": [
    "rs = RandomizedSearchCV(pipe, params, n_jobs=-1)"
   ]
  },
  {
   "cell_type": "code",
   "execution_count": 16,
   "metadata": {},
   "outputs": [
    {
     "name": "stderr",
     "output_type": "stream",
     "text": [
      "/Users/annarutledge/opt/anaconda3/lib/python3.9/site-packages/sklearn/model_selection/_validation.py:372: FitFailedWarning: \n",
      "25 fits failed out of a total of 50.\n",
      "The score on these train-test partitions for these parameters will be set to nan.\n",
      "If these failures are not expected, you can try to debug them by setting error_score='raise'.\n",
      "\n",
      "Below are more details about the failures:\n",
      "--------------------------------------------------------------------------------\n",
      "15 fits failed with the following error:\n",
      "Traceback (most recent call last):\n",
      "  File \"/Users/annarutledge/opt/anaconda3/lib/python3.9/site-packages/sklearn/model_selection/_validation.py\", line 680, in _fit_and_score\n",
      "    estimator.fit(X_train, y_train, **fit_params)\n",
      "  File \"/Users/annarutledge/opt/anaconda3/lib/python3.9/site-packages/sklearn/pipeline.py\", line 390, in fit\n",
      "    Xt = self._fit(X, y, **fit_params_steps)\n",
      "  File \"/Users/annarutledge/opt/anaconda3/lib/python3.9/site-packages/sklearn/pipeline.py\", line 348, in _fit\n",
      "    X, fitted_transformer = fit_transform_one_cached(\n",
      "  File \"/Users/annarutledge/opt/anaconda3/lib/python3.9/site-packages/joblib/memory.py\", line 349, in __call__\n",
      "    return self.func(*args, **kwargs)\n",
      "  File \"/Users/annarutledge/opt/anaconda3/lib/python3.9/site-packages/sklearn/pipeline.py\", line 893, in _fit_transform_one\n",
      "    res = transformer.fit_transform(X, y, **fit_params)\n",
      "  File \"/Users/annarutledge/opt/anaconda3/lib/python3.9/site-packages/sklearn/compose/_column_transformer.py\", line 675, in fit_transform\n",
      "    result = self._fit_transform(X, y, _fit_transform_one)\n",
      "  File \"/Users/annarutledge/opt/anaconda3/lib/python3.9/site-packages/sklearn/compose/_column_transformer.py\", line 606, in _fit_transform\n",
      "    return Parallel(n_jobs=self.n_jobs)(\n",
      "  File \"/Users/annarutledge/opt/anaconda3/lib/python3.9/site-packages/joblib/parallel.py\", line 1056, in __call__\n",
      "    self.retrieve()\n",
      "  File \"/Users/annarutledge/opt/anaconda3/lib/python3.9/site-packages/joblib/parallel.py\", line 935, in retrieve\n",
      "    self._output.extend(job.get(timeout=self.timeout))\n",
      "  File \"/Users/annarutledge/opt/anaconda3/lib/python3.9/multiprocessing/pool.py\", line 771, in get\n",
      "    raise self._value\n",
      "  File \"/Users/annarutledge/opt/anaconda3/lib/python3.9/multiprocessing/pool.py\", line 125, in worker\n",
      "    result = (True, func(*args, **kwds))\n",
      "  File \"/Users/annarutledge/opt/anaconda3/lib/python3.9/site-packages/joblib/_parallel_backends.py\", line 595, in __call__\n",
      "    return self.func(*args, **kwargs)\n",
      "  File \"/Users/annarutledge/opt/anaconda3/lib/python3.9/site-packages/joblib/parallel.py\", line 262, in __call__\n",
      "    return [func(*args, **kwargs)\n",
      "  File \"/Users/annarutledge/opt/anaconda3/lib/python3.9/site-packages/joblib/parallel.py\", line 262, in <listcomp>\n",
      "    return [func(*args, **kwargs)\n",
      "  File \"/Users/annarutledge/opt/anaconda3/lib/python3.9/site-packages/sklearn/utils/fixes.py\", line 216, in __call__\n",
      "    return self.function(*args, **kwargs)\n",
      "  File \"/Users/annarutledge/opt/anaconda3/lib/python3.9/site-packages/sklearn/pipeline.py\", line 893, in _fit_transform_one\n",
      "    res = transformer.fit_transform(X, y, **fit_params)\n",
      "  File \"/Users/annarutledge/opt/anaconda3/lib/python3.9/site-packages/sklearn/feature_extraction/text.py\", line 1344, in fit_transform\n",
      "    raise ValueError(\"max_df corresponds to < documents than min_df\")\n",
      "ValueError: max_df corresponds to < documents than min_df\n",
      "\n",
      "--------------------------------------------------------------------------------\n",
      "10 fits failed with the following error:\n",
      "Traceback (most recent call last):\n",
      "  File \"/Users/annarutledge/opt/anaconda3/lib/python3.9/site-packages/sklearn/model_selection/_validation.py\", line 680, in _fit_and_score\n",
      "    estimator.fit(X_train, y_train, **fit_params)\n",
      "  File \"/Users/annarutledge/opt/anaconda3/lib/python3.9/site-packages/sklearn/pipeline.py\", line 390, in fit\n",
      "    Xt = self._fit(X, y, **fit_params_steps)\n",
      "  File \"/Users/annarutledge/opt/anaconda3/lib/python3.9/site-packages/sklearn/pipeline.py\", line 348, in _fit\n",
      "    X, fitted_transformer = fit_transform_one_cached(\n",
      "  File \"/Users/annarutledge/opt/anaconda3/lib/python3.9/site-packages/joblib/memory.py\", line 349, in __call__\n",
      "    return self.func(*args, **kwargs)\n",
      "  File \"/Users/annarutledge/opt/anaconda3/lib/python3.9/site-packages/sklearn/pipeline.py\", line 893, in _fit_transform_one\n",
      "    res = transformer.fit_transform(X, y, **fit_params)\n",
      "  File \"/Users/annarutledge/opt/anaconda3/lib/python3.9/site-packages/sklearn/compose/_column_transformer.py\", line 675, in fit_transform\n",
      "    result = self._fit_transform(X, y, _fit_transform_one)\n",
      "  File \"/Users/annarutledge/opt/anaconda3/lib/python3.9/site-packages/sklearn/compose/_column_transformer.py\", line 606, in _fit_transform\n",
      "    return Parallel(n_jobs=self.n_jobs)(\n",
      "  File \"/Users/annarutledge/opt/anaconda3/lib/python3.9/site-packages/joblib/parallel.py\", line 1056, in __call__\n",
      "    self.retrieve()\n",
      "  File \"/Users/annarutledge/opt/anaconda3/lib/python3.9/site-packages/joblib/parallel.py\", line 935, in retrieve\n",
      "    self._output.extend(job.get(timeout=self.timeout))\n",
      "  File \"/Users/annarutledge/opt/anaconda3/lib/python3.9/multiprocessing/pool.py\", line 771, in get\n",
      "    raise self._value\n",
      "  File \"/Users/annarutledge/opt/anaconda3/lib/python3.9/multiprocessing/pool.py\", line 125, in worker\n",
      "    result = (True, func(*args, **kwds))\n",
      "  File \"/Users/annarutledge/opt/anaconda3/lib/python3.9/site-packages/joblib/_parallel_backends.py\", line 595, in __call__\n",
      "    return self.func(*args, **kwargs)\n",
      "  File \"/Users/annarutledge/opt/anaconda3/lib/python3.9/site-packages/joblib/parallel.py\", line 262, in __call__\n",
      "    return [func(*args, **kwargs)\n",
      "  File \"/Users/annarutledge/opt/anaconda3/lib/python3.9/site-packages/joblib/parallel.py\", line 262, in <listcomp>\n",
      "    return [func(*args, **kwargs)\n",
      "  File \"/Users/annarutledge/opt/anaconda3/lib/python3.9/site-packages/sklearn/utils/fixes.py\", line 216, in __call__\n",
      "    return self.function(*args, **kwargs)\n",
      "  File \"/Users/annarutledge/opt/anaconda3/lib/python3.9/site-packages/sklearn/pipeline.py\", line 893, in _fit_transform_one\n",
      "    res = transformer.fit_transform(X, y, **fit_params)\n",
      "  File \"/Users/annarutledge/opt/anaconda3/lib/python3.9/site-packages/sklearn/feature_extraction/text.py\", line 1347, in fit_transform\n",
      "    X, self.stop_words_ = self._limit_features(\n",
      "  File \"/Users/annarutledge/opt/anaconda3/lib/python3.9/site-packages/sklearn/feature_extraction/text.py\", line 1179, in _limit_features\n",
      "    raise ValueError(\n",
      "ValueError: After pruning, no terms remain. Try a lower min_df or a higher max_df.\n",
      "\n",
      "  warnings.warn(some_fits_failed_message, FitFailedWarning)\n",
      "/Users/annarutledge/opt/anaconda3/lib/python3.9/site-packages/sklearn/model_selection/_search.py:969: UserWarning: One or more of the test scores are non-finite: [0.74525633        nan 0.74058239        nan        nan        nan\n",
      "        nan 0.63218309 0.72642192 0.65933405]\n",
      "  warnings.warn(\n"
     ]
    },
    {
     "data": {
      "text/plain": [
       "RandomizedSearchCV(estimator=Pipeline(steps=[('columntransformer',\n",
       "                                              ColumnTransformer(n_jobs=-1,\n",
       "                                                                remainder='passthrough',\n",
       "                                                                transformers=[('countvectorizer',\n",
       "                                                                               CountVectorizer(),\n",
       "                                                                               'full_text')],\n",
       "                                                                verbose_feature_names_out=False)),\n",
       "                                             ('baggingclassifier',\n",
       "                                              BaggingClassifier())]),\n",
       "                   n_jobs=-1,\n",
       "                   param_distributions={'baggingclassifier__max_samples': [0.9,\n",
       "                                                                           1.0],\n",
       "                                        'baggingclassifier__n_estimators': [10,\n",
       "                                                                            20],\n",
       "                                        'columntransformer__countvectorizer__max_df': [0.8,\n",
       "                                                                                       0.9,\n",
       "                                                                                       1],\n",
       "                                        'columntransformer__countvectorizer__min_df': [0,\n",
       "                                                                                       0.1,\n",
       "                                                                                       0.2],\n",
       "                                        'columntransformer__countvectorizer__ngram_range': [(1,\n",
       "                                                                                             2),\n",
       "                                                                                            (1,\n",
       "                                                                                             3)],\n",
       "                                        'columntransformer__countvectorizer__stop_words': [None,\n",
       "                                                                                           'english']})"
      ]
     },
     "execution_count": 16,
     "metadata": {},
     "output_type": "execute_result"
    }
   ],
   "source": [
    "rs.fit(X_train, y_train)"
   ]
  },
  {
   "cell_type": "code",
   "execution_count": 17,
   "metadata": {},
   "outputs": [
    {
     "data": {
      "text/plain": [
       "Pipeline(steps=[('columntransformer',\n",
       "                 ColumnTransformer(n_jobs=-1, remainder='passthrough',\n",
       "                                   transformers=[('countvectorizer',\n",
       "                                                  CountVectorizer(max_df=0.8,\n",
       "                                                                  min_df=0,\n",
       "                                                                  ngram_range=(1,\n",
       "                                                                               2),\n",
       "                                                                  stop_words='english'),\n",
       "                                                  'full_text')],\n",
       "                                   verbose_feature_names_out=False)),\n",
       "                ('baggingclassifier', BaggingClassifier(n_estimators=20))])"
      ]
     },
     "execution_count": 17,
     "metadata": {},
     "output_type": "execute_result"
    }
   ],
   "source": [
    "rs.best_estimator_"
   ]
  },
  {
   "cell_type": "code",
   "execution_count": 18,
   "metadata": {},
   "outputs": [
    {
     "data": {
      "text/html": [
       "<div>\n",
       "<style scoped>\n",
       "    .dataframe tbody tr th:only-of-type {\n",
       "        vertical-align: middle;\n",
       "    }\n",
       "\n",
       "    .dataframe tbody tr th {\n",
       "        vertical-align: top;\n",
       "    }\n",
       "\n",
       "    .dataframe thead th {\n",
       "        text-align: right;\n",
       "    }\n",
       "</style>\n",
       "<table border=\"1\" class=\"dataframe\">\n",
       "  <thead>\n",
       "    <tr style=\"text-align: right;\">\n",
       "      <th></th>\n",
       "      <th>mean_fit_time</th>\n",
       "      <th>std_fit_time</th>\n",
       "      <th>mean_score_time</th>\n",
       "      <th>std_score_time</th>\n",
       "      <th>param_columntransformer__countvectorizer__stop_words</th>\n",
       "      <th>param_columntransformer__countvectorizer__ngram_range</th>\n",
       "      <th>param_columntransformer__countvectorizer__min_df</th>\n",
       "      <th>param_columntransformer__countvectorizer__max_df</th>\n",
       "      <th>param_baggingclassifier__n_estimators</th>\n",
       "      <th>param_baggingclassifier__max_samples</th>\n",
       "      <th>params</th>\n",
       "      <th>split0_test_score</th>\n",
       "      <th>split1_test_score</th>\n",
       "      <th>split2_test_score</th>\n",
       "      <th>split3_test_score</th>\n",
       "      <th>split4_test_score</th>\n",
       "      <th>mean_test_score</th>\n",
       "      <th>std_test_score</th>\n",
       "      <th>rank_test_score</th>\n",
       "    </tr>\n",
       "  </thead>\n",
       "  <tbody>\n",
       "    <tr>\n",
       "      <th>0</th>\n",
       "      <td>142.477698</td>\n",
       "      <td>2.690952</td>\n",
       "      <td>0.319659</td>\n",
       "      <td>0.013368</td>\n",
       "      <td>english</td>\n",
       "      <td>(1, 2)</td>\n",
       "      <td>0</td>\n",
       "      <td>0.8</td>\n",
       "      <td>20</td>\n",
       "      <td>1.0</td>\n",
       "      <td>{'columntransformer__countvectorizer__stop_wor...</td>\n",
       "      <td>0.745017</td>\n",
       "      <td>0.746392</td>\n",
       "      <td>0.755326</td>\n",
       "      <td>0.741148</td>\n",
       "      <td>0.738398</td>\n",
       "      <td>0.745256</td>\n",
       "      <td>0.005774</td>\n",
       "      <td>1</td>\n",
       "    </tr>\n",
       "    <tr>\n",
       "      <th>1</th>\n",
       "      <td>1.301899</td>\n",
       "      <td>0.135015</td>\n",
       "      <td>0.000000</td>\n",
       "      <td>0.000000</td>\n",
       "      <td>None</td>\n",
       "      <td>(1, 3)</td>\n",
       "      <td>0.1</td>\n",
       "      <td>1</td>\n",
       "      <td>20</td>\n",
       "      <td>0.9</td>\n",
       "      <td>{'columntransformer__countvectorizer__stop_wor...</td>\n",
       "      <td>NaN</td>\n",
       "      <td>NaN</td>\n",
       "      <td>NaN</td>\n",
       "      <td>NaN</td>\n",
       "      <td>NaN</td>\n",
       "      <td>NaN</td>\n",
       "      <td>NaN</td>\n",
       "      <td>6</td>\n",
       "    </tr>\n",
       "    <tr>\n",
       "      <th>2</th>\n",
       "      <td>128.510024</td>\n",
       "      <td>5.831908</td>\n",
       "      <td>0.299328</td>\n",
       "      <td>0.021499</td>\n",
       "      <td>english</td>\n",
       "      <td>(1, 2)</td>\n",
       "      <td>0</td>\n",
       "      <td>0.9</td>\n",
       "      <td>20</td>\n",
       "      <td>0.9</td>\n",
       "      <td>{'columntransformer__countvectorizer__stop_wor...</td>\n",
       "      <td>0.735395</td>\n",
       "      <td>0.745704</td>\n",
       "      <td>0.748110</td>\n",
       "      <td>0.742523</td>\n",
       "      <td>0.731179</td>\n",
       "      <td>0.740582</td>\n",
       "      <td>0.006356</td>\n",
       "      <td>2</td>\n",
       "    </tr>\n",
       "    <tr>\n",
       "      <th>3</th>\n",
       "      <td>0.715612</td>\n",
       "      <td>0.058651</td>\n",
       "      <td>0.000000</td>\n",
       "      <td>0.000000</td>\n",
       "      <td>english</td>\n",
       "      <td>(1, 2)</td>\n",
       "      <td>0.2</td>\n",
       "      <td>0.8</td>\n",
       "      <td>20</td>\n",
       "      <td>1.0</td>\n",
       "      <td>{'columntransformer__countvectorizer__stop_wor...</td>\n",
       "      <td>NaN</td>\n",
       "      <td>NaN</td>\n",
       "      <td>NaN</td>\n",
       "      <td>NaN</td>\n",
       "      <td>NaN</td>\n",
       "      <td>NaN</td>\n",
       "      <td>NaN</td>\n",
       "      <td>7</td>\n",
       "    </tr>\n",
       "    <tr>\n",
       "      <th>4</th>\n",
       "      <td>0.887395</td>\n",
       "      <td>0.067075</td>\n",
       "      <td>0.000000</td>\n",
       "      <td>0.000000</td>\n",
       "      <td>english</td>\n",
       "      <td>(1, 3)</td>\n",
       "      <td>0.1</td>\n",
       "      <td>1</td>\n",
       "      <td>10</td>\n",
       "      <td>0.9</td>\n",
       "      <td>{'columntransformer__countvectorizer__stop_wor...</td>\n",
       "      <td>NaN</td>\n",
       "      <td>NaN</td>\n",
       "      <td>NaN</td>\n",
       "      <td>NaN</td>\n",
       "      <td>NaN</td>\n",
       "      <td>NaN</td>\n",
       "      <td>NaN</td>\n",
       "      <td>8</td>\n",
       "    </tr>\n",
       "    <tr>\n",
       "      <th>5</th>\n",
       "      <td>0.915379</td>\n",
       "      <td>0.054656</td>\n",
       "      <td>0.000000</td>\n",
       "      <td>0.000000</td>\n",
       "      <td>None</td>\n",
       "      <td>(1, 2)</td>\n",
       "      <td>0.2</td>\n",
       "      <td>1</td>\n",
       "      <td>10</td>\n",
       "      <td>1.0</td>\n",
       "      <td>{'columntransformer__countvectorizer__stop_wor...</td>\n",
       "      <td>NaN</td>\n",
       "      <td>NaN</td>\n",
       "      <td>NaN</td>\n",
       "      <td>NaN</td>\n",
       "      <td>NaN</td>\n",
       "      <td>NaN</td>\n",
       "      <td>NaN</td>\n",
       "      <td>9</td>\n",
       "    </tr>\n",
       "    <tr>\n",
       "      <th>6</th>\n",
       "      <td>1.182368</td>\n",
       "      <td>0.032472</td>\n",
       "      <td>0.000000</td>\n",
       "      <td>0.000000</td>\n",
       "      <td>english</td>\n",
       "      <td>(1, 3)</td>\n",
       "      <td>0.2</td>\n",
       "      <td>0.9</td>\n",
       "      <td>10</td>\n",
       "      <td>1.0</td>\n",
       "      <td>{'columntransformer__countvectorizer__stop_wor...</td>\n",
       "      <td>NaN</td>\n",
       "      <td>NaN</td>\n",
       "      <td>NaN</td>\n",
       "      <td>NaN</td>\n",
       "      <td>NaN</td>\n",
       "      <td>NaN</td>\n",
       "      <td>NaN</td>\n",
       "      <td>10</td>\n",
       "    </tr>\n",
       "    <tr>\n",
       "      <th>7</th>\n",
       "      <td>1.128438</td>\n",
       "      <td>0.077341</td>\n",
       "      <td>0.151308</td>\n",
       "      <td>0.019718</td>\n",
       "      <td>english</td>\n",
       "      <td>(1, 2)</td>\n",
       "      <td>0.1</td>\n",
       "      <td>0.9</td>\n",
       "      <td>20</td>\n",
       "      <td>0.9</td>\n",
       "      <td>{'columntransformer__countvectorizer__stop_wor...</td>\n",
       "      <td>0.629210</td>\n",
       "      <td>0.627835</td>\n",
       "      <td>0.639863</td>\n",
       "      <td>0.639395</td>\n",
       "      <td>0.624613</td>\n",
       "      <td>0.632183</td>\n",
       "      <td>0.006262</td>\n",
       "      <td>5</td>\n",
       "    </tr>\n",
       "    <tr>\n",
       "      <th>8</th>\n",
       "      <td>4.992909</td>\n",
       "      <td>0.068918</td>\n",
       "      <td>0.258202</td>\n",
       "      <td>0.011637</td>\n",
       "      <td>None</td>\n",
       "      <td>(1, 3)</td>\n",
       "      <td>0.1</td>\n",
       "      <td>0.8</td>\n",
       "      <td>10</td>\n",
       "      <td>0.9</td>\n",
       "      <td>{'columntransformer__countvectorizer__stop_wor...</td>\n",
       "      <td>0.739519</td>\n",
       "      <td>0.721993</td>\n",
       "      <td>0.731615</td>\n",
       "      <td>0.715366</td>\n",
       "      <td>0.723616</td>\n",
       "      <td>0.726422</td>\n",
       "      <td>0.008345</td>\n",
       "      <td>3</td>\n",
       "    </tr>\n",
       "    <tr>\n",
       "      <th>9</th>\n",
       "      <td>114.199104</td>\n",
       "      <td>1.649673</td>\n",
       "      <td>0.249892</td>\n",
       "      <td>0.036337</td>\n",
       "      <td>None</td>\n",
       "      <td>(1, 2)</td>\n",
       "      <td>0</td>\n",
       "      <td>1</td>\n",
       "      <td>20</td>\n",
       "      <td>0.9</td>\n",
       "      <td>{'columntransformer__countvectorizer__stop_wor...</td>\n",
       "      <td>0.661168</td>\n",
       "      <td>0.651890</td>\n",
       "      <td>0.673196</td>\n",
       "      <td>0.652802</td>\n",
       "      <td>0.657614</td>\n",
       "      <td>0.659334</td>\n",
       "      <td>0.007701</td>\n",
       "      <td>4</td>\n",
       "    </tr>\n",
       "  </tbody>\n",
       "</table>\n",
       "</div>"
      ],
      "text/plain": [
       "   mean_fit_time  std_fit_time  mean_score_time  std_score_time  \\\n",
       "0     142.477698      2.690952         0.319659        0.013368   \n",
       "1       1.301899      0.135015         0.000000        0.000000   \n",
       "2     128.510024      5.831908         0.299328        0.021499   \n",
       "3       0.715612      0.058651         0.000000        0.000000   \n",
       "4       0.887395      0.067075         0.000000        0.000000   \n",
       "5       0.915379      0.054656         0.000000        0.000000   \n",
       "6       1.182368      0.032472         0.000000        0.000000   \n",
       "7       1.128438      0.077341         0.151308        0.019718   \n",
       "8       4.992909      0.068918         0.258202        0.011637   \n",
       "9     114.199104      1.649673         0.249892        0.036337   \n",
       "\n",
       "  param_columntransformer__countvectorizer__stop_words  \\\n",
       "0                                            english     \n",
       "1                                               None     \n",
       "2                                            english     \n",
       "3                                            english     \n",
       "4                                            english     \n",
       "5                                               None     \n",
       "6                                            english     \n",
       "7                                            english     \n",
       "8                                               None     \n",
       "9                                               None     \n",
       "\n",
       "  param_columntransformer__countvectorizer__ngram_range  \\\n",
       "0                                             (1, 2)      \n",
       "1                                             (1, 3)      \n",
       "2                                             (1, 2)      \n",
       "3                                             (1, 2)      \n",
       "4                                             (1, 3)      \n",
       "5                                             (1, 2)      \n",
       "6                                             (1, 3)      \n",
       "7                                             (1, 2)      \n",
       "8                                             (1, 3)      \n",
       "9                                             (1, 2)      \n",
       "\n",
       "  param_columntransformer__countvectorizer__min_df  \\\n",
       "0                                                0   \n",
       "1                                              0.1   \n",
       "2                                                0   \n",
       "3                                              0.2   \n",
       "4                                              0.1   \n",
       "5                                              0.2   \n",
       "6                                              0.2   \n",
       "7                                              0.1   \n",
       "8                                              0.1   \n",
       "9                                                0   \n",
       "\n",
       "  param_columntransformer__countvectorizer__max_df  \\\n",
       "0                                              0.8   \n",
       "1                                                1   \n",
       "2                                              0.9   \n",
       "3                                              0.8   \n",
       "4                                                1   \n",
       "5                                                1   \n",
       "6                                              0.9   \n",
       "7                                              0.9   \n",
       "8                                              0.8   \n",
       "9                                                1   \n",
       "\n",
       "  param_baggingclassifier__n_estimators param_baggingclassifier__max_samples  \\\n",
       "0                                    20                                  1.0   \n",
       "1                                    20                                  0.9   \n",
       "2                                    20                                  0.9   \n",
       "3                                    20                                  1.0   \n",
       "4                                    10                                  0.9   \n",
       "5                                    10                                  1.0   \n",
       "6                                    10                                  1.0   \n",
       "7                                    20                                  0.9   \n",
       "8                                    10                                  0.9   \n",
       "9                                    20                                  0.9   \n",
       "\n",
       "                                              params  split0_test_score  \\\n",
       "0  {'columntransformer__countvectorizer__stop_wor...           0.745017   \n",
       "1  {'columntransformer__countvectorizer__stop_wor...                NaN   \n",
       "2  {'columntransformer__countvectorizer__stop_wor...           0.735395   \n",
       "3  {'columntransformer__countvectorizer__stop_wor...                NaN   \n",
       "4  {'columntransformer__countvectorizer__stop_wor...                NaN   \n",
       "5  {'columntransformer__countvectorizer__stop_wor...                NaN   \n",
       "6  {'columntransformer__countvectorizer__stop_wor...                NaN   \n",
       "7  {'columntransformer__countvectorizer__stop_wor...           0.629210   \n",
       "8  {'columntransformer__countvectorizer__stop_wor...           0.739519   \n",
       "9  {'columntransformer__countvectorizer__stop_wor...           0.661168   \n",
       "\n",
       "   split1_test_score  split2_test_score  split3_test_score  split4_test_score  \\\n",
       "0           0.746392           0.755326           0.741148           0.738398   \n",
       "1                NaN                NaN                NaN                NaN   \n",
       "2           0.745704           0.748110           0.742523           0.731179   \n",
       "3                NaN                NaN                NaN                NaN   \n",
       "4                NaN                NaN                NaN                NaN   \n",
       "5                NaN                NaN                NaN                NaN   \n",
       "6                NaN                NaN                NaN                NaN   \n",
       "7           0.627835           0.639863           0.639395           0.624613   \n",
       "8           0.721993           0.731615           0.715366           0.723616   \n",
       "9           0.651890           0.673196           0.652802           0.657614   \n",
       "\n",
       "   mean_test_score  std_test_score  rank_test_score  \n",
       "0         0.745256        0.005774                1  \n",
       "1              NaN             NaN                6  \n",
       "2         0.740582        0.006356                2  \n",
       "3              NaN             NaN                7  \n",
       "4              NaN             NaN                8  \n",
       "5              NaN             NaN                9  \n",
       "6              NaN             NaN               10  \n",
       "7         0.632183        0.006262                5  \n",
       "8         0.726422        0.008345                3  \n",
       "9         0.659334        0.007701                4  "
      ]
     },
     "execution_count": 18,
     "metadata": {},
     "output_type": "execute_result"
    }
   ],
   "source": [
    "pd.DataFrame(rs.cv_results_)"
   ]
  },
  {
   "cell_type": "code",
   "execution_count": 19,
   "metadata": {},
   "outputs": [],
   "source": [
    "y_preds = rs.predict(X_test)"
   ]
  },
  {
   "cell_type": "code",
   "execution_count": 20,
   "metadata": {},
   "outputs": [
    {
     "data": {
      "text/plain": [
       "array(['showerthoughts', 'crazyideas', 'crazyideas', ...,\n",
       "       'showerthoughts', 'showerthoughts', 'showerthoughts'], dtype=object)"
      ]
     },
     "execution_count": 20,
     "metadata": {},
     "output_type": "execute_result"
    }
   ],
   "source": [
    "y_preds"
   ]
  },
  {
   "cell_type": "markdown",
   "metadata": {},
   "source": [
    "### Accuracy score"
   ]
  },
  {
   "cell_type": "code",
   "execution_count": 21,
   "metadata": {},
   "outputs": [
    {
     "data": {
      "text/plain": [
       "0.7408247422680413"
      ]
     },
     "execution_count": 21,
     "metadata": {},
     "output_type": "execute_result"
    }
   ],
   "source": [
    "rs.score(X_test, y_test)"
   ]
  },
  {
   "cell_type": "code",
   "execution_count": 22,
   "metadata": {},
   "outputs": [
    {
     "data": {
      "text/plain": [
       "0.7408247422680413"
      ]
     },
     "execution_count": 22,
     "metadata": {},
     "output_type": "execute_result"
    }
   ],
   "source": [
    "accuracy_score(y_test, y_preds)"
   ]
  },
  {
   "cell_type": "markdown",
   "metadata": {},
   "source": [
    "### Recall/sensitivity score"
   ]
  },
  {
   "cell_type": "code",
   "execution_count": 23,
   "metadata": {},
   "outputs": [
    {
     "data": {
      "text/plain": [
       "0.7228964401294499"
      ]
     },
     "execution_count": 23,
     "metadata": {},
     "output_type": "execute_result"
    }
   ],
   "source": [
    "recall_score(y_test, y_preds, pos_label='crazyideas')"
   ]
  },
  {
   "cell_type": "markdown",
   "metadata": {},
   "source": [
    "### Precision score"
   ]
  },
  {
   "cell_type": "code",
   "execution_count": 24,
   "metadata": {},
   "outputs": [
    {
     "data": {
      "text/plain": [
       "0.7575243747350572"
      ]
     },
     "execution_count": 24,
     "metadata": {},
     "output_type": "execute_result"
    }
   ],
   "source": [
    "precision_score(y_test, y_preds, pos_label='crazyideas')"
   ]
  },
  {
   "cell_type": "markdown",
   "metadata": {},
   "source": [
    "### F1 Score"
   ]
  },
  {
   "cell_type": "code",
   "execution_count": 25,
   "metadata": {},
   "outputs": [
    {
     "data": {
      "text/plain": [
       "0.7398054233078037"
      ]
     },
     "execution_count": 25,
     "metadata": {},
     "output_type": "execute_result"
    }
   ],
   "source": [
    "f1_score(y_test, y_preds, pos_label='crazyideas')"
   ]
  },
  {
   "cell_type": "markdown",
   "metadata": {},
   "source": [
    "### Confusion Matrix"
   ]
  },
  {
   "cell_type": "code",
   "execution_count": 26,
   "metadata": {},
   "outputs": [
    {
     "data": {
      "text/plain": [
       "<sklearn.metrics._plot.confusion_matrix.ConfusionMatrixDisplay at 0x7f9629cb9a60>"
      ]
     },
     "execution_count": 26,
     "metadata": {},
     "output_type": "execute_result"
    },
    {
     "data": {
      "image/png": "[encoded data removed]",
      "text/plain": [
       "<Figure size 432x288 with 2 Axes>"
      ]
     },
     "metadata": {
      "needs_background": "light"
     },
     "output_type": "display_data"
    }
   ],
   "source": [
    "ConfusionMatrixDisplay.from_predictions(y_test, y_preds, cmap='Greens')"
   ]
  }
 ],
 "metadata": {
  "interpreter": {
   "hash": "c90bd41498bd2909e03bc4813e3fc894d3d64fd4c32b3cf57272642761dbfb5b"
  },
  "kernelspec": {
   "display_name": "Python 3.9.7 64-bit ('base': conda)",
   "language": "python",
   "name": "python3"
  },
  "language_info": {
   "codemirror_mode": {
    "name": "ipython",
    "version": 3
   },
   "file_extension": ".py",
   "mimetype": "text/x-python",
   "name": "python",
   "nbconvert_exporter": "python",
   "pygments_lexer": "ipython3",
   "version": "3.9.7"
  },
  "orig_nbformat": 4
 },
 "nbformat": 4,
 "nbformat_minor": 2
}
