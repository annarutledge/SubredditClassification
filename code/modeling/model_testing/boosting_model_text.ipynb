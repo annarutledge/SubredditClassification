{
 "cells": [
  {
   "cell_type": "markdown",
   "metadata": {},
   "source": [
    "## Imports"
   ]
  },
  {
   "cell_type": "code",
   "execution_count": 16,
   "metadata": {},
   "outputs": [],
   "source": [
    "import numpy as np\n",
    "import pandas as pd\n",
    "\n",
    "from sklearn.linear_model import LogisticRegression\n",
    "from sklearn.model_selection import train_test_split, GridSearchCV, RandomizedSearchCV\n",
    "from sklearn.pipeline import make_pipeline\n",
    "from sklearn.feature_extraction.text import CountVectorizer\n",
    "from sklearn.compose import make_column_selector, make_column_transformer\n",
    "from sklearn.metrics import ConfusionMatrixDisplay, recall_score, accuracy_score,f1_score, precision_score\n",
    "from sklearn.tree import DecisionTreeClassifier\n",
    "from sklearn.ensemble import GradientBoostingClassifier\n"
   ]
  },
  {
   "cell_type": "markdown",
   "metadata": {},
   "source": [
    "## Read in cleaned data"
   ]
  },
  {
   "cell_type": "code",
   "execution_count": 3,
   "metadata": {},
   "outputs": [],
   "source": [
    "df_subreddits = pd.read_csv('/Users/annarutledge/Documents/general_assembly/submissions22/projects/project-3-master/data/subreddits.csv')"
   ]
  },
  {
   "cell_type": "code",
   "execution_count": 4,
   "metadata": {},
   "outputs": [
    {
     "data": {
      "text/html": [
       "<div>\n",
       "<style scoped>\n",
       "    .dataframe tbody tr th:only-of-type {\n",
       "        vertical-align: middle;\n",
       "    }\n",
       "\n",
       "    .dataframe tbody tr th {\n",
       "        vertical-align: top;\n",
       "    }\n",
       "\n",
       "    .dataframe thead th {\n",
       "        text-align: right;\n",
       "    }\n",
       "</style>\n",
       "<table border=\"1\" class=\"dataframe\">\n",
       "  <thead>\n",
       "    <tr style=\"text-align: right;\">\n",
       "      <th></th>\n",
       "      <th>title</th>\n",
       "      <th>text</th>\n",
       "      <th>auth</th>\n",
       "      <th>time</th>\n",
       "      <th>subreddit</th>\n",
       "      <th>full_text</th>\n",
       "      <th>letter_count</th>\n",
       "      <th>word_count</th>\n",
       "      <th>subreddit_code</th>\n",
       "    </tr>\n",
       "  </thead>\n",
       "  <tbody>\n",
       "    <tr>\n",
       "      <th>0</th>\n",
       "      <td>Every woman who is not lesbian is gay, (girls ...</td>\n",
       "      <td>NaN</td>\n",
       "      <td>Altruistic_Rest_9861</td>\n",
       "      <td>1643317371</td>\n",
       "      <td>showerthoughts</td>\n",
       "      <td>Every woman who is not lesbian is gay, (girls ...</td>\n",
       "      <td>131</td>\n",
       "      <td>26</td>\n",
       "      <td>0</td>\n",
       "    </tr>\n",
       "    <tr>\n",
       "      <th>1</th>\n",
       "      <td>Everyone keeps their phone on silent because w...</td>\n",
       "      <td>NaN</td>\n",
       "      <td>smcmahon710</td>\n",
       "      <td>1643317311</td>\n",
       "      <td>showerthoughts</td>\n",
       "      <td>Everyone keeps their phone on silent because w...</td>\n",
       "      <td>81</td>\n",
       "      <td>13</td>\n",
       "      <td>0</td>\n",
       "    </tr>\n",
       "    <tr>\n",
       "      <th>2</th>\n",
       "      <td>A good book will always be new.</td>\n",
       "      <td>NaN</td>\n",
       "      <td>agreatday248</td>\n",
       "      <td>1643317210</td>\n",
       "      <td>showerthoughts</td>\n",
       "      <td>A good book will always be new.</td>\n",
       "      <td>31</td>\n",
       "      <td>7</td>\n",
       "      <td>0</td>\n",
       "    </tr>\n",
       "    <tr>\n",
       "      <th>3</th>\n",
       "      <td>Science can either prove that no deity exists,...</td>\n",
       "      <td>NaN</td>\n",
       "      <td>shimkei</td>\n",
       "      <td>1643317183</td>\n",
       "      <td>showerthoughts</td>\n",
       "      <td>Science can either prove that no deity exists,...</td>\n",
       "      <td>132</td>\n",
       "      <td>26</td>\n",
       "      <td>0</td>\n",
       "    </tr>\n",
       "    <tr>\n",
       "      <th>4</th>\n",
       "      <td>The fact that I have to actively remind myself...</td>\n",
       "      <td>NaN</td>\n",
       "      <td>DawnMayRise</td>\n",
       "      <td>1643317126</td>\n",
       "      <td>showerthoughts</td>\n",
       "      <td>The fact that I have to actively remind myself...</td>\n",
       "      <td>118</td>\n",
       "      <td>22</td>\n",
       "      <td>0</td>\n",
       "    </tr>\n",
       "  </tbody>\n",
       "</table>\n",
       "</div>"
      ],
      "text/plain": [
       "                                               title text  \\\n",
       "0  Every woman who is not lesbian is gay, (girls ...  NaN   \n",
       "1  Everyone keeps their phone on silent because w...  NaN   \n",
       "2                    A good book will always be new.  NaN   \n",
       "3  Science can either prove that no deity exists,...  NaN   \n",
       "4  The fact that I have to actively remind myself...  NaN   \n",
       "\n",
       "                   auth        time       subreddit  \\\n",
       "0  Altruistic_Rest_9861  1643317371  showerthoughts   \n",
       "1           smcmahon710  1643317311  showerthoughts   \n",
       "2          agreatday248  1643317210  showerthoughts   \n",
       "3               shimkei  1643317183  showerthoughts   \n",
       "4           DawnMayRise  1643317126  showerthoughts   \n",
       "\n",
       "                                           full_text  letter_count  \\\n",
       "0  Every woman who is not lesbian is gay, (girls ...           131   \n",
       "1  Everyone keeps their phone on silent because w...            81   \n",
       "2                    A good book will always be new.            31   \n",
       "3  Science can either prove that no deity exists,...           132   \n",
       "4  The fact that I have to actively remind myself...           118   \n",
       "\n",
       "   word_count  subreddit_code  \n",
       "0          26               0  \n",
       "1          13               0  \n",
       "2           7               0  \n",
       "3          26               0  \n",
       "4          22               0  "
      ]
     },
     "execution_count": 4,
     "metadata": {},
     "output_type": "execute_result"
    }
   ],
   "source": [
    "df_subreddits.head()"
   ]
  },
  {
   "cell_type": "markdown",
   "metadata": {},
   "source": [
    "## Train - Test - Split"
   ]
  },
  {
   "cell_type": "code",
   "execution_count": 5,
   "metadata": {},
   "outputs": [],
   "source": [
    "X = df_subreddits['full_text']\n",
    "\n",
    "y = df_subreddits['subreddit']"
   ]
  },
  {
   "cell_type": "code",
   "execution_count": 6,
   "metadata": {},
   "outputs": [],
   "source": [
    "X_train, X_test, y_train, y_test = train_test_split(X, y, stratify=y, random_state=10)"
   ]
  },
  {
   "cell_type": "code",
   "execution_count": 7,
   "metadata": {},
   "outputs": [
    {
     "data": {
      "text/plain": [
       "(14548,)"
      ]
     },
     "execution_count": 7,
     "metadata": {},
     "output_type": "execute_result"
    }
   ],
   "source": [
    "X_train.shape"
   ]
  },
  {
   "cell_type": "code",
   "execution_count": 8,
   "metadata": {},
   "outputs": [
    {
     "data": {
      "text/plain": [
       "(4850,)"
      ]
     },
     "execution_count": 8,
     "metadata": {},
     "output_type": "execute_result"
    }
   ],
   "source": [
    "X_test.shape"
   ]
  },
  {
   "cell_type": "code",
   "execution_count": 9,
   "metadata": {},
   "outputs": [
    {
     "data": {
      "text/plain": [
       "(14548,)"
      ]
     },
     "execution_count": 9,
     "metadata": {},
     "output_type": "execute_result"
    }
   ],
   "source": [
    "y_train.shape"
   ]
  },
  {
   "cell_type": "code",
   "execution_count": 10,
   "metadata": {},
   "outputs": [
    {
     "data": {
      "text/plain": [
       "(4850,)"
      ]
     },
     "execution_count": 10,
     "metadata": {},
     "output_type": "execute_result"
    }
   ],
   "source": [
    "y_test.shape"
   ]
  },
  {
   "cell_type": "markdown",
   "metadata": {},
   "source": [
    "## GradientBoosting Classifier model"
   ]
  },
  {
   "cell_type": "code",
   "execution_count": 11,
   "metadata": {},
   "outputs": [],
   "source": [
    "cv = CountVectorizer()"
   ]
  },
  {
   "cell_type": "code",
   "execution_count": 12,
   "metadata": {},
   "outputs": [],
   "source": [
    "gb = GradientBoostingClassifier()"
   ]
  },
  {
   "cell_type": "code",
   "execution_count": 13,
   "metadata": {},
   "outputs": [],
   "source": [
    "pipe = make_pipeline(cv, gb)"
   ]
  },
  {
   "cell_type": "code",
   "execution_count": 14,
   "metadata": {},
   "outputs": [],
   "source": [
    "params = {\n",
    "    'gradientboostingclassifier__max_depth': [2,3,4],\n",
    "    'gradientboostingclassifier__n_estimators': [100, 125, 150],\n",
    "    'gradientboostingclassifier__learning_rate': [.08, .1, .12], \n",
    "    'countvectorizer__ngram_range':[(1,2), (1,3)], \n",
    "    'countvectorizer__max_df':[0.8, 0.9, 1],\n",
    "    'countvectorizer__min_df':[0, 0.1, 0.2],\n",
    "    'countvectorizer__stop_words':[None, 'english']\n",
    "}"
   ]
  },
  {
   "cell_type": "code",
   "execution_count": 17,
   "metadata": {},
   "outputs": [],
   "source": [
    "rs = RandomizedSearchCV(pipe, params, n_jobs=-1)"
   ]
  },
  {
   "cell_type": "code",
   "execution_count": 18,
   "metadata": {},
   "outputs": [
    {
     "name": "stderr",
     "output_type": "stream",
     "text": [
      "/Users/annarutledge/opt/anaconda3/lib/python3.9/site-packages/sklearn/model_selection/_validation.py:372: FitFailedWarning: \n",
      "10 fits failed out of a total of 50.\n",
      "The score on these train-test partitions for these parameters will be set to nan.\n",
      "If these failures are not expected, you can try to debug them by setting error_score='raise'.\n",
      "\n",
      "Below are more details about the failures:\n",
      "--------------------------------------------------------------------------------\n",
      "10 fits failed with the following error:\n",
      "Traceback (most recent call last):\n",
      "  File \"/Users/annarutledge/opt/anaconda3/lib/python3.9/site-packages/sklearn/model_selection/_validation.py\", line 680, in _fit_and_score\n",
      "    estimator.fit(X_train, y_train, **fit_params)\n",
      "  File \"/Users/annarutledge/opt/anaconda3/lib/python3.9/site-packages/sklearn/pipeline.py\", line 390, in fit\n",
      "    Xt = self._fit(X, y, **fit_params_steps)\n",
      "  File \"/Users/annarutledge/opt/anaconda3/lib/python3.9/site-packages/sklearn/pipeline.py\", line 348, in _fit\n",
      "    X, fitted_transformer = fit_transform_one_cached(\n",
      "  File \"/Users/annarutledge/opt/anaconda3/lib/python3.9/site-packages/joblib/memory.py\", line 349, in __call__\n",
      "    return self.func(*args, **kwargs)\n",
      "  File \"/Users/annarutledge/opt/anaconda3/lib/python3.9/site-packages/sklearn/pipeline.py\", line 893, in _fit_transform_one\n",
      "    res = transformer.fit_transform(X, y, **fit_params)\n",
      "  File \"/Users/annarutledge/opt/anaconda3/lib/python3.9/site-packages/sklearn/feature_extraction/text.py\", line 1344, in fit_transform\n",
      "    raise ValueError(\"max_df corresponds to < documents than min_df\")\n",
      "ValueError: max_df corresponds to < documents than min_df\n",
      "\n",
      "  warnings.warn(some_fits_failed_message, FitFailedWarning)\n",
      "/Users/annarutledge/opt/anaconda3/lib/python3.9/site-packages/sklearn/model_selection/_search.py:969: UserWarning: One or more of the test scores are non-finite: [       nan 0.73054682 0.79708526 0.72381069        nan 0.80134716\n",
      " 0.54591736 0.67555585 0.68222374 0.5127165 ]\n",
      "  warnings.warn(\n"
     ]
    },
    {
     "data": {
      "text/plain": [
       "RandomizedSearchCV(estimator=Pipeline(steps=[('countvectorizer',\n",
       "                                              CountVectorizer()),\n",
       "                                             ('gradientboostingclassifier',\n",
       "                                              GradientBoostingClassifier())]),\n",
       "                   n_jobs=-1,\n",
       "                   param_distributions={'countvectorizer__max_df': [0.8, 0.9,\n",
       "                                                                    1],\n",
       "                                        'countvectorizer__min_df': [0, 0.1,\n",
       "                                                                    0.2],\n",
       "                                        'countvectorizer__ngram_range': [(1, 2),\n",
       "                                                                         (1,\n",
       "                                                                          3)],\n",
       "                                        'countvectorizer__stop_words': [None,\n",
       "                                                                        'english'],\n",
       "                                        'gradientboostingclassifier__learning_rate': [0.08,\n",
       "                                                                                      0.1,\n",
       "                                                                                      0.12],\n",
       "                                        'gradientboostingclassifier__max_depth': [2,\n",
       "                                                                                  3,\n",
       "                                                                                  4],\n",
       "                                        'gradientboostingclassifier__n_estimators': [100,\n",
       "                                                                                     125,\n",
       "                                                                                     150]})"
      ]
     },
     "execution_count": 18,
     "metadata": {},
     "output_type": "execute_result"
    }
   ],
   "source": [
    "rs.fit(X_train, y_train)"
   ]
  },
  {
   "cell_type": "code",
   "execution_count": 19,
   "metadata": {},
   "outputs": [
    {
     "data": {
      "text/plain": [
       "Pipeline(steps=[('countvectorizer',\n",
       "                 CountVectorizer(max_df=0.8, min_df=0, ngram_range=(1, 2))),\n",
       "                ('gradientboostingclassifier',\n",
       "                 GradientBoostingClassifier(max_depth=4, n_estimators=150))])"
      ]
     },
     "execution_count": 19,
     "metadata": {},
     "output_type": "execute_result"
    }
   ],
   "source": [
    "rs.best_estimator_"
   ]
  },
  {
   "cell_type": "code",
   "execution_count": 20,
   "metadata": {},
   "outputs": [
    {
     "data": {
      "text/html": [
       "<div>\n",
       "<style scoped>\n",
       "    .dataframe tbody tr th:only-of-type {\n",
       "        vertical-align: middle;\n",
       "    }\n",
       "\n",
       "    .dataframe tbody tr th {\n",
       "        vertical-align: top;\n",
       "    }\n",
       "\n",
       "    .dataframe thead th {\n",
       "        text-align: right;\n",
       "    }\n",
       "</style>\n",
       "<table border=\"1\" class=\"dataframe\">\n",
       "  <thead>\n",
       "    <tr style=\"text-align: right;\">\n",
       "      <th></th>\n",
       "      <th>mean_fit_time</th>\n",
       "      <th>std_fit_time</th>\n",
       "      <th>mean_score_time</th>\n",
       "      <th>std_score_time</th>\n",
       "      <th>param_gradientboostingclassifier__n_estimators</th>\n",
       "      <th>param_gradientboostingclassifier__max_depth</th>\n",
       "      <th>param_gradientboostingclassifier__learning_rate</th>\n",
       "      <th>param_countvectorizer__stop_words</th>\n",
       "      <th>param_countvectorizer__ngram_range</th>\n",
       "      <th>param_countvectorizer__min_df</th>\n",
       "      <th>param_countvectorizer__max_df</th>\n",
       "      <th>params</th>\n",
       "      <th>split0_test_score</th>\n",
       "      <th>split1_test_score</th>\n",
       "      <th>split2_test_score</th>\n",
       "      <th>split3_test_score</th>\n",
       "      <th>split4_test_score</th>\n",
       "      <th>mean_test_score</th>\n",
       "      <th>std_test_score</th>\n",
       "      <th>rank_test_score</th>\n",
       "    </tr>\n",
       "  </thead>\n",
       "  <tbody>\n",
       "    <tr>\n",
       "      <th>0</th>\n",
       "      <td>0.620170</td>\n",
       "      <td>0.029235</td>\n",
       "      <td>0.000000</td>\n",
       "      <td>0.000000</td>\n",
       "      <td>150</td>\n",
       "      <td>4</td>\n",
       "      <td>0.12</td>\n",
       "      <td>english</td>\n",
       "      <td>(1, 2)</td>\n",
       "      <td>0.2</td>\n",
       "      <td>1</td>\n",
       "      <td>{'gradientboostingclassifier__n_estimators': 1...</td>\n",
       "      <td>NaN</td>\n",
       "      <td>NaN</td>\n",
       "      <td>NaN</td>\n",
       "      <td>NaN</td>\n",
       "      <td>NaN</td>\n",
       "      <td>NaN</td>\n",
       "      <td>NaN</td>\n",
       "      <td>9</td>\n",
       "    </tr>\n",
       "    <tr>\n",
       "      <th>1</th>\n",
       "      <td>83.747624</td>\n",
       "      <td>2.732772</td>\n",
       "      <td>0.225133</td>\n",
       "      <td>0.023804</td>\n",
       "      <td>125</td>\n",
       "      <td>4</td>\n",
       "      <td>0.1</td>\n",
       "      <td>english</td>\n",
       "      <td>(1, 3)</td>\n",
       "      <td>0</td>\n",
       "      <td>0.8</td>\n",
       "      <td>{'gradientboostingclassifier__n_estimators': 1...</td>\n",
       "      <td>0.731959</td>\n",
       "      <td>0.733333</td>\n",
       "      <td>0.731271</td>\n",
       "      <td>0.738742</td>\n",
       "      <td>0.717429</td>\n",
       "      <td>0.730547</td>\n",
       "      <td>0.007064</td>\n",
       "      <td>3</td>\n",
       "    </tr>\n",
       "    <tr>\n",
       "      <th>2</th>\n",
       "      <td>59.767066</td>\n",
       "      <td>0.838327</td>\n",
       "      <td>0.265200</td>\n",
       "      <td>0.025908</td>\n",
       "      <td>125</td>\n",
       "      <td>4</td>\n",
       "      <td>0.1</td>\n",
       "      <td>None</td>\n",
       "      <td>(1, 2)</td>\n",
       "      <td>0</td>\n",
       "      <td>0.8</td>\n",
       "      <td>{'gradientboostingclassifier__n_estimators': 1...</td>\n",
       "      <td>0.808247</td>\n",
       "      <td>0.791065</td>\n",
       "      <td>0.795533</td>\n",
       "      <td>0.794087</td>\n",
       "      <td>0.796494</td>\n",
       "      <td>0.797085</td>\n",
       "      <td>0.005875</td>\n",
       "      <td>2</td>\n",
       "    </tr>\n",
       "    <tr>\n",
       "      <th>3</th>\n",
       "      <td>36.864123</td>\n",
       "      <td>1.135997</td>\n",
       "      <td>0.187852</td>\n",
       "      <td>0.020257</td>\n",
       "      <td>125</td>\n",
       "      <td>4</td>\n",
       "      <td>0.08</td>\n",
       "      <td>english</td>\n",
       "      <td>(1, 2)</td>\n",
       "      <td>0</td>\n",
       "      <td>0.8</td>\n",
       "      <td>{'gradientboostingclassifier__n_estimators': 1...</td>\n",
       "      <td>0.726460</td>\n",
       "      <td>0.724742</td>\n",
       "      <td>0.722337</td>\n",
       "      <td>0.730835</td>\n",
       "      <td>0.714679</td>\n",
       "      <td>0.723811</td>\n",
       "      <td>0.005344</td>\n",
       "      <td>4</td>\n",
       "    </tr>\n",
       "    <tr>\n",
       "      <th>4</th>\n",
       "      <td>1.400859</td>\n",
       "      <td>0.080092</td>\n",
       "      <td>0.000000</td>\n",
       "      <td>0.000000</td>\n",
       "      <td>150</td>\n",
       "      <td>2</td>\n",
       "      <td>0.08</td>\n",
       "      <td>None</td>\n",
       "      <td>(1, 3)</td>\n",
       "      <td>0.2</td>\n",
       "      <td>1</td>\n",
       "      <td>{'gradientboostingclassifier__n_estimators': 1...</td>\n",
       "      <td>NaN</td>\n",
       "      <td>NaN</td>\n",
       "      <td>NaN</td>\n",
       "      <td>NaN</td>\n",
       "      <td>NaN</td>\n",
       "      <td>NaN</td>\n",
       "      <td>NaN</td>\n",
       "      <td>10</td>\n",
       "    </tr>\n",
       "    <tr>\n",
       "      <th>5</th>\n",
       "      <td>73.896056</td>\n",
       "      <td>2.014797</td>\n",
       "      <td>0.232090</td>\n",
       "      <td>0.015717</td>\n",
       "      <td>150</td>\n",
       "      <td>4</td>\n",
       "      <td>0.1</td>\n",
       "      <td>None</td>\n",
       "      <td>(1, 2)</td>\n",
       "      <td>0</td>\n",
       "      <td>0.8</td>\n",
       "      <td>{'gradientboostingclassifier__n_estimators': 1...</td>\n",
       "      <td>0.812371</td>\n",
       "      <td>0.793814</td>\n",
       "      <td>0.799313</td>\n",
       "      <td>0.800275</td>\n",
       "      <td>0.800963</td>\n",
       "      <td>0.801347</td>\n",
       "      <td>0.006061</td>\n",
       "      <td>1</td>\n",
       "    </tr>\n",
       "    <tr>\n",
       "      <th>6</th>\n",
       "      <td>1.471076</td>\n",
       "      <td>0.055659</td>\n",
       "      <td>0.170774</td>\n",
       "      <td>0.027822</td>\n",
       "      <td>125</td>\n",
       "      <td>3</td>\n",
       "      <td>0.08</td>\n",
       "      <td>english</td>\n",
       "      <td>(1, 3)</td>\n",
       "      <td>0.1</td>\n",
       "      <td>0.9</td>\n",
       "      <td>{'gradientboostingclassifier__n_estimators': 1...</td>\n",
       "      <td>0.540550</td>\n",
       "      <td>0.542268</td>\n",
       "      <td>0.549141</td>\n",
       "      <td>0.549673</td>\n",
       "      <td>0.547955</td>\n",
       "      <td>0.545917</td>\n",
       "      <td>0.003762</td>\n",
       "      <td>7</td>\n",
       "    </tr>\n",
       "    <tr>\n",
       "      <th>7</th>\n",
       "      <td>2.286895</td>\n",
       "      <td>0.054469</td>\n",
       "      <td>0.260270</td>\n",
       "      <td>0.026548</td>\n",
       "      <td>100</td>\n",
       "      <td>2</td>\n",
       "      <td>0.08</td>\n",
       "      <td>None</td>\n",
       "      <td>(1, 3)</td>\n",
       "      <td>0.2</td>\n",
       "      <td>0.9</td>\n",
       "      <td>{'gradientboostingclassifier__n_estimators': 1...</td>\n",
       "      <td>0.689347</td>\n",
       "      <td>0.667354</td>\n",
       "      <td>0.683505</td>\n",
       "      <td>0.672052</td>\n",
       "      <td>0.665521</td>\n",
       "      <td>0.675556</td>\n",
       "      <td>0.009313</td>\n",
       "      <td>6</td>\n",
       "    </tr>\n",
       "    <tr>\n",
       "      <th>8</th>\n",
       "      <td>3.026131</td>\n",
       "      <td>0.132781</td>\n",
       "      <td>0.290683</td>\n",
       "      <td>0.024528</td>\n",
       "      <td>125</td>\n",
       "      <td>4</td>\n",
       "      <td>0.08</td>\n",
       "      <td>None</td>\n",
       "      <td>(1, 3)</td>\n",
       "      <td>0.2</td>\n",
       "      <td>0.8</td>\n",
       "      <td>{'gradientboostingclassifier__n_estimators': 1...</td>\n",
       "      <td>0.696564</td>\n",
       "      <td>0.671478</td>\n",
       "      <td>0.687629</td>\n",
       "      <td>0.682021</td>\n",
       "      <td>0.673427</td>\n",
       "      <td>0.682224</td>\n",
       "      <td>0.009249</td>\n",
       "      <td>5</td>\n",
       "    </tr>\n",
       "    <tr>\n",
       "      <th>9</th>\n",
       "      <td>51.873689</td>\n",
       "      <td>11.945290</td>\n",
       "      <td>0.143498</td>\n",
       "      <td>0.022641</td>\n",
       "      <td>150</td>\n",
       "      <td>4</td>\n",
       "      <td>0.12</td>\n",
       "      <td>english</td>\n",
       "      <td>(1, 3)</td>\n",
       "      <td>0</td>\n",
       "      <td>1</td>\n",
       "      <td>{'gradientboostingclassifier__n_estimators': 1...</td>\n",
       "      <td>0.512027</td>\n",
       "      <td>0.514089</td>\n",
       "      <td>0.512371</td>\n",
       "      <td>0.512891</td>\n",
       "      <td>0.512204</td>\n",
       "      <td>0.512717</td>\n",
       "      <td>0.000745</td>\n",
       "      <td>8</td>\n",
       "    </tr>\n",
       "  </tbody>\n",
       "</table>\n",
       "</div>"
      ],
      "text/plain": [
       "   mean_fit_time  std_fit_time  mean_score_time  std_score_time  \\\n",
       "0       0.620170      0.029235         0.000000        0.000000   \n",
       "1      83.747624      2.732772         0.225133        0.023804   \n",
       "2      59.767066      0.838327         0.265200        0.025908   \n",
       "3      36.864123      1.135997         0.187852        0.020257   \n",
       "4       1.400859      0.080092         0.000000        0.000000   \n",
       "5      73.896056      2.014797         0.232090        0.015717   \n",
       "6       1.471076      0.055659         0.170774        0.027822   \n",
       "7       2.286895      0.054469         0.260270        0.026548   \n",
       "8       3.026131      0.132781         0.290683        0.024528   \n",
       "9      51.873689     11.945290         0.143498        0.022641   \n",
       "\n",
       "  param_gradientboostingclassifier__n_estimators  \\\n",
       "0                                            150   \n",
       "1                                            125   \n",
       "2                                            125   \n",
       "3                                            125   \n",
       "4                                            150   \n",
       "5                                            150   \n",
       "6                                            125   \n",
       "7                                            100   \n",
       "8                                            125   \n",
       "9                                            150   \n",
       "\n",
       "  param_gradientboostingclassifier__max_depth  \\\n",
       "0                                           4   \n",
       "1                                           4   \n",
       "2                                           4   \n",
       "3                                           4   \n",
       "4                                           2   \n",
       "5                                           4   \n",
       "6                                           3   \n",
       "7                                           2   \n",
       "8                                           4   \n",
       "9                                           4   \n",
       "\n",
       "  param_gradientboostingclassifier__learning_rate  \\\n",
       "0                                            0.12   \n",
       "1                                             0.1   \n",
       "2                                             0.1   \n",
       "3                                            0.08   \n",
       "4                                            0.08   \n",
       "5                                             0.1   \n",
       "6                                            0.08   \n",
       "7                                            0.08   \n",
       "8                                            0.08   \n",
       "9                                            0.12   \n",
       "\n",
       "  param_countvectorizer__stop_words param_countvectorizer__ngram_range  \\\n",
       "0                           english                             (1, 2)   \n",
       "1                           english                             (1, 3)   \n",
       "2                              None                             (1, 2)   \n",
       "3                           english                             (1, 2)   \n",
       "4                              None                             (1, 3)   \n",
       "5                              None                             (1, 2)   \n",
       "6                           english                             (1, 3)   \n",
       "7                              None                             (1, 3)   \n",
       "8                              None                             (1, 3)   \n",
       "9                           english                             (1, 3)   \n",
       "\n",
       "  param_countvectorizer__min_df param_countvectorizer__max_df  \\\n",
       "0                           0.2                             1   \n",
       "1                             0                           0.8   \n",
       "2                             0                           0.8   \n",
       "3                             0                           0.8   \n",
       "4                           0.2                             1   \n",
       "5                             0                           0.8   \n",
       "6                           0.1                           0.9   \n",
       "7                           0.2                           0.9   \n",
       "8                           0.2                           0.8   \n",
       "9                             0                             1   \n",
       "\n",
       "                                              params  split0_test_score  \\\n",
       "0  {'gradientboostingclassifier__n_estimators': 1...                NaN   \n",
       "1  {'gradientboostingclassifier__n_estimators': 1...           0.731959   \n",
       "2  {'gradientboostingclassifier__n_estimators': 1...           0.808247   \n",
       "3  {'gradientboostingclassifier__n_estimators': 1...           0.726460   \n",
       "4  {'gradientboostingclassifier__n_estimators': 1...                NaN   \n",
       "5  {'gradientboostingclassifier__n_estimators': 1...           0.812371   \n",
       "6  {'gradientboostingclassifier__n_estimators': 1...           0.540550   \n",
       "7  {'gradientboostingclassifier__n_estimators': 1...           0.689347   \n",
       "8  {'gradientboostingclassifier__n_estimators': 1...           0.696564   \n",
       "9  {'gradientboostingclassifier__n_estimators': 1...           0.512027   \n",
       "\n",
       "   split1_test_score  split2_test_score  split3_test_score  split4_test_score  \\\n",
       "0                NaN                NaN                NaN                NaN   \n",
       "1           0.733333           0.731271           0.738742           0.717429   \n",
       "2           0.791065           0.795533           0.794087           0.796494   \n",
       "3           0.724742           0.722337           0.730835           0.714679   \n",
       "4                NaN                NaN                NaN                NaN   \n",
       "5           0.793814           0.799313           0.800275           0.800963   \n",
       "6           0.542268           0.549141           0.549673           0.547955   \n",
       "7           0.667354           0.683505           0.672052           0.665521   \n",
       "8           0.671478           0.687629           0.682021           0.673427   \n",
       "9           0.514089           0.512371           0.512891           0.512204   \n",
       "\n",
       "   mean_test_score  std_test_score  rank_test_score  \n",
       "0              NaN             NaN                9  \n",
       "1         0.730547        0.007064                3  \n",
       "2         0.797085        0.005875                2  \n",
       "3         0.723811        0.005344                4  \n",
       "4              NaN             NaN               10  \n",
       "5         0.801347        0.006061                1  \n",
       "6         0.545917        0.003762                7  \n",
       "7         0.675556        0.009313                6  \n",
       "8         0.682224        0.009249                5  \n",
       "9         0.512717        0.000745                8  "
      ]
     },
     "execution_count": 20,
     "metadata": {},
     "output_type": "execute_result"
    }
   ],
   "source": [
    "pd.DataFrame(rs.cv_results_)"
   ]
  },
  {
   "cell_type": "code",
   "execution_count": 21,
   "metadata": {},
   "outputs": [],
   "source": [
    "y_preds = rs.predict(X_test)"
   ]
  },
  {
   "cell_type": "code",
   "execution_count": 22,
   "metadata": {},
   "outputs": [
    {
     "data": {
      "text/plain": [
       "array(['crazyideas', 'crazyideas', 'crazyideas', ..., 'showerthoughts',\n",
       "       'showerthoughts', 'crazyideas'], dtype=object)"
      ]
     },
     "execution_count": 22,
     "metadata": {},
     "output_type": "execute_result"
    }
   ],
   "source": [
    "y_preds"
   ]
  },
  {
   "cell_type": "markdown",
   "metadata": {},
   "source": [
    "### Accuracy score"
   ]
  },
  {
   "cell_type": "code",
   "execution_count": 23,
   "metadata": {},
   "outputs": [
    {
     "data": {
      "text/plain": [
       "0.8098969072164949"
      ]
     },
     "execution_count": 23,
     "metadata": {},
     "output_type": "execute_result"
    }
   ],
   "source": [
    "rs.score(X_test, y_test)"
   ]
  },
  {
   "cell_type": "code",
   "execution_count": 24,
   "metadata": {},
   "outputs": [
    {
     "data": {
      "text/plain": [
       "0.8098969072164949"
      ]
     },
     "execution_count": 24,
     "metadata": {},
     "output_type": "execute_result"
    }
   ],
   "source": [
    "accuracy_score(y_test, y_preds)"
   ]
  },
  {
   "cell_type": "markdown",
   "metadata": {},
   "source": [
    "### Recall/sensitivity score"
   ]
  },
  {
   "cell_type": "code",
   "execution_count": 25,
   "metadata": {},
   "outputs": [
    {
     "data": {
      "text/plain": [
       "0.781957928802589"
      ]
     },
     "execution_count": 25,
     "metadata": {},
     "output_type": "execute_result"
    }
   ],
   "source": [
    "recall_score(y_test, y_preds, pos_label='crazyideas')"
   ]
  },
  {
   "cell_type": "markdown",
   "metadata": {},
   "source": [
    "### Precision score"
   ]
  },
  {
   "cell_type": "code",
   "execution_count": 26,
   "metadata": {},
   "outputs": [
    {
     "data": {
      "text/plain": [
       "0.8346286701208981"
      ]
     },
     "execution_count": 26,
     "metadata": {},
     "output_type": "execute_result"
    }
   ],
   "source": [
    "precision_score(y_test, y_preds, pos_label='crazyideas')"
   ]
  },
  {
   "cell_type": "markdown",
   "metadata": {},
   "source": [
    "### F1 Score"
   ]
  },
  {
   "cell_type": "code",
   "execution_count": 28,
   "metadata": {},
   "outputs": [
    {
     "data": {
      "text/plain": [
       "0.8074352548036758"
      ]
     },
     "execution_count": 28,
     "metadata": {},
     "output_type": "execute_result"
    }
   ],
   "source": [
    "f1_score(y_test, y_preds, pos_label='crazyideas')"
   ]
  },
  {
   "cell_type": "markdown",
   "metadata": {},
   "source": [
    "### Confusion Matrix"
   ]
  },
  {
   "cell_type": "code",
   "execution_count": 30,
   "metadata": {},
   "outputs": [
    {
     "data": {
      "image/png": "[encoded data removed]",
      "text/plain": [
       "<Figure size 432x288 with 2 Axes>"
      ]
     },
     "metadata": {
      "needs_background": "light"
     },
     "output_type": "display_data"
    }
   ],
   "source": [
    "ConfusionMatrixDisplay.from_predictions(y_test, y_preds, cmap='Greens');"
   ]
  },
  {
   "cell_type": "code",
   "execution_count": null,
   "metadata": {},
   "outputs": [],
   "source": []
  }
 ],
 "metadata": {
  "interpreter": {
   "hash": "c90bd41498bd2909e03bc4813e3fc894d3d64fd4c32b3cf57272642761dbfb5b"
  },
  "kernelspec": {
   "display_name": "Python 3.9.7 64-bit ('base': conda)",
   "language": "python",
   "name": "python3"
  },
  "language_info": {
   "codemirror_mode": {
    "name": "ipython",
    "version": 3
   },
   "file_extension": ".py",
   "mimetype": "text/x-python",
   "name": "python",
   "nbconvert_exporter": "python",
   "pygments_lexer": "ipython3",
   "version": "3.9.7"
  },
  "orig_nbformat": 4
 },
 "nbformat": 4,
 "nbformat_minor": 2
}
