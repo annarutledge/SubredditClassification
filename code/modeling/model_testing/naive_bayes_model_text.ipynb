{
 "cells": [
  {
   "cell_type": "markdown",
   "metadata": {},
   "source": [
    "## Imports"
   ]
  },
  {
   "cell_type": "code",
   "execution_count": 1,
   "metadata": {},
   "outputs": [],
   "source": [
    "import numpy as np\n",
    "import pandas as pd\n",
    "\n",
    "from sklearn.linear_model import LogisticRegression\n",
    "from sklearn.model_selection import train_test_split, GridSearchCV\n",
    "from sklearn.pipeline import make_pipeline\n",
    "from sklearn.feature_extraction.text import CountVectorizer\n",
    "from sklearn.compose import make_column_selector, make_column_transformer\n",
    "from sklearn.metrics import ConfusionMatrixDisplay, recall_score, accuracy_score,f1_score, precision_score\n",
    "from sklearn.naive_bayes import MultinomialNB\n"
   ]
  },
  {
   "cell_type": "markdown",
   "metadata": {},
   "source": [
    "## Read in cleaned data"
   ]
  },
  {
   "cell_type": "code",
   "execution_count": 2,
   "metadata": {},
   "outputs": [],
   "source": [
    "df_subreddits = pd.read_csv('/Users/annarutledge/Documents/general_assembly/submissions22/projects/project-3-master/data/subreddits.csv')"
   ]
  },
  {
   "cell_type": "code",
   "execution_count": 3,
   "metadata": {},
   "outputs": [
    {
     "data": {
      "text/html": [
       "<div>\n",
       "<style scoped>\n",
       "    .dataframe tbody tr th:only-of-type {\n",
       "        vertical-align: middle;\n",
       "    }\n",
       "\n",
       "    .dataframe tbody tr th {\n",
       "        vertical-align: top;\n",
       "    }\n",
       "\n",
       "    .dataframe thead th {\n",
       "        text-align: right;\n",
       "    }\n",
       "</style>\n",
       "<table border=\"1\" class=\"dataframe\">\n",
       "  <thead>\n",
       "    <tr style=\"text-align: right;\">\n",
       "      <th></th>\n",
       "      <th>title</th>\n",
       "      <th>text</th>\n",
       "      <th>auth</th>\n",
       "      <th>time</th>\n",
       "      <th>subreddit</th>\n",
       "      <th>full_text</th>\n",
       "      <th>letter_count</th>\n",
       "      <th>word_count</th>\n",
       "      <th>subreddit_code</th>\n",
       "    </tr>\n",
       "  </thead>\n",
       "  <tbody>\n",
       "    <tr>\n",
       "      <th>0</th>\n",
       "      <td>Every woman who is not lesbian is gay, (girls ...</td>\n",
       "      <td>NaN</td>\n",
       "      <td>Altruistic_Rest_9861</td>\n",
       "      <td>1643317371</td>\n",
       "      <td>showerthoughts</td>\n",
       "      <td>Every woman who is not lesbian is gay, (girls ...</td>\n",
       "      <td>131</td>\n",
       "      <td>26</td>\n",
       "      <td>0</td>\n",
       "    </tr>\n",
       "    <tr>\n",
       "      <th>1</th>\n",
       "      <td>Everyone keeps their phone on silent because w...</td>\n",
       "      <td>NaN</td>\n",
       "      <td>smcmahon710</td>\n",
       "      <td>1643317311</td>\n",
       "      <td>showerthoughts</td>\n",
       "      <td>Everyone keeps their phone on silent because w...</td>\n",
       "      <td>81</td>\n",
       "      <td>13</td>\n",
       "      <td>0</td>\n",
       "    </tr>\n",
       "    <tr>\n",
       "      <th>2</th>\n",
       "      <td>A good book will always be new.</td>\n",
       "      <td>NaN</td>\n",
       "      <td>agreatday248</td>\n",
       "      <td>1643317210</td>\n",
       "      <td>showerthoughts</td>\n",
       "      <td>A good book will always be new.</td>\n",
       "      <td>31</td>\n",
       "      <td>7</td>\n",
       "      <td>0</td>\n",
       "    </tr>\n",
       "    <tr>\n",
       "      <th>3</th>\n",
       "      <td>Science can either prove that no deity exists,...</td>\n",
       "      <td>NaN</td>\n",
       "      <td>shimkei</td>\n",
       "      <td>1643317183</td>\n",
       "      <td>showerthoughts</td>\n",
       "      <td>Science can either prove that no deity exists,...</td>\n",
       "      <td>132</td>\n",
       "      <td>26</td>\n",
       "      <td>0</td>\n",
       "    </tr>\n",
       "    <tr>\n",
       "      <th>4</th>\n",
       "      <td>The fact that I have to actively remind myself...</td>\n",
       "      <td>NaN</td>\n",
       "      <td>DawnMayRise</td>\n",
       "      <td>1643317126</td>\n",
       "      <td>showerthoughts</td>\n",
       "      <td>The fact that I have to actively remind myself...</td>\n",
       "      <td>118</td>\n",
       "      <td>22</td>\n",
       "      <td>0</td>\n",
       "    </tr>\n",
       "  </tbody>\n",
       "</table>\n",
       "</div>"
      ],
      "text/plain": [
       "                                               title text  \\\n",
       "0  Every woman who is not lesbian is gay, (girls ...  NaN   \n",
       "1  Everyone keeps their phone on silent because w...  NaN   \n",
       "2                    A good book will always be new.  NaN   \n",
       "3  Science can either prove that no deity exists,...  NaN   \n",
       "4  The fact that I have to actively remind myself...  NaN   \n",
       "\n",
       "                   auth        time       subreddit  \\\n",
       "0  Altruistic_Rest_9861  1643317371  showerthoughts   \n",
       "1           smcmahon710  1643317311  showerthoughts   \n",
       "2          agreatday248  1643317210  showerthoughts   \n",
       "3               shimkei  1643317183  showerthoughts   \n",
       "4           DawnMayRise  1643317126  showerthoughts   \n",
       "\n",
       "                                           full_text  letter_count  \\\n",
       "0  Every woman who is not lesbian is gay, (girls ...           131   \n",
       "1  Everyone keeps their phone on silent because w...            81   \n",
       "2                    A good book will always be new.            31   \n",
       "3  Science can either prove that no deity exists,...           132   \n",
       "4  The fact that I have to actively remind myself...           118   \n",
       "\n",
       "   word_count  subreddit_code  \n",
       "0          26               0  \n",
       "1          13               0  \n",
       "2           7               0  \n",
       "3          26               0  \n",
       "4          22               0  "
      ]
     },
     "execution_count": 3,
     "metadata": {},
     "output_type": "execute_result"
    }
   ],
   "source": [
    "df_subreddits.head()"
   ]
  },
  {
   "cell_type": "markdown",
   "metadata": {},
   "source": [
    "## Train - Test - Split"
   ]
  },
  {
   "cell_type": "code",
   "execution_count": 5,
   "metadata": {},
   "outputs": [],
   "source": [
    "X = df_subreddits['full_text']\n",
    "\n",
    "y = df_subreddits['subreddit']"
   ]
  },
  {
   "cell_type": "code",
   "execution_count": 6,
   "metadata": {},
   "outputs": [],
   "source": [
    "X_train, X_test, y_train, y_test = train_test_split(X, y, stratify=y, random_state=10)"
   ]
  },
  {
   "cell_type": "code",
   "execution_count": 7,
   "metadata": {},
   "outputs": [
    {
     "data": {
      "text/plain": [
       "(14548,)"
      ]
     },
     "execution_count": 7,
     "metadata": {},
     "output_type": "execute_result"
    }
   ],
   "source": [
    "X_train.shape"
   ]
  },
  {
   "cell_type": "code",
   "execution_count": 8,
   "metadata": {},
   "outputs": [
    {
     "data": {
      "text/plain": [
       "(4850,)"
      ]
     },
     "execution_count": 8,
     "metadata": {},
     "output_type": "execute_result"
    }
   ],
   "source": [
    "X_test.shape"
   ]
  },
  {
   "cell_type": "code",
   "execution_count": 9,
   "metadata": {},
   "outputs": [
    {
     "data": {
      "text/plain": [
       "(14548,)"
      ]
     },
     "execution_count": 9,
     "metadata": {},
     "output_type": "execute_result"
    }
   ],
   "source": [
    "y_train.shape"
   ]
  },
  {
   "cell_type": "code",
   "execution_count": 10,
   "metadata": {},
   "outputs": [
    {
     "data": {
      "text/plain": [
       "(4850,)"
      ]
     },
     "execution_count": 10,
     "metadata": {},
     "output_type": "execute_result"
    }
   ],
   "source": [
    "y_test.shape"
   ]
  },
  {
   "cell_type": "markdown",
   "metadata": {},
   "source": [
    "## Naive Bayes model"
   ]
  },
  {
   "cell_type": "code",
   "execution_count": 11,
   "metadata": {},
   "outputs": [],
   "source": [
    "cv = CountVectorizer()"
   ]
  },
  {
   "cell_type": "code",
   "execution_count": 12,
   "metadata": {},
   "outputs": [],
   "source": [
    "nb = MultinomialNB()"
   ]
  },
  {
   "cell_type": "code",
   "execution_count": 13,
   "metadata": {},
   "outputs": [],
   "source": [
    "pipe = make_pipeline(cv, nb)"
   ]
  },
  {
   "cell_type": "code",
   "execution_count": 14,
   "metadata": {},
   "outputs": [],
   "source": [
    "params = {\n",
    "    'multinomialnb__alpha':[0.1, 2], \n",
    "    'countvectorizer__ngram_range':[(1,2), (1,3)], \n",
    "    'countvectorizer__max_df':[0.8, 0.9, 1],\n",
    "    'countvectorizer__min_df':[0, 0.1, 0.2],\n",
    "    'countvectorizer__stop_words':[None, 'english']\n",
    "}"
   ]
  },
  {
   "cell_type": "code",
   "execution_count": 15,
   "metadata": {},
   "outputs": [],
   "source": [
    "gs = GridSearchCV(pipe, params, n_jobs=-1)"
   ]
  },
  {
   "cell_type": "code",
   "execution_count": 16,
   "metadata": {},
   "outputs": [
    {
     "name": "stderr",
     "output_type": "stream",
     "text": [
      "/Users/annarutledge/opt/anaconda3/lib/python3.9/site-packages/sklearn/model_selection/_validation.py:372: FitFailedWarning: \n",
      "120 fits failed out of a total of 360.\n",
      "The score on these train-test partitions for these parameters will be set to nan.\n",
      "If these failures are not expected, you can try to debug them by setting error_score='raise'.\n",
      "\n",
      "Below are more details about the failures:\n",
      "--------------------------------------------------------------------------------\n",
      "40 fits failed with the following error:\n",
      "Traceback (most recent call last):\n",
      "  File \"/Users/annarutledge/opt/anaconda3/lib/python3.9/site-packages/sklearn/model_selection/_validation.py\", line 680, in _fit_and_score\n",
      "    estimator.fit(X_train, y_train, **fit_params)\n",
      "  File \"/Users/annarutledge/opt/anaconda3/lib/python3.9/site-packages/sklearn/pipeline.py\", line 390, in fit\n",
      "    Xt = self._fit(X, y, **fit_params_steps)\n",
      "  File \"/Users/annarutledge/opt/anaconda3/lib/python3.9/site-packages/sklearn/pipeline.py\", line 348, in _fit\n",
      "    X, fitted_transformer = fit_transform_one_cached(\n",
      "  File \"/Users/annarutledge/opt/anaconda3/lib/python3.9/site-packages/joblib/memory.py\", line 349, in __call__\n",
      "    return self.func(*args, **kwargs)\n",
      "  File \"/Users/annarutledge/opt/anaconda3/lib/python3.9/site-packages/sklearn/pipeline.py\", line 893, in _fit_transform_one\n",
      "    res = transformer.fit_transform(X, y, **fit_params)\n",
      "  File \"/Users/annarutledge/opt/anaconda3/lib/python3.9/site-packages/sklearn/feature_extraction/text.py\", line 1347, in fit_transform\n",
      "    X, self.stop_words_ = self._limit_features(\n",
      "  File \"/Users/annarutledge/opt/anaconda3/lib/python3.9/site-packages/sklearn/feature_extraction/text.py\", line 1179, in _limit_features\n",
      "    raise ValueError(\n",
      "ValueError: After pruning, no terms remain. Try a lower min_df or a higher max_df.\n",
      "\n",
      "--------------------------------------------------------------------------------\n",
      "80 fits failed with the following error:\n",
      "Traceback (most recent call last):\n",
      "  File \"/Users/annarutledge/opt/anaconda3/lib/python3.9/site-packages/sklearn/model_selection/_validation.py\", line 680, in _fit_and_score\n",
      "    estimator.fit(X_train, y_train, **fit_params)\n",
      "  File \"/Users/annarutledge/opt/anaconda3/lib/python3.9/site-packages/sklearn/pipeline.py\", line 390, in fit\n",
      "    Xt = self._fit(X, y, **fit_params_steps)\n",
      "  File \"/Users/annarutledge/opt/anaconda3/lib/python3.9/site-packages/sklearn/pipeline.py\", line 348, in _fit\n",
      "    X, fitted_transformer = fit_transform_one_cached(\n",
      "  File \"/Users/annarutledge/opt/anaconda3/lib/python3.9/site-packages/joblib/memory.py\", line 349, in __call__\n",
      "    return self.func(*args, **kwargs)\n",
      "  File \"/Users/annarutledge/opt/anaconda3/lib/python3.9/site-packages/sklearn/pipeline.py\", line 893, in _fit_transform_one\n",
      "    res = transformer.fit_transform(X, y, **fit_params)\n",
      "  File \"/Users/annarutledge/opt/anaconda3/lib/python3.9/site-packages/sklearn/feature_extraction/text.py\", line 1344, in fit_transform\n",
      "    raise ValueError(\"max_df corresponds to < documents than min_df\")\n",
      "ValueError: max_df corresponds to < documents than min_df\n",
      "\n",
      "  warnings.warn(some_fits_failed_message, FitFailedWarning)\n",
      "/Users/annarutledge/opt/anaconda3/lib/python3.9/site-packages/sklearn/model_selection/_search.py:969: UserWarning: One or more of the test scores are non-finite: [0.80980247 0.64373123 0.75192519 0.65706683 0.808428   0.62255999\n",
      " 0.75268132 0.64483169 0.69088524 0.69095401 0.50982964 0.50982964\n",
      " 0.69088524 0.69095401 0.50982964 0.50982964 0.61114905 0.61059903\n",
      "        nan        nan 0.61114905 0.61059903        nan        nan\n",
      " 0.80980247 0.64373123 0.75192519 0.65706683 0.808428   0.62255999\n",
      " 0.75268132 0.64483169 0.69088524 0.69095401 0.50982964 0.50982964\n",
      " 0.69088524 0.69095401 0.50982964 0.50982964 0.61114905 0.61059903\n",
      "        nan        nan 0.61114905 0.61059903        nan        nan\n",
      " 0.62194191 0.60255777 0.58028564 0.57025012 0.65754808 0.63898859\n",
      " 0.58262272 0.57238108        nan        nan        nan        nan\n",
      "        nan        nan        nan        nan        nan        nan\n",
      "        nan        nan        nan        nan        nan        nan]\n",
      "  warnings.warn(\n"
     ]
    },
    {
     "data": {
      "text/plain": [
       "GridSearchCV(estimator=Pipeline(steps=[('countvectorizer', CountVectorizer()),\n",
       "                                       ('multinomialnb', MultinomialNB())]),\n",
       "             n_jobs=-1,\n",
       "             param_grid={'countvectorizer__max_df': [0.8, 0.9, 1],\n",
       "                         'countvectorizer__min_df': [0, 0.1, 0.2],\n",
       "                         'countvectorizer__ngram_range': [(1, 2), (1, 3)],\n",
       "                         'countvectorizer__stop_words': [None, 'english'],\n",
       "                         'multinomialnb__alpha': [0.1, 2]})"
      ]
     },
     "execution_count": 16,
     "metadata": {},
     "output_type": "execute_result"
    }
   ],
   "source": [
    "gs.fit(X_train, y_train)"
   ]
  },
  {
   "cell_type": "code",
   "execution_count": 17,
   "metadata": {},
   "outputs": [
    {
     "data": {
      "text/plain": [
       "Pipeline(steps=[('countvectorizer',\n",
       "                 CountVectorizer(max_df=0.8, min_df=0, ngram_range=(1, 2))),\n",
       "                ('multinomialnb', MultinomialNB(alpha=0.1))])"
      ]
     },
     "execution_count": 17,
     "metadata": {},
     "output_type": "execute_result"
    }
   ],
   "source": [
    "gs.best_estimator_"
   ]
  },
  {
   "cell_type": "code",
   "execution_count": 28,
   "metadata": {},
   "outputs": [
    {
     "data": {
      "text/html": [
       "<div>\n",
       "<style scoped>\n",
       "    .dataframe tbody tr th:only-of-type {\n",
       "        vertical-align: middle;\n",
       "    }\n",
       "\n",
       "    .dataframe tbody tr th {\n",
       "        vertical-align: top;\n",
       "    }\n",
       "\n",
       "    .dataframe thead th {\n",
       "        text-align: right;\n",
       "    }\n",
       "</style>\n",
       "<table border=\"1\" class=\"dataframe\">\n",
       "  <thead>\n",
       "    <tr style=\"text-align: right;\">\n",
       "      <th></th>\n",
       "      <th>mean_fit_time</th>\n",
       "      <th>std_fit_time</th>\n",
       "      <th>mean_score_time</th>\n",
       "      <th>std_score_time</th>\n",
       "      <th>param_countvectorizer__max_df</th>\n",
       "      <th>param_countvectorizer__min_df</th>\n",
       "      <th>param_countvectorizer__ngram_range</th>\n",
       "      <th>param_countvectorizer__stop_words</th>\n",
       "      <th>param_multinomialnb__alpha</th>\n",
       "      <th>params</th>\n",
       "      <th>split0_test_score</th>\n",
       "      <th>split1_test_score</th>\n",
       "      <th>split2_test_score</th>\n",
       "      <th>split3_test_score</th>\n",
       "      <th>split4_test_score</th>\n",
       "      <th>mean_test_score</th>\n",
       "      <th>std_test_score</th>\n",
       "      <th>rank_test_score</th>\n",
       "    </tr>\n",
       "  </thead>\n",
       "  <tbody>\n",
       "    <tr>\n",
       "      <th>0</th>\n",
       "      <td>1.536943</td>\n",
       "      <td>0.057344</td>\n",
       "      <td>0.201326</td>\n",
       "      <td>0.019447</td>\n",
       "      <td>0.8</td>\n",
       "      <td>0</td>\n",
       "      <td>(1, 2)</td>\n",
       "      <td>None</td>\n",
       "      <td>0.1</td>\n",
       "      <td>{'countvectorizer__max_df': 0.8, 'countvectori...</td>\n",
       "      <td>0.813746</td>\n",
       "      <td>0.804811</td>\n",
       "      <td>0.804467</td>\n",
       "      <td>0.818151</td>\n",
       "      <td>0.807838</td>\n",
       "      <td>0.809802</td>\n",
       "      <td>0.005338</td>\n",
       "      <td>1</td>\n",
       "    </tr>\n",
       "    <tr>\n",
       "      <th>1</th>\n",
       "      <td>1.492611</td>\n",
       "      <td>0.103448</td>\n",
       "      <td>0.209809</td>\n",
       "      <td>0.013244</td>\n",
       "      <td>0.8</td>\n",
       "      <td>0</td>\n",
       "      <td>(1, 2)</td>\n",
       "      <td>None</td>\n",
       "      <td>2</td>\n",
       "      <td>{'countvectorizer__max_df': 0.8, 'countvectori...</td>\n",
       "      <td>0.641924</td>\n",
       "      <td>0.637457</td>\n",
       "      <td>0.649828</td>\n",
       "      <td>0.641458</td>\n",
       "      <td>0.647989</td>\n",
       "      <td>0.643731</td>\n",
       "      <td>0.004541</td>\n",
       "      <td>22</td>\n",
       "    </tr>\n",
       "    <tr>\n",
       "      <th>2</th>\n",
       "      <td>1.055174</td>\n",
       "      <td>0.033841</td>\n",
       "      <td>0.140821</td>\n",
       "      <td>0.013004</td>\n",
       "      <td>0.8</td>\n",
       "      <td>0</td>\n",
       "      <td>(1, 2)</td>\n",
       "      <td>english</td>\n",
       "      <td>0.1</td>\n",
       "      <td>{'countvectorizer__max_df': 0.8, 'countvectori...</td>\n",
       "      <td>0.743299</td>\n",
       "      <td>0.756014</td>\n",
       "      <td>0.748797</td>\n",
       "      <td>0.762118</td>\n",
       "      <td>0.749398</td>\n",
       "      <td>0.751925</td>\n",
       "      <td>0.006499</td>\n",
       "      <td>7</td>\n",
       "    </tr>\n",
       "    <tr>\n",
       "      <th>3</th>\n",
       "      <td>1.098522</td>\n",
       "      <td>0.010460</td>\n",
       "      <td>0.140514</td>\n",
       "      <td>0.017531</td>\n",
       "      <td>0.8</td>\n",
       "      <td>0</td>\n",
       "      <td>(1, 2)</td>\n",
       "      <td>english</td>\n",
       "      <td>2</td>\n",
       "      <td>{'countvectorizer__max_df': 0.8, 'countvectori...</td>\n",
       "      <td>0.651546</td>\n",
       "      <td>0.652577</td>\n",
       "      <td>0.658763</td>\n",
       "      <td>0.657614</td>\n",
       "      <td>0.664833</td>\n",
       "      <td>0.657067</td>\n",
       "      <td>0.004778</td>\n",
       "      <td>18</td>\n",
       "    </tr>\n",
       "    <tr>\n",
       "      <th>4</th>\n",
       "      <td>3.231709</td>\n",
       "      <td>0.142607</td>\n",
       "      <td>0.336878</td>\n",
       "      <td>0.061764</td>\n",
       "      <td>0.8</td>\n",
       "      <td>0</td>\n",
       "      <td>(1, 3)</td>\n",
       "      <td>None</td>\n",
       "      <td>0.1</td>\n",
       "      <td>{'countvectorizer__max_df': 0.8, 'countvectori...</td>\n",
       "      <td>0.808591</td>\n",
       "      <td>0.803093</td>\n",
       "      <td>0.803093</td>\n",
       "      <td>0.815400</td>\n",
       "      <td>0.811963</td>\n",
       "      <td>0.808428</td>\n",
       "      <td>0.004859</td>\n",
       "      <td>3</td>\n",
       "    </tr>\n",
       "    <tr>\n",
       "      <th>...</th>\n",
       "      <td>...</td>\n",
       "      <td>...</td>\n",
       "      <td>...</td>\n",
       "      <td>...</td>\n",
       "      <td>...</td>\n",
       "      <td>...</td>\n",
       "      <td>...</td>\n",
       "      <td>...</td>\n",
       "      <td>...</td>\n",
       "      <td>...</td>\n",
       "      <td>...</td>\n",
       "      <td>...</td>\n",
       "      <td>...</td>\n",
       "      <td>...</td>\n",
       "      <td>...</td>\n",
       "      <td>...</td>\n",
       "      <td>...</td>\n",
       "      <td>...</td>\n",
       "    </tr>\n",
       "    <tr>\n",
       "      <th>67</th>\n",
       "      <td>0.651760</td>\n",
       "      <td>0.042480</td>\n",
       "      <td>0.000000</td>\n",
       "      <td>0.000000</td>\n",
       "      <td>1</td>\n",
       "      <td>0.2</td>\n",
       "      <td>(1, 2)</td>\n",
       "      <td>english</td>\n",
       "      <td>2</td>\n",
       "      <td>{'countvectorizer__max_df': 1, 'countvectorize...</td>\n",
       "      <td>NaN</td>\n",
       "      <td>NaN</td>\n",
       "      <td>NaN</td>\n",
       "      <td>NaN</td>\n",
       "      <td>NaN</td>\n",
       "      <td>NaN</td>\n",
       "      <td>NaN</td>\n",
       "      <td>55</td>\n",
       "    </tr>\n",
       "    <tr>\n",
       "      <th>68</th>\n",
       "      <td>1.492569</td>\n",
       "      <td>0.038819</td>\n",
       "      <td>0.000000</td>\n",
       "      <td>0.000000</td>\n",
       "      <td>1</td>\n",
       "      <td>0.2</td>\n",
       "      <td>(1, 3)</td>\n",
       "      <td>None</td>\n",
       "      <td>0.1</td>\n",
       "      <td>{'countvectorizer__max_df': 1, 'countvectorize...</td>\n",
       "      <td>NaN</td>\n",
       "      <td>NaN</td>\n",
       "      <td>NaN</td>\n",
       "      <td>NaN</td>\n",
       "      <td>NaN</td>\n",
       "      <td>NaN</td>\n",
       "      <td>NaN</td>\n",
       "      <td>56</td>\n",
       "    </tr>\n",
       "    <tr>\n",
       "      <th>69</th>\n",
       "      <td>1.503588</td>\n",
       "      <td>0.040491</td>\n",
       "      <td>0.000000</td>\n",
       "      <td>0.000000</td>\n",
       "      <td>1</td>\n",
       "      <td>0.2</td>\n",
       "      <td>(1, 3)</td>\n",
       "      <td>None</td>\n",
       "      <td>2</td>\n",
       "      <td>{'countvectorizer__max_df': 1, 'countvectorize...</td>\n",
       "      <td>NaN</td>\n",
       "      <td>NaN</td>\n",
       "      <td>NaN</td>\n",
       "      <td>NaN</td>\n",
       "      <td>NaN</td>\n",
       "      <td>NaN</td>\n",
       "      <td>NaN</td>\n",
       "      <td>57</td>\n",
       "    </tr>\n",
       "    <tr>\n",
       "      <th>70</th>\n",
       "      <td>0.940078</td>\n",
       "      <td>0.045438</td>\n",
       "      <td>0.000000</td>\n",
       "      <td>0.000000</td>\n",
       "      <td>1</td>\n",
       "      <td>0.2</td>\n",
       "      <td>(1, 3)</td>\n",
       "      <td>english</td>\n",
       "      <td>0.1</td>\n",
       "      <td>{'countvectorizer__max_df': 1, 'countvectorize...</td>\n",
       "      <td>NaN</td>\n",
       "      <td>NaN</td>\n",
       "      <td>NaN</td>\n",
       "      <td>NaN</td>\n",
       "      <td>NaN</td>\n",
       "      <td>NaN</td>\n",
       "      <td>NaN</td>\n",
       "      <td>68</td>\n",
       "    </tr>\n",
       "    <tr>\n",
       "      <th>71</th>\n",
       "      <td>0.716004</td>\n",
       "      <td>0.105626</td>\n",
       "      <td>0.000000</td>\n",
       "      <td>0.000000</td>\n",
       "      <td>1</td>\n",
       "      <td>0.2</td>\n",
       "      <td>(1, 3)</td>\n",
       "      <td>english</td>\n",
       "      <td>2</td>\n",
       "      <td>{'countvectorizer__max_df': 1, 'countvectorize...</td>\n",
       "      <td>NaN</td>\n",
       "      <td>NaN</td>\n",
       "      <td>NaN</td>\n",
       "      <td>NaN</td>\n",
       "      <td>NaN</td>\n",
       "      <td>NaN</td>\n",
       "      <td>NaN</td>\n",
       "      <td>72</td>\n",
       "    </tr>\n",
       "  </tbody>\n",
       "</table>\n",
       "<p>72 rows × 18 columns</p>\n",
       "</div>"
      ],
      "text/plain": [
       "    mean_fit_time  std_fit_time  mean_score_time  std_score_time  \\\n",
       "0        1.536943      0.057344         0.201326        0.019447   \n",
       "1        1.492611      0.103448         0.209809        0.013244   \n",
       "2        1.055174      0.033841         0.140821        0.013004   \n",
       "3        1.098522      0.010460         0.140514        0.017531   \n",
       "4        3.231709      0.142607         0.336878        0.061764   \n",
       "..            ...           ...              ...             ...   \n",
       "67       0.651760      0.042480         0.000000        0.000000   \n",
       "68       1.492569      0.038819         0.000000        0.000000   \n",
       "69       1.503588      0.040491         0.000000        0.000000   \n",
       "70       0.940078      0.045438         0.000000        0.000000   \n",
       "71       0.716004      0.105626         0.000000        0.000000   \n",
       "\n",
       "   param_countvectorizer__max_df param_countvectorizer__min_df  \\\n",
       "0                            0.8                             0   \n",
       "1                            0.8                             0   \n",
       "2                            0.8                             0   \n",
       "3                            0.8                             0   \n",
       "4                            0.8                             0   \n",
       "..                           ...                           ...   \n",
       "67                             1                           0.2   \n",
       "68                             1                           0.2   \n",
       "69                             1                           0.2   \n",
       "70                             1                           0.2   \n",
       "71                             1                           0.2   \n",
       "\n",
       "   param_countvectorizer__ngram_range param_countvectorizer__stop_words  \\\n",
       "0                              (1, 2)                              None   \n",
       "1                              (1, 2)                              None   \n",
       "2                              (1, 2)                           english   \n",
       "3                              (1, 2)                           english   \n",
       "4                              (1, 3)                              None   \n",
       "..                                ...                               ...   \n",
       "67                             (1, 2)                           english   \n",
       "68                             (1, 3)                              None   \n",
       "69                             (1, 3)                              None   \n",
       "70                             (1, 3)                           english   \n",
       "71                             (1, 3)                           english   \n",
       "\n",
       "   param_multinomialnb__alpha  \\\n",
       "0                         0.1   \n",
       "1                           2   \n",
       "2                         0.1   \n",
       "3                           2   \n",
       "4                         0.1   \n",
       "..                        ...   \n",
       "67                          2   \n",
       "68                        0.1   \n",
       "69                          2   \n",
       "70                        0.1   \n",
       "71                          2   \n",
       "\n",
       "                                               params  split0_test_score  \\\n",
       "0   {'countvectorizer__max_df': 0.8, 'countvectori...           0.813746   \n",
       "1   {'countvectorizer__max_df': 0.8, 'countvectori...           0.641924   \n",
       "2   {'countvectorizer__max_df': 0.8, 'countvectori...           0.743299   \n",
       "3   {'countvectorizer__max_df': 0.8, 'countvectori...           0.651546   \n",
       "4   {'countvectorizer__max_df': 0.8, 'countvectori...           0.808591   \n",
       "..                                                ...                ...   \n",
       "67  {'countvectorizer__max_df': 1, 'countvectorize...                NaN   \n",
       "68  {'countvectorizer__max_df': 1, 'countvectorize...                NaN   \n",
       "69  {'countvectorizer__max_df': 1, 'countvectorize...                NaN   \n",
       "70  {'countvectorizer__max_df': 1, 'countvectorize...                NaN   \n",
       "71  {'countvectorizer__max_df': 1, 'countvectorize...                NaN   \n",
       "\n",
       "    split1_test_score  split2_test_score  split3_test_score  \\\n",
       "0            0.804811           0.804467           0.818151   \n",
       "1            0.637457           0.649828           0.641458   \n",
       "2            0.756014           0.748797           0.762118   \n",
       "3            0.652577           0.658763           0.657614   \n",
       "4            0.803093           0.803093           0.815400   \n",
       "..                ...                ...                ...   \n",
       "67                NaN                NaN                NaN   \n",
       "68                NaN                NaN                NaN   \n",
       "69                NaN                NaN                NaN   \n",
       "70                NaN                NaN                NaN   \n",
       "71                NaN                NaN                NaN   \n",
       "\n",
       "    split4_test_score  mean_test_score  std_test_score  rank_test_score  \n",
       "0            0.807838         0.809802        0.005338                1  \n",
       "1            0.647989         0.643731        0.004541               22  \n",
       "2            0.749398         0.751925        0.006499                7  \n",
       "3            0.664833         0.657067        0.004778               18  \n",
       "4            0.811963         0.808428        0.004859                3  \n",
       "..                ...              ...             ...              ...  \n",
       "67                NaN              NaN             NaN               55  \n",
       "68                NaN              NaN             NaN               56  \n",
       "69                NaN              NaN             NaN               57  \n",
       "70                NaN              NaN             NaN               68  \n",
       "71                NaN              NaN             NaN               72  \n",
       "\n",
       "[72 rows x 18 columns]"
      ]
     },
     "execution_count": 28,
     "metadata": {},
     "output_type": "execute_result"
    }
   ],
   "source": [
    "pd.DataFrame(gs.cv_results_)"
   ]
  },
  {
   "cell_type": "code",
   "execution_count": 18,
   "metadata": {},
   "outputs": [],
   "source": [
    "y_preds = gs.predict(X_test)"
   ]
  },
  {
   "cell_type": "code",
   "execution_count": 19,
   "metadata": {},
   "outputs": [
    {
     "data": {
      "text/plain": [
       "array(['crazyideas', 'crazyideas', 'showerthoughts', ..., 'crazyideas',\n",
       "       'showerthoughts', 'crazyideas'], dtype='<U14')"
      ]
     },
     "execution_count": 19,
     "metadata": {},
     "output_type": "execute_result"
    }
   ],
   "source": [
    "y_preds"
   ]
  },
  {
   "cell_type": "markdown",
   "metadata": {},
   "source": [
    "### Accuracy score"
   ]
  },
  {
   "cell_type": "code",
   "execution_count": 21,
   "metadata": {},
   "outputs": [
    {
     "data": {
      "text/plain": [
       "0.805360824742268"
      ]
     },
     "execution_count": 21,
     "metadata": {},
     "output_type": "execute_result"
    }
   ],
   "source": [
    "gs.score(X_test, y_test)"
   ]
  },
  {
   "cell_type": "code",
   "execution_count": 22,
   "metadata": {},
   "outputs": [
    {
     "data": {
      "text/plain": [
       "0.805360824742268"
      ]
     },
     "execution_count": 22,
     "metadata": {},
     "output_type": "execute_result"
    }
   ],
   "source": [
    "accuracy_score(y_test, y_preds)"
   ]
  },
  {
   "cell_type": "markdown",
   "metadata": {},
   "source": [
    "### Recall/sensitivity score"
   ]
  },
  {
   "cell_type": "code",
   "execution_count": 24,
   "metadata": {},
   "outputs": [
    {
     "data": {
      "text/plain": [
       "0.8810679611650486"
      ]
     },
     "execution_count": 24,
     "metadata": {},
     "output_type": "execute_result"
    }
   ],
   "source": [
    "recall_score(y_test, y_preds, pos_label='crazyideas')"
   ]
  },
  {
   "cell_type": "markdown",
   "metadata": {},
   "source": [
    "### Precision score"
   ]
  },
  {
   "cell_type": "code",
   "execution_count": 25,
   "metadata": {},
   "outputs": [
    {
     "data": {
      "text/plain": [
       "0.7701555869872702"
      ]
     },
     "execution_count": 25,
     "metadata": {},
     "output_type": "execute_result"
    }
   ],
   "source": [
    "precision_score(y_test, y_preds, pos_label='crazyideas')"
   ]
  },
  {
   "cell_type": "markdown",
   "metadata": {},
   "source": [
    "### F1 Score"
   ]
  },
  {
   "cell_type": "code",
   "execution_count": 26,
   "metadata": {},
   "outputs": [
    {
     "data": {
      "text/plain": [
       "0.8218867924528303"
      ]
     },
     "execution_count": 26,
     "metadata": {},
     "output_type": "execute_result"
    }
   ],
   "source": [
    "f1_score(y_test, y_preds, pos_label='crazyideas')"
   ]
  },
  {
   "cell_type": "markdown",
   "metadata": {},
   "source": [
    "### Confusion Matrix"
   ]
  },
  {
   "cell_type": "code",
   "execution_count": 27,
   "metadata": {},
   "outputs": [
    {
     "data": {
      "text/plain": [
       "<sklearn.metrics._plot.confusion_matrix.ConfusionMatrixDisplay at 0x7fdc110b8d90>"
      ]
     },
     "execution_count": 27,
     "metadata": {},
     "output_type": "execute_result"
    },
    {
     "data": {
      "image/png": "[encoded data removed]",
      "text/plain": [
       "<Figure size 432x288 with 2 Axes>"
      ]
     },
     "metadata": {
      "needs_background": "light"
     },
     "output_type": "display_data"
    }
   ],
   "source": [
    "ConfusionMatrixDisplay.from_predictions(y_test, y_preds, cmap='Greens')"
   ]
  },
  {
   "cell_type": "code",
   "execution_count": null,
   "metadata": {},
   "outputs": [],
   "source": []
  }
 ],
 "metadata": {
  "interpreter": {
   "hash": "c90bd41498bd2909e03bc4813e3fc894d3d64fd4c32b3cf57272642761dbfb5b"
  },
  "kernelspec": {
   "display_name": "Python 3.9.7 64-bit ('base': conda)",
   "language": "python",
   "name": "python3"
  },
  "language_info": {
   "codemirror_mode": {
    "name": "ipython",
    "version": 3
   },
   "file_extension": ".py",
   "mimetype": "text/x-python",
   "name": "python",
   "nbconvert_exporter": "python",
   "pygments_lexer": "ipython3",
   "version": "3.9.7"
  },
  "orig_nbformat": 4
 },
 "nbformat": 4,
 "nbformat_minor": 2
}
