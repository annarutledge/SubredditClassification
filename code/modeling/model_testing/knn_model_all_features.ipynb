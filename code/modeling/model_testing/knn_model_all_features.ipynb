{
 "cells": [
  {
   "cell_type": "markdown",
   "metadata": {},
   "source": [
    "## Imports"
   ]
  },
  {
   "cell_type": "code",
   "execution_count": 1,
   "metadata": {},
   "outputs": [],
   "source": [
    "import numpy as np\n",
    "import pandas as pd\n",
    "\n",
    "from sklearn.linear_model import LogisticRegression\n",
    "from sklearn.model_selection import train_test_split, GridSearchCV\n",
    "from sklearn.pipeline import make_pipeline\n",
    "from sklearn.feature_extraction.text import CountVectorizer\n",
    "from sklearn.compose import make_column_selector, make_column_transformer\n",
    "from sklearn.metrics import ConfusionMatrixDisplay, recall_score, accuracy_score,f1_score, precision_score\n",
    "from sklearn.neighbors import KNeighborsClassifier\n"
   ]
  },
  {
   "cell_type": "markdown",
   "metadata": {},
   "source": [
    "## Read in cleaned data"
   ]
  },
  {
   "cell_type": "code",
   "execution_count": 2,
   "metadata": {},
   "outputs": [],
   "source": [
    "df_subreddits = pd.read_csv('/Users/annarutledge/Documents/general_assembly/submissions22/projects/project-3-master/data/subreddits.csv')"
   ]
  },
  {
   "cell_type": "code",
   "execution_count": 3,
   "metadata": {},
   "outputs": [
    {
     "data": {
      "text/html": [
       "<div>\n",
       "<style scoped>\n",
       "    .dataframe tbody tr th:only-of-type {\n",
       "        vertical-align: middle;\n",
       "    }\n",
       "\n",
       "    .dataframe tbody tr th {\n",
       "        vertical-align: top;\n",
       "    }\n",
       "\n",
       "    .dataframe thead th {\n",
       "        text-align: right;\n",
       "    }\n",
       "</style>\n",
       "<table border=\"1\" class=\"dataframe\">\n",
       "  <thead>\n",
       "    <tr style=\"text-align: right;\">\n",
       "      <th></th>\n",
       "      <th>title</th>\n",
       "      <th>text</th>\n",
       "      <th>auth</th>\n",
       "      <th>time</th>\n",
       "      <th>subreddit</th>\n",
       "      <th>full_text</th>\n",
       "      <th>letter_count</th>\n",
       "      <th>word_count</th>\n",
       "      <th>subreddit_code</th>\n",
       "    </tr>\n",
       "  </thead>\n",
       "  <tbody>\n",
       "    <tr>\n",
       "      <th>0</th>\n",
       "      <td>Every woman who is not lesbian is gay, (girls ...</td>\n",
       "      <td>NaN</td>\n",
       "      <td>Altruistic_Rest_9861</td>\n",
       "      <td>1643317371</td>\n",
       "      <td>showerthoughts</td>\n",
       "      <td>Every woman who is not lesbian is gay, (girls ...</td>\n",
       "      <td>131</td>\n",
       "      <td>26</td>\n",
       "      <td>0</td>\n",
       "    </tr>\n",
       "    <tr>\n",
       "      <th>1</th>\n",
       "      <td>Everyone keeps their phone on silent because w...</td>\n",
       "      <td>NaN</td>\n",
       "      <td>smcmahon710</td>\n",
       "      <td>1643317311</td>\n",
       "      <td>showerthoughts</td>\n",
       "      <td>Everyone keeps their phone on silent because w...</td>\n",
       "      <td>81</td>\n",
       "      <td>13</td>\n",
       "      <td>0</td>\n",
       "    </tr>\n",
       "    <tr>\n",
       "      <th>2</th>\n",
       "      <td>A good book will always be new.</td>\n",
       "      <td>NaN</td>\n",
       "      <td>agreatday248</td>\n",
       "      <td>1643317210</td>\n",
       "      <td>showerthoughts</td>\n",
       "      <td>A good book will always be new.</td>\n",
       "      <td>31</td>\n",
       "      <td>7</td>\n",
       "      <td>0</td>\n",
       "    </tr>\n",
       "    <tr>\n",
       "      <th>3</th>\n",
       "      <td>Science can either prove that no deity exists,...</td>\n",
       "      <td>NaN</td>\n",
       "      <td>shimkei</td>\n",
       "      <td>1643317183</td>\n",
       "      <td>showerthoughts</td>\n",
       "      <td>Science can either prove that no deity exists,...</td>\n",
       "      <td>132</td>\n",
       "      <td>26</td>\n",
       "      <td>0</td>\n",
       "    </tr>\n",
       "    <tr>\n",
       "      <th>4</th>\n",
       "      <td>The fact that I have to actively remind myself...</td>\n",
       "      <td>NaN</td>\n",
       "      <td>DawnMayRise</td>\n",
       "      <td>1643317126</td>\n",
       "      <td>showerthoughts</td>\n",
       "      <td>The fact that I have to actively remind myself...</td>\n",
       "      <td>118</td>\n",
       "      <td>22</td>\n",
       "      <td>0</td>\n",
       "    </tr>\n",
       "  </tbody>\n",
       "</table>\n",
       "</div>"
      ],
      "text/plain": [
       "                                               title text  \\\n",
       "0  Every woman who is not lesbian is gay, (girls ...  NaN   \n",
       "1  Everyone keeps their phone on silent because w...  NaN   \n",
       "2                    A good book will always be new.  NaN   \n",
       "3  Science can either prove that no deity exists,...  NaN   \n",
       "4  The fact that I have to actively remind myself...  NaN   \n",
       "\n",
       "                   auth        time       subreddit  \\\n",
       "0  Altruistic_Rest_9861  1643317371  showerthoughts   \n",
       "1           smcmahon710  1643317311  showerthoughts   \n",
       "2          agreatday248  1643317210  showerthoughts   \n",
       "3               shimkei  1643317183  showerthoughts   \n",
       "4           DawnMayRise  1643317126  showerthoughts   \n",
       "\n",
       "                                           full_text  letter_count  \\\n",
       "0  Every woman who is not lesbian is gay, (girls ...           131   \n",
       "1  Everyone keeps their phone on silent because w...            81   \n",
       "2                    A good book will always be new.            31   \n",
       "3  Science can either prove that no deity exists,...           132   \n",
       "4  The fact that I have to actively remind myself...           118   \n",
       "\n",
       "   word_count  subreddit_code  \n",
       "0          26               0  \n",
       "1          13               0  \n",
       "2           7               0  \n",
       "3          26               0  \n",
       "4          22               0  "
      ]
     },
     "execution_count": 3,
     "metadata": {},
     "output_type": "execute_result"
    }
   ],
   "source": [
    "df_subreddits.head()"
   ]
  },
  {
   "cell_type": "markdown",
   "metadata": {},
   "source": [
    "## Train - Test - Split"
   ]
  },
  {
   "cell_type": "code",
   "execution_count": 4,
   "metadata": {},
   "outputs": [],
   "source": [
    "X = df_subreddits[['full_text', 'letter_count', 'word_count']]\n",
    "\n",
    "y = df_subreddits['subreddit']"
   ]
  },
  {
   "cell_type": "code",
   "execution_count": 5,
   "metadata": {},
   "outputs": [],
   "source": [
    "X_train, X_test, y_train, y_test = train_test_split(X, y, stratify=y, random_state=10)"
   ]
  },
  {
   "cell_type": "code",
   "execution_count": 6,
   "metadata": {},
   "outputs": [
    {
     "data": {
      "text/plain": [
       "(14548, 3)"
      ]
     },
     "execution_count": 6,
     "metadata": {},
     "output_type": "execute_result"
    }
   ],
   "source": [
    "X_train.shape"
   ]
  },
  {
   "cell_type": "code",
   "execution_count": 7,
   "metadata": {},
   "outputs": [
    {
     "data": {
      "text/plain": [
       "(4850, 3)"
      ]
     },
     "execution_count": 7,
     "metadata": {},
     "output_type": "execute_result"
    }
   ],
   "source": [
    "X_test.shape"
   ]
  },
  {
   "cell_type": "code",
   "execution_count": 8,
   "metadata": {},
   "outputs": [
    {
     "data": {
      "text/plain": [
       "(14548,)"
      ]
     },
     "execution_count": 8,
     "metadata": {},
     "output_type": "execute_result"
    }
   ],
   "source": [
    "y_train.shape"
   ]
  },
  {
   "cell_type": "code",
   "execution_count": 9,
   "metadata": {},
   "outputs": [
    {
     "data": {
      "text/plain": [
       "(4850,)"
      ]
     },
     "execution_count": 9,
     "metadata": {},
     "output_type": "execute_result"
    }
   ],
   "source": [
    "y_test.shape"
   ]
  },
  {
   "cell_type": "markdown",
   "metadata": {},
   "source": [
    "## KNN model"
   ]
  },
  {
   "cell_type": "code",
   "execution_count": 10,
   "metadata": {},
   "outputs": [],
   "source": [
    "cv = CountVectorizer()"
   ]
  },
  {
   "cell_type": "code",
   "execution_count": 11,
   "metadata": {},
   "outputs": [],
   "source": [
    "text_vectorizer = make_column_transformer((cv, 'full_text'), remainder='passthrough', n_jobs=-1, verbose_feature_names_out=False)"
   ]
  },
  {
   "cell_type": "code",
   "execution_count": 12,
   "metadata": {},
   "outputs": [],
   "source": [
    "knn = KNeighborsClassifier()"
   ]
  },
  {
   "cell_type": "code",
   "execution_count": 13,
   "metadata": {},
   "outputs": [],
   "source": [
    "pipe = make_pipeline(text_vectorizer, knn)"
   ]
  },
  {
   "cell_type": "code",
   "execution_count": 14,
   "metadata": {},
   "outputs": [],
   "source": [
    "params = {\n",
    "    'kneighborsclassifier__n_neighbors':[4, 5, 6], \n",
    "    'kneighborsclassifier__weights':['uniform', 'distance'],\n",
    "    'columntransformer__countvectorizer__ngram_range':[(1,2), (1,3)], \n",
    "    'columntransformer__countvectorizer__max_df':[0.8, 0.9, 1],\n",
    "    'columntransformer__countvectorizer__min_df':[0, 0.1, 0.2],\n",
    "    'columntransformer__countvectorizer__stop_words':[None, 'english']\n",
    "}"
   ]
  },
  {
   "cell_type": "code",
   "execution_count": 15,
   "metadata": {},
   "outputs": [],
   "source": [
    "gs = GridSearchCV(pipe, params, n_jobs=-1)"
   ]
  },
  {
   "cell_type": "code",
   "execution_count": 16,
   "metadata": {},
   "outputs": [
    {
     "name": "stderr",
     "output_type": "stream",
     "text": [
      "/Users/annarutledge/opt/anaconda3/lib/python3.9/site-packages/joblib/externals/loky/process_executor.py:702: UserWarning: A worker stopped while some jobs were given to the executor. This can be caused by a too short worker timeout or by a memory leak.\n",
      "  warnings.warn(\n",
      "/Users/annarutledge/opt/anaconda3/lib/python3.9/site-packages/sklearn/model_selection/_validation.py:372: FitFailedWarning: \n",
      "360 fits failed out of a total of 1080.\n",
      "The score on these train-test partitions for these parameters will be set to nan.\n",
      "If these failures are not expected, you can try to debug them by setting error_score='raise'.\n",
      "\n",
      "Below are more details about the failures:\n",
      "--------------------------------------------------------------------------------\n",
      "120 fits failed with the following error:\n",
      "Traceback (most recent call last):\n",
      "  File \"/Users/annarutledge/opt/anaconda3/lib/python3.9/site-packages/sklearn/model_selection/_validation.py\", line 680, in _fit_and_score\n",
      "    estimator.fit(X_train, y_train, **fit_params)\n",
      "  File \"/Users/annarutledge/opt/anaconda3/lib/python3.9/site-packages/sklearn/pipeline.py\", line 390, in fit\n",
      "    Xt = self._fit(X, y, **fit_params_steps)\n",
      "  File \"/Users/annarutledge/opt/anaconda3/lib/python3.9/site-packages/sklearn/pipeline.py\", line 348, in _fit\n",
      "    X, fitted_transformer = fit_transform_one_cached(\n",
      "  File \"/Users/annarutledge/opt/anaconda3/lib/python3.9/site-packages/joblib/memory.py\", line 349, in __call__\n",
      "    return self.func(*args, **kwargs)\n",
      "  File \"/Users/annarutledge/opt/anaconda3/lib/python3.9/site-packages/sklearn/pipeline.py\", line 893, in _fit_transform_one\n",
      "    res = transformer.fit_transform(X, y, **fit_params)\n",
      "  File \"/Users/annarutledge/opt/anaconda3/lib/python3.9/site-packages/sklearn/compose/_column_transformer.py\", line 675, in fit_transform\n",
      "    result = self._fit_transform(X, y, _fit_transform_one)\n",
      "  File \"/Users/annarutledge/opt/anaconda3/lib/python3.9/site-packages/sklearn/compose/_column_transformer.py\", line 606, in _fit_transform\n",
      "    return Parallel(n_jobs=self.n_jobs)(\n",
      "  File \"/Users/annarutledge/opt/anaconda3/lib/python3.9/site-packages/joblib/parallel.py\", line 1056, in __call__\n",
      "    self.retrieve()\n",
      "  File \"/Users/annarutledge/opt/anaconda3/lib/python3.9/site-packages/joblib/parallel.py\", line 935, in retrieve\n",
      "    self._output.extend(job.get(timeout=self.timeout))\n",
      "  File \"/Users/annarutledge/opt/anaconda3/lib/python3.9/multiprocessing/pool.py\", line 771, in get\n",
      "    raise self._value\n",
      "  File \"/Users/annarutledge/opt/anaconda3/lib/python3.9/multiprocessing/pool.py\", line 125, in worker\n",
      "    result = (True, func(*args, **kwds))\n",
      "  File \"/Users/annarutledge/opt/anaconda3/lib/python3.9/site-packages/joblib/_parallel_backends.py\", line 595, in __call__\n",
      "    return self.func(*args, **kwargs)\n",
      "  File \"/Users/annarutledge/opt/anaconda3/lib/python3.9/site-packages/joblib/parallel.py\", line 262, in __call__\n",
      "    return [func(*args, **kwargs)\n",
      "  File \"/Users/annarutledge/opt/anaconda3/lib/python3.9/site-packages/joblib/parallel.py\", line 262, in <listcomp>\n",
      "    return [func(*args, **kwargs)\n",
      "  File \"/Users/annarutledge/opt/anaconda3/lib/python3.9/site-packages/sklearn/utils/fixes.py\", line 216, in __call__\n",
      "    return self.function(*args, **kwargs)\n",
      "  File \"/Users/annarutledge/opt/anaconda3/lib/python3.9/site-packages/sklearn/pipeline.py\", line 893, in _fit_transform_one\n",
      "    res = transformer.fit_transform(X, y, **fit_params)\n",
      "  File \"/Users/annarutledge/opt/anaconda3/lib/python3.9/site-packages/sklearn/feature_extraction/text.py\", line 1347, in fit_transform\n",
      "    X, self.stop_words_ = self._limit_features(\n",
      "  File \"/Users/annarutledge/opt/anaconda3/lib/python3.9/site-packages/sklearn/feature_extraction/text.py\", line 1179, in _limit_features\n",
      "    raise ValueError(\n",
      "ValueError: After pruning, no terms remain. Try a lower min_df or a higher max_df.\n",
      "\n",
      "--------------------------------------------------------------------------------\n",
      "240 fits failed with the following error:\n",
      "Traceback (most recent call last):\n",
      "  File \"/Users/annarutledge/opt/anaconda3/lib/python3.9/site-packages/sklearn/model_selection/_validation.py\", line 680, in _fit_and_score\n",
      "    estimator.fit(X_train, y_train, **fit_params)\n",
      "  File \"/Users/annarutledge/opt/anaconda3/lib/python3.9/site-packages/sklearn/pipeline.py\", line 390, in fit\n",
      "    Xt = self._fit(X, y, **fit_params_steps)\n",
      "  File \"/Users/annarutledge/opt/anaconda3/lib/python3.9/site-packages/sklearn/pipeline.py\", line 348, in _fit\n",
      "    X, fitted_transformer = fit_transform_one_cached(\n",
      "  File \"/Users/annarutledge/opt/anaconda3/lib/python3.9/site-packages/joblib/memory.py\", line 349, in __call__\n",
      "    return self.func(*args, **kwargs)\n",
      "  File \"/Users/annarutledge/opt/anaconda3/lib/python3.9/site-packages/sklearn/pipeline.py\", line 893, in _fit_transform_one\n",
      "    res = transformer.fit_transform(X, y, **fit_params)\n",
      "  File \"/Users/annarutledge/opt/anaconda3/lib/python3.9/site-packages/sklearn/compose/_column_transformer.py\", line 675, in fit_transform\n",
      "    result = self._fit_transform(X, y, _fit_transform_one)\n",
      "  File \"/Users/annarutledge/opt/anaconda3/lib/python3.9/site-packages/sklearn/compose/_column_transformer.py\", line 606, in _fit_transform\n",
      "    return Parallel(n_jobs=self.n_jobs)(\n",
      "  File \"/Users/annarutledge/opt/anaconda3/lib/python3.9/site-packages/joblib/parallel.py\", line 1056, in __call__\n",
      "    self.retrieve()\n",
      "  File \"/Users/annarutledge/opt/anaconda3/lib/python3.9/site-packages/joblib/parallel.py\", line 935, in retrieve\n",
      "    self._output.extend(job.get(timeout=self.timeout))\n",
      "  File \"/Users/annarutledge/opt/anaconda3/lib/python3.9/multiprocessing/pool.py\", line 771, in get\n",
      "    raise self._value\n",
      "  File \"/Users/annarutledge/opt/anaconda3/lib/python3.9/multiprocessing/pool.py\", line 125, in worker\n",
      "    result = (True, func(*args, **kwds))\n",
      "  File \"/Users/annarutledge/opt/anaconda3/lib/python3.9/site-packages/joblib/_parallel_backends.py\", line 595, in __call__\n",
      "    return self.func(*args, **kwargs)\n",
      "  File \"/Users/annarutledge/opt/anaconda3/lib/python3.9/site-packages/joblib/parallel.py\", line 262, in __call__\n",
      "    return [func(*args, **kwargs)\n",
      "  File \"/Users/annarutledge/opt/anaconda3/lib/python3.9/site-packages/joblib/parallel.py\", line 262, in <listcomp>\n",
      "    return [func(*args, **kwargs)\n",
      "  File \"/Users/annarutledge/opt/anaconda3/lib/python3.9/site-packages/sklearn/utils/fixes.py\", line 216, in __call__\n",
      "    return self.function(*args, **kwargs)\n",
      "  File \"/Users/annarutledge/opt/anaconda3/lib/python3.9/site-packages/sklearn/pipeline.py\", line 893, in _fit_transform_one\n",
      "    res = transformer.fit_transform(X, y, **fit_params)\n",
      "  File \"/Users/annarutledge/opt/anaconda3/lib/python3.9/site-packages/sklearn/feature_extraction/text.py\", line 1344, in fit_transform\n",
      "    raise ValueError(\"max_df corresponds to < documents than min_df\")\n",
      "ValueError: max_df corresponds to < documents than min_df\n",
      "\n",
      "  warnings.warn(some_fits_failed_message, FitFailedWarning)\n",
      "/Users/annarutledge/opt/anaconda3/lib/python3.9/site-packages/sklearn/model_selection/_search.py:969: UserWarning: One or more of the test scores are non-finite: [0.66552082 0.68827353 0.6898545  0.69226028 0.67913136 0.69480357\n",
      " 0.64386841 0.64105016 0.64668642 0.64778622 0.65053585 0.64716747\n",
      " 0.63699499 0.66462747 0.66930139 0.6723258  0.65266726 0.67596942\n",
      " 0.64221812 0.634726   0.64318048 0.64421153 0.64799207 0.64208066\n",
      " 0.64936657 0.65905895 0.66799458 0.669507   0.65926513 0.67287529\n",
      " 0.61011538 0.60283027 0.62963799 0.6235895  0.62152731 0.61582204\n",
      " 0.64936657 0.65905895 0.66799458 0.669507   0.65926513 0.67287529\n",
      " 0.61011538 0.60283027 0.62963799 0.6235895  0.62152731 0.61582204\n",
      " 0.63177042 0.63857534 0.6545911  0.65356026 0.64242452 0.64991732\n",
      "        nan        nan        nan        nan        nan        nan\n",
      " 0.63177042 0.63857534 0.6545911  0.65356026 0.64242452 0.64991732\n",
      "        nan        nan        nan        nan        nan        nan\n",
      " 0.66552082 0.68827353 0.6898545  0.69226028 0.67913136 0.69480357\n",
      " 0.64386841 0.64105016 0.64668642 0.64778622 0.65053585 0.64716747\n",
      " 0.63699499 0.66462747 0.66930139 0.6723258  0.65266726 0.67596942\n",
      " 0.64221812 0.634726   0.64318048 0.64421153 0.64799207 0.64208066\n",
      " 0.64936657 0.65905895 0.66799458 0.669507   0.65926513 0.67287529\n",
      " 0.61011538 0.60283027 0.62963799 0.6235895  0.62152731 0.61582204\n",
      " 0.64936657 0.65905895 0.66799458 0.669507   0.65926513 0.67287529\n",
      " 0.61011538 0.60283027 0.62963799 0.6235895  0.62152731 0.61582204\n",
      " 0.63177042 0.63857534 0.6545911  0.65356026 0.64242452 0.64991732\n",
      "        nan        nan        nan        nan        nan        nan\n",
      " 0.63177042 0.63857534 0.6545911  0.65356026 0.64242452 0.64991732\n",
      "        nan        nan        nan        nan        nan        nan\n",
      " 0.62166564 0.61437922 0.63280078 0.62998246 0.62991408 0.62544578\n",
      " 0.62627048 0.61204209 0.63211399 0.62530871 0.63465734 0.62386536\n",
      " 0.61424209 0.6123863  0.62565292 0.6235903  0.62675224 0.62235347\n",
      " 0.62517222 0.60963718 0.62661516 0.62173478 0.63328268 0.62070423\n",
      "        nan        nan        nan        nan        nan        nan\n",
      "        nan        nan        nan        nan        nan        nan\n",
      "        nan        nan        nan        nan        nan        nan\n",
      "        nan        nan        nan        nan        nan        nan\n",
      "        nan        nan        nan        nan        nan        nan\n",
      "        nan        nan        nan        nan        nan        nan\n",
      "        nan        nan        nan        nan        nan        nan\n",
      "        nan        nan        nan        nan        nan        nan]\n",
      "  warnings.warn(\n"
     ]
    },
    {
     "data": {
      "text/plain": [
       "GridSearchCV(estimator=Pipeline(steps=[('columntransformer',\n",
       "                                        ColumnTransformer(n_jobs=-1,\n",
       "                                                          remainder='passthrough',\n",
       "                                                          transformers=[('countvectorizer',\n",
       "                                                                         CountVectorizer(),\n",
       "                                                                         'full_text')],\n",
       "                                                          verbose_feature_names_out=False)),\n",
       "                                       ('kneighborsclassifier',\n",
       "                                        KNeighborsClassifier())]),\n",
       "             n_jobs=-1,\n",
       "             param_grid={'columntransformer__countvectorizer__max_df': [0.8,\n",
       "                                                                        0.9,\n",
       "                                                                        1],\n",
       "                         'columntransformer__countvectorizer__min_df': [0, 0.1,\n",
       "                                                                        0.2],\n",
       "                         'columntransformer__countvectorizer__ngram_range': [(1,\n",
       "                                                                              2),\n",
       "                                                                             (1,\n",
       "                                                                              3)],\n",
       "                         'columntransformer__countvectorizer__stop_words': [None,\n",
       "                                                                            'english'],\n",
       "                         'kneighborsclassifier__n_neighbors': [4, 5, 6],\n",
       "                         'kneighborsclassifier__weights': ['uniform',\n",
       "                                                           'distance']})"
      ]
     },
     "execution_count": 16,
     "metadata": {},
     "output_type": "execute_result"
    }
   ],
   "source": [
    "gs.fit(X_train, y_train)"
   ]
  },
  {
   "cell_type": "code",
   "execution_count": 19,
   "metadata": {},
   "outputs": [
    {
     "data": {
      "text/plain": [
       "Pipeline(steps=[('columntransformer',\n",
       "                 ColumnTransformer(n_jobs=-1, remainder='passthrough',\n",
       "                                   transformers=[('countvectorizer',\n",
       "                                                  CountVectorizer(max_df=0.8,\n",
       "                                                                  min_df=0,\n",
       "                                                                  ngram_range=(1,\n",
       "                                                                               2)),\n",
       "                                                  'full_text')],\n",
       "                                   verbose_feature_names_out=False)),\n",
       "                ('kneighborsclassifier',\n",
       "                 KNeighborsClassifier(n_neighbors=6, weights='distance'))])"
      ]
     },
     "execution_count": 19,
     "metadata": {},
     "output_type": "execute_result"
    }
   ],
   "source": [
    "gs.best_estimator_"
   ]
  },
  {
   "cell_type": "code",
   "execution_count": 20,
   "metadata": {},
   "outputs": [
    {
     "data": {
      "text/html": [
       "<div>\n",
       "<style scoped>\n",
       "    .dataframe tbody tr th:only-of-type {\n",
       "        vertical-align: middle;\n",
       "    }\n",
       "\n",
       "    .dataframe tbody tr th {\n",
       "        vertical-align: top;\n",
       "    }\n",
       "\n",
       "    .dataframe thead th {\n",
       "        text-align: right;\n",
       "    }\n",
       "</style>\n",
       "<table border=\"1\" class=\"dataframe\">\n",
       "  <thead>\n",
       "    <tr style=\"text-align: right;\">\n",
       "      <th></th>\n",
       "      <th>mean_fit_time</th>\n",
       "      <th>std_fit_time</th>\n",
       "      <th>mean_score_time</th>\n",
       "      <th>std_score_time</th>\n",
       "      <th>param_columntransformer__countvectorizer__max_df</th>\n",
       "      <th>param_columntransformer__countvectorizer__min_df</th>\n",
       "      <th>param_columntransformer__countvectorizer__ngram_range</th>\n",
       "      <th>param_columntransformer__countvectorizer__stop_words</th>\n",
       "      <th>param_kneighborsclassifier__n_neighbors</th>\n",
       "      <th>param_kneighborsclassifier__weights</th>\n",
       "      <th>params</th>\n",
       "      <th>split0_test_score</th>\n",
       "      <th>split1_test_score</th>\n",
       "      <th>split2_test_score</th>\n",
       "      <th>split3_test_score</th>\n",
       "      <th>split4_test_score</th>\n",
       "      <th>mean_test_score</th>\n",
       "      <th>std_test_score</th>\n",
       "      <th>rank_test_score</th>\n",
       "    </tr>\n",
       "  </thead>\n",
       "  <tbody>\n",
       "    <tr>\n",
       "      <th>0</th>\n",
       "      <td>1.841240</td>\n",
       "      <td>0.075790</td>\n",
       "      <td>4.014956</td>\n",
       "      <td>0.078446</td>\n",
       "      <td>0.8</td>\n",
       "      <td>0</td>\n",
       "      <td>(1, 2)</td>\n",
       "      <td>None</td>\n",
       "      <td>4</td>\n",
       "      <td>uniform</td>\n",
       "      <td>{'columntransformer__countvectorizer__max_df':...</td>\n",
       "      <td>0.666323</td>\n",
       "      <td>0.659107</td>\n",
       "      <td>0.674227</td>\n",
       "      <td>0.656927</td>\n",
       "      <td>0.671021</td>\n",
       "      <td>0.665521</td>\n",
       "      <td>0.006659</td>\n",
       "      <td>29</td>\n",
       "    </tr>\n",
       "    <tr>\n",
       "      <th>1</th>\n",
       "      <td>1.650475</td>\n",
       "      <td>0.291076</td>\n",
       "      <td>3.895203</td>\n",
       "      <td>0.096690</td>\n",
       "      <td>0.8</td>\n",
       "      <td>0</td>\n",
       "      <td>(1, 2)</td>\n",
       "      <td>None</td>\n",
       "      <td>4</td>\n",
       "      <td>distance</td>\n",
       "      <td>{'columntransformer__countvectorizer__max_df':...</td>\n",
       "      <td>0.688316</td>\n",
       "      <td>0.680756</td>\n",
       "      <td>0.692440</td>\n",
       "      <td>0.678584</td>\n",
       "      <td>0.701272</td>\n",
       "      <td>0.688274</td>\n",
       "      <td>0.008206</td>\n",
       "      <td>7</td>\n",
       "    </tr>\n",
       "    <tr>\n",
       "      <th>2</th>\n",
       "      <td>1.571317</td>\n",
       "      <td>0.100204</td>\n",
       "      <td>3.948523</td>\n",
       "      <td>0.196636</td>\n",
       "      <td>0.8</td>\n",
       "      <td>0</td>\n",
       "      <td>(1, 2)</td>\n",
       "      <td>None</td>\n",
       "      <td>5</td>\n",
       "      <td>uniform</td>\n",
       "      <td>{'columntransformer__countvectorizer__max_df':...</td>\n",
       "      <td>0.689347</td>\n",
       "      <td>0.676289</td>\n",
       "      <td>0.700687</td>\n",
       "      <td>0.689240</td>\n",
       "      <td>0.693709</td>\n",
       "      <td>0.689854</td>\n",
       "      <td>0.007961</td>\n",
       "      <td>5</td>\n",
       "    </tr>\n",
       "    <tr>\n",
       "      <th>3</th>\n",
       "      <td>1.590082</td>\n",
       "      <td>0.154187</td>\n",
       "      <td>3.890649</td>\n",
       "      <td>0.102057</td>\n",
       "      <td>0.8</td>\n",
       "      <td>0</td>\n",
       "      <td>(1, 2)</td>\n",
       "      <td>None</td>\n",
       "      <td>5</td>\n",
       "      <td>distance</td>\n",
       "      <td>{'columntransformer__countvectorizer__max_df':...</td>\n",
       "      <td>0.692784</td>\n",
       "      <td>0.678007</td>\n",
       "      <td>0.703436</td>\n",
       "      <td>0.690959</td>\n",
       "      <td>0.696116</td>\n",
       "      <td>0.692260</td>\n",
       "      <td>0.008305</td>\n",
       "      <td>3</td>\n",
       "    </tr>\n",
       "    <tr>\n",
       "      <th>4</th>\n",
       "      <td>1.462602</td>\n",
       "      <td>0.107256</td>\n",
       "      <td>3.911137</td>\n",
       "      <td>0.113015</td>\n",
       "      <td>0.8</td>\n",
       "      <td>0</td>\n",
       "      <td>(1, 2)</td>\n",
       "      <td>None</td>\n",
       "      <td>6</td>\n",
       "      <td>uniform</td>\n",
       "      <td>{'columntransformer__countvectorizer__max_df':...</td>\n",
       "      <td>0.681100</td>\n",
       "      <td>0.669759</td>\n",
       "      <td>0.683505</td>\n",
       "      <td>0.676177</td>\n",
       "      <td>0.685115</td>\n",
       "      <td>0.679131</td>\n",
       "      <td>0.005574</td>\n",
       "      <td>9</td>\n",
       "    </tr>\n",
       "    <tr>\n",
       "      <th>...</th>\n",
       "      <td>...</td>\n",
       "      <td>...</td>\n",
       "      <td>...</td>\n",
       "      <td>...</td>\n",
       "      <td>...</td>\n",
       "      <td>...</td>\n",
       "      <td>...</td>\n",
       "      <td>...</td>\n",
       "      <td>...</td>\n",
       "      <td>...</td>\n",
       "      <td>...</td>\n",
       "      <td>...</td>\n",
       "      <td>...</td>\n",
       "      <td>...</td>\n",
       "      <td>...</td>\n",
       "      <td>...</td>\n",
       "      <td>...</td>\n",
       "      <td>...</td>\n",
       "      <td>...</td>\n",
       "    </tr>\n",
       "    <tr>\n",
       "      <th>211</th>\n",
       "      <td>1.455587</td>\n",
       "      <td>0.048883</td>\n",
       "      <td>0.000000</td>\n",
       "      <td>0.000000</td>\n",
       "      <td>1</td>\n",
       "      <td>0.2</td>\n",
       "      <td>(1, 3)</td>\n",
       "      <td>english</td>\n",
       "      <td>4</td>\n",
       "      <td>distance</td>\n",
       "      <td>{'columntransformer__countvectorizer__max_df':...</td>\n",
       "      <td>NaN</td>\n",
       "      <td>NaN</td>\n",
       "      <td>NaN</td>\n",
       "      <td>NaN</td>\n",
       "      <td>NaN</td>\n",
       "      <td>NaN</td>\n",
       "      <td>NaN</td>\n",
       "      <td>162</td>\n",
       "    </tr>\n",
       "    <tr>\n",
       "      <th>212</th>\n",
       "      <td>1.301214</td>\n",
       "      <td>0.057797</td>\n",
       "      <td>0.000000</td>\n",
       "      <td>0.000000</td>\n",
       "      <td>1</td>\n",
       "      <td>0.2</td>\n",
       "      <td>(1, 3)</td>\n",
       "      <td>english</td>\n",
       "      <td>5</td>\n",
       "      <td>uniform</td>\n",
       "      <td>{'columntransformer__countvectorizer__max_df':...</td>\n",
       "      <td>NaN</td>\n",
       "      <td>NaN</td>\n",
       "      <td>NaN</td>\n",
       "      <td>NaN</td>\n",
       "      <td>NaN</td>\n",
       "      <td>NaN</td>\n",
       "      <td>NaN</td>\n",
       "      <td>161</td>\n",
       "    </tr>\n",
       "    <tr>\n",
       "      <th>213</th>\n",
       "      <td>1.227055</td>\n",
       "      <td>0.056524</td>\n",
       "      <td>0.000000</td>\n",
       "      <td>0.000000</td>\n",
       "      <td>1</td>\n",
       "      <td>0.2</td>\n",
       "      <td>(1, 3)</td>\n",
       "      <td>english</td>\n",
       "      <td>5</td>\n",
       "      <td>distance</td>\n",
       "      <td>{'columntransformer__countvectorizer__max_df':...</td>\n",
       "      <td>NaN</td>\n",
       "      <td>NaN</td>\n",
       "      <td>NaN</td>\n",
       "      <td>NaN</td>\n",
       "      <td>NaN</td>\n",
       "      <td>NaN</td>\n",
       "      <td>NaN</td>\n",
       "      <td>160</td>\n",
       "    </tr>\n",
       "    <tr>\n",
       "      <th>214</th>\n",
       "      <td>1.324017</td>\n",
       "      <td>0.053298</td>\n",
       "      <td>0.000000</td>\n",
       "      <td>0.000000</td>\n",
       "      <td>1</td>\n",
       "      <td>0.2</td>\n",
       "      <td>(1, 3)</td>\n",
       "      <td>english</td>\n",
       "      <td>6</td>\n",
       "      <td>uniform</td>\n",
       "      <td>{'columntransformer__countvectorizer__max_df':...</td>\n",
       "      <td>NaN</td>\n",
       "      <td>NaN</td>\n",
       "      <td>NaN</td>\n",
       "      <td>NaN</td>\n",
       "      <td>NaN</td>\n",
       "      <td>NaN</td>\n",
       "      <td>NaN</td>\n",
       "      <td>191</td>\n",
       "    </tr>\n",
       "    <tr>\n",
       "      <th>215</th>\n",
       "      <td>1.112843</td>\n",
       "      <td>0.145411</td>\n",
       "      <td>0.000000</td>\n",
       "      <td>0.000000</td>\n",
       "      <td>1</td>\n",
       "      <td>0.2</td>\n",
       "      <td>(1, 3)</td>\n",
       "      <td>english</td>\n",
       "      <td>6</td>\n",
       "      <td>distance</td>\n",
       "      <td>{'columntransformer__countvectorizer__max_df':...</td>\n",
       "      <td>NaN</td>\n",
       "      <td>NaN</td>\n",
       "      <td>NaN</td>\n",
       "      <td>NaN</td>\n",
       "      <td>NaN</td>\n",
       "      <td>NaN</td>\n",
       "      <td>NaN</td>\n",
       "      <td>216</td>\n",
       "    </tr>\n",
       "  </tbody>\n",
       "</table>\n",
       "<p>216 rows × 19 columns</p>\n",
       "</div>"
      ],
      "text/plain": [
       "     mean_fit_time  std_fit_time  mean_score_time  std_score_time  \\\n",
       "0         1.841240      0.075790         4.014956        0.078446   \n",
       "1         1.650475      0.291076         3.895203        0.096690   \n",
       "2         1.571317      0.100204         3.948523        0.196636   \n",
       "3         1.590082      0.154187         3.890649        0.102057   \n",
       "4         1.462602      0.107256         3.911137        0.113015   \n",
       "..             ...           ...              ...             ...   \n",
       "211       1.455587      0.048883         0.000000        0.000000   \n",
       "212       1.301214      0.057797         0.000000        0.000000   \n",
       "213       1.227055      0.056524         0.000000        0.000000   \n",
       "214       1.324017      0.053298         0.000000        0.000000   \n",
       "215       1.112843      0.145411         0.000000        0.000000   \n",
       "\n",
       "    param_columntransformer__countvectorizer__max_df  \\\n",
       "0                                                0.8   \n",
       "1                                                0.8   \n",
       "2                                                0.8   \n",
       "3                                                0.8   \n",
       "4                                                0.8   \n",
       "..                                               ...   \n",
       "211                                                1   \n",
       "212                                                1   \n",
       "213                                                1   \n",
       "214                                                1   \n",
       "215                                                1   \n",
       "\n",
       "    param_columntransformer__countvectorizer__min_df  \\\n",
       "0                                                  0   \n",
       "1                                                  0   \n",
       "2                                                  0   \n",
       "3                                                  0   \n",
       "4                                                  0   \n",
       "..                                               ...   \n",
       "211                                              0.2   \n",
       "212                                              0.2   \n",
       "213                                              0.2   \n",
       "214                                              0.2   \n",
       "215                                              0.2   \n",
       "\n",
       "    param_columntransformer__countvectorizer__ngram_range  \\\n",
       "0                                               (1, 2)      \n",
       "1                                               (1, 2)      \n",
       "2                                               (1, 2)      \n",
       "3                                               (1, 2)      \n",
       "4                                               (1, 2)      \n",
       "..                                                 ...      \n",
       "211                                             (1, 3)      \n",
       "212                                             (1, 3)      \n",
       "213                                             (1, 3)      \n",
       "214                                             (1, 3)      \n",
       "215                                             (1, 3)      \n",
       "\n",
       "    param_columntransformer__countvectorizer__stop_words  \\\n",
       "0                                                 None     \n",
       "1                                                 None     \n",
       "2                                                 None     \n",
       "3                                                 None     \n",
       "4                                                 None     \n",
       "..                                                 ...     \n",
       "211                                            english     \n",
       "212                                            english     \n",
       "213                                            english     \n",
       "214                                            english     \n",
       "215                                            english     \n",
       "\n",
       "    param_kneighborsclassifier__n_neighbors  \\\n",
       "0                                         4   \n",
       "1                                         4   \n",
       "2                                         5   \n",
       "3                                         5   \n",
       "4                                         6   \n",
       "..                                      ...   \n",
       "211                                       4   \n",
       "212                                       5   \n",
       "213                                       5   \n",
       "214                                       6   \n",
       "215                                       6   \n",
       "\n",
       "    param_kneighborsclassifier__weights  \\\n",
       "0                               uniform   \n",
       "1                              distance   \n",
       "2                               uniform   \n",
       "3                              distance   \n",
       "4                               uniform   \n",
       "..                                  ...   \n",
       "211                            distance   \n",
       "212                             uniform   \n",
       "213                            distance   \n",
       "214                             uniform   \n",
       "215                            distance   \n",
       "\n",
       "                                                params  split0_test_score  \\\n",
       "0    {'columntransformer__countvectorizer__max_df':...           0.666323   \n",
       "1    {'columntransformer__countvectorizer__max_df':...           0.688316   \n",
       "2    {'columntransformer__countvectorizer__max_df':...           0.689347   \n",
       "3    {'columntransformer__countvectorizer__max_df':...           0.692784   \n",
       "4    {'columntransformer__countvectorizer__max_df':...           0.681100   \n",
       "..                                                 ...                ...   \n",
       "211  {'columntransformer__countvectorizer__max_df':...                NaN   \n",
       "212  {'columntransformer__countvectorizer__max_df':...                NaN   \n",
       "213  {'columntransformer__countvectorizer__max_df':...                NaN   \n",
       "214  {'columntransformer__countvectorizer__max_df':...                NaN   \n",
       "215  {'columntransformer__countvectorizer__max_df':...                NaN   \n",
       "\n",
       "     split1_test_score  split2_test_score  split3_test_score  \\\n",
       "0             0.659107           0.674227           0.656927   \n",
       "1             0.680756           0.692440           0.678584   \n",
       "2             0.676289           0.700687           0.689240   \n",
       "3             0.678007           0.703436           0.690959   \n",
       "4             0.669759           0.683505           0.676177   \n",
       "..                 ...                ...                ...   \n",
       "211                NaN                NaN                NaN   \n",
       "212                NaN                NaN                NaN   \n",
       "213                NaN                NaN                NaN   \n",
       "214                NaN                NaN                NaN   \n",
       "215                NaN                NaN                NaN   \n",
       "\n",
       "     split4_test_score  mean_test_score  std_test_score  rank_test_score  \n",
       "0             0.671021         0.665521        0.006659               29  \n",
       "1             0.701272         0.688274        0.008206                7  \n",
       "2             0.693709         0.689854        0.007961                5  \n",
       "3             0.696116         0.692260        0.008305                3  \n",
       "4             0.685115         0.679131        0.005574                9  \n",
       "..                 ...              ...             ...              ...  \n",
       "211                NaN              NaN             NaN              162  \n",
       "212                NaN              NaN             NaN              161  \n",
       "213                NaN              NaN             NaN              160  \n",
       "214                NaN              NaN             NaN              191  \n",
       "215                NaN              NaN             NaN              216  \n",
       "\n",
       "[216 rows x 19 columns]"
      ]
     },
     "execution_count": 20,
     "metadata": {},
     "output_type": "execute_result"
    }
   ],
   "source": [
    "pd.DataFrame(gs.cv_results_)"
   ]
  },
  {
   "cell_type": "code",
   "execution_count": 21,
   "metadata": {},
   "outputs": [],
   "source": [
    "y_preds = gs.predict(X_test)"
   ]
  },
  {
   "cell_type": "code",
   "execution_count": 22,
   "metadata": {},
   "outputs": [
    {
     "data": {
      "text/plain": [
       "array(['showerthoughts', 'crazyideas', 'crazyideas', ...,\n",
       "       'showerthoughts', 'crazyideas', 'crazyideas'], dtype=object)"
      ]
     },
     "execution_count": 22,
     "metadata": {},
     "output_type": "execute_result"
    }
   ],
   "source": [
    "y_preds"
   ]
  },
  {
   "cell_type": "markdown",
   "metadata": {},
   "source": [
    "### Accuracy score"
   ]
  },
  {
   "cell_type": "code",
   "execution_count": 23,
   "metadata": {},
   "outputs": [
    {
     "data": {
      "text/plain": [
       "0.7010309278350515"
      ]
     },
     "execution_count": 23,
     "metadata": {},
     "output_type": "execute_result"
    }
   ],
   "source": [
    "gs.score(X_test, y_test)"
   ]
  },
  {
   "cell_type": "code",
   "execution_count": 24,
   "metadata": {},
   "outputs": [
    {
     "data": {
      "text/plain": [
       "0.7010309278350515"
      ]
     },
     "execution_count": 24,
     "metadata": {},
     "output_type": "execute_result"
    }
   ],
   "source": [
    "accuracy_score(y_test, y_preds)"
   ]
  },
  {
   "cell_type": "markdown",
   "metadata": {},
   "source": [
    "### Recall/sensitivity score"
   ]
  },
  {
   "cell_type": "code",
   "execution_count": 25,
   "metadata": {},
   "outputs": [
    {
     "data": {
      "text/plain": [
       "0.7653721682847896"
      ]
     },
     "execution_count": 25,
     "metadata": {},
     "output_type": "execute_result"
    }
   ],
   "source": [
    "recall_score(y_test, y_preds, pos_label='crazyideas')"
   ]
  },
  {
   "cell_type": "markdown",
   "metadata": {},
   "source": [
    "### Precision score"
   ]
  },
  {
   "cell_type": "code",
   "execution_count": 26,
   "metadata": {},
   "outputs": [
    {
     "data": {
      "text/plain": [
       "0.6850108616944244"
      ]
     },
     "execution_count": 26,
     "metadata": {},
     "output_type": "execute_result"
    }
   ],
   "source": [
    "precision_score(y_test, y_preds, pos_label='crazyideas')"
   ]
  },
  {
   "cell_type": "markdown",
   "metadata": {},
   "source": [
    "### F1 Score"
   ]
  },
  {
   "cell_type": "code",
   "execution_count": 27,
   "metadata": {},
   "outputs": [
    {
     "data": {
      "text/plain": [
       "0.722965227359572"
      ]
     },
     "execution_count": 27,
     "metadata": {},
     "output_type": "execute_result"
    }
   ],
   "source": [
    "f1_score(y_test, y_preds, pos_label='crazyideas')"
   ]
  },
  {
   "cell_type": "markdown",
   "metadata": {},
   "source": [
    "### Confusion Matrix"
   ]
  },
  {
   "cell_type": "code",
   "execution_count": 28,
   "metadata": {},
   "outputs": [
    {
     "data": {
      "image/png": "[encoded data removed]",
      "text/plain": [
       "<Figure size 432x288 with 2 Axes>"
      ]
     },
     "metadata": {
      "needs_background": "light"
     },
     "output_type": "display_data"
    }
   ],
   "source": [
    "ConfusionMatrixDisplay.from_predictions(y_test, y_preds, cmap='Greens');"
   ]
  }
 ],
 "metadata": {
  "interpreter": {
   "hash": "c90bd41498bd2909e03bc4813e3fc894d3d64fd4c32b3cf57272642761dbfb5b"
  },
  "kernelspec": {
   "display_name": "Python 3.9.7 64-bit ('base': conda)",
   "language": "python",
   "name": "python3"
  },
  "language_info": {
   "codemirror_mode": {
    "name": "ipython",
    "version": 3
   },
   "file_extension": ".py",
   "mimetype": "text/x-python",
   "name": "python",
   "nbconvert_exporter": "python",
   "pygments_lexer": "ipython3",
   "version": "3.9.7"
  },
  "orig_nbformat": 4
 },
 "nbformat": 4,
 "nbformat_minor": 2
}
